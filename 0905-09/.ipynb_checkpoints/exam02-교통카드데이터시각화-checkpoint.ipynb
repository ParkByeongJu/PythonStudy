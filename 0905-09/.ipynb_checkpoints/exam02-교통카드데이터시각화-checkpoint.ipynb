{
 "cells": [
  {
   "cell_type": "markdown",
   "id": "ae4eb6e3",
   "metadata": {},
   "source": [
    "### 유임승차 승객수가 가장 많은 역과 승객수 조회"
   ]
  },
  {
   "cell_type": "code",
   "execution_count": 1,
   "id": "e63794cf",
   "metadata": {},
   "outputs": [],
   "source": [
    "import csv\n",
    "import matplotlib.pyplot as plt"
   ]
  },
  {
   "cell_type": "code",
   "execution_count": 2,
   "id": "d6cc2996",
   "metadata": {},
   "outputs": [
    {
     "name": "stdout",
     "output_type": "stream",
     "text": [
      "유임승차 승객수가 가장많은 역은 [강남]이고, 승객수는 2135670이다.\n"
     ]
    }
   ],
   "source": [
    "with open('data/202308_subway.csv', 'r', encoding='utf-8') as file:\n",
    "    data = csv.reader(file)\n",
    "    next(data)\n",
    "    maxInfo = ['', 0] \n",
    "    # maxInfo[0] : 유임승차 승객수가 가장 많은 역\n",
    "    # maxInfo[1] :  유임승차 승객수가 가장 많은 역의 승객수\n",
    "    for row in data:\n",
    "        row[4] = int(row[4].replace(\",\", ''))\n",
    "        if row[4] >  maxInfo[1]:\n",
    "            maxInfo[0] = row[3]\n",
    "            maxInfo[1] = row[4]\n",
    "            \n",
    "    print(f'유임승차 승객수가 가장많은 역은 [{maxInfo[0]}]이고, 승객수는 {maxInfo[1]}이다.')"
   ]
  },
  {
   "cell_type": "markdown",
   "id": "8f44b579",
   "metadata": {},
   "source": [
    "### 유임승차, 유임하차, 무임승차, 무임하차 승객수가 가장많은 역"
   ]
  },
  {
   "cell_type": "code",
   "execution_count": 3,
   "id": "c8fb1a89",
   "metadata": {},
   "outputs": [
    {
     "name": "stdout",
     "output_type": "stream",
     "text": [
      "유임승차 : 강남(2135670명)\n",
      "유임하차 : 홍대입구(2100640명)\n",
      "무임승차 : 영등포(279986명)\n",
      "무임하차 : 영등포(280606명)\n"
     ]
    }
   ],
   "source": [
    "with open('data/202308_subway.csv', 'r', encoding='utf-8') as file:\n",
    "    data = csv.reader(file)\n",
    "    next(data)\n",
    "    stations = [''] * 4\n",
    "    max_persons = [0] * 4\n",
    "#     print(stations, max_persons)\n",
    "    for row in data:\n",
    "        for i in range(4):\n",
    "            person = int(row[4+i].replace(',', ''))\n",
    "            if person > max_persons[i]:\n",
    "                stations[i] = row[3]\n",
    "                max_persons[i] = person\n",
    "    \n",
    "    titles = ['유임승차', '유임하차', '무임승차', '무임하차']\n",
    "    for i in range(len(stations)):\n",
    "        print(f'{titles[i]} : {stations[i]}({max_persons[i]}명)')"
   ]
  },
  {
   "cell_type": "markdown",
   "id": "432814af",
   "metadata": {},
   "source": [
    "### 출근시간(오전7시)에 가장 많은 승객이 승차하는 역을 검색"
   ]
  },
  {
   "cell_type": "code",
   "execution_count": 4,
   "id": "a3425380",
   "metadata": {},
   "outputs": [
    {
     "name": "stdout",
     "output_type": "stream",
     "text": [
      "승차 신림(2호선) : 186200명, 하차 역삼(2호선) : 156824명\n"
     ]
    }
   ],
   "source": [
    "with open('data/202308_time.csv', 'r', encoding='utf-8') as file:\n",
    "    data = csv.reader(file)\n",
    "    next(data)\n",
    "    next(data)\n",
    "    station = ''\n",
    "    max_person = 0\n",
    "    station2 = ''\n",
    "    max_person2 = 0\n",
    "    for row in data:\n",
    "        person = int(row[10].replace(\",\", ''))\n",
    "        person2 = int(row[11].replace(\",\", ''))\n",
    "        if person > max_person:\n",
    "            station = f'{row[3]}({row[1]})'\n",
    "            max_person = person\n",
    "        if person2 > max_person2:\n",
    "            station2 = f'{row[3]}({row[1]})'\n",
    "            max_person2 = person2\n",
    "    print(f'승차 {station} : {max_person}명, 하차 {station2} : {max_person2}명')\n",
    "        "
   ]
  },
  {
   "cell_type": "markdown",
   "id": "0e581573",
   "metadata": {},
   "source": [
    "### 출근시간대(7시, 8시, 9시) 승차승객수가 가장 많은 역 조회"
   ]
  },
  {
   "cell_type": "code",
   "execution_count": 5,
   "id": "d7d888c6",
   "metadata": {},
   "outputs": [
    {
     "name": "stdout",
     "output_type": "stream",
     "text": [
      "신림(2호선) : 613852명\n"
     ]
    },
    {
     "data": {
      "image/png": "[encoded data removed]",
      "text/plain": [
       "<Figure size 640x480 with 1 Axes>"
      ]
     },
     "metadata": {},
     "output_type": "display_data"
    }
   ],
   "source": [
    "# a = ['12','9','234','5']\n",
    "# a = list(map(int,a))\n",
    "# print(a, type(a))\n",
    "\n",
    "def to_int(data):\n",
    "    return int(data.replace(',', ''))\n",
    "\n",
    "with open('data/202308_time.csv', 'r', encoding='utf-8') as file:\n",
    "    data = csv.reader(file)\n",
    "    next(data)\n",
    "    next(data)\n",
    "    max_persons = [0]\n",
    "    stations = ''\n",
    "    for row in data:\n",
    "        persons = row[10:15:2]\n",
    "        persons = list(map(to_int, persons))\n",
    "#         print(persons, sum(persons))\n",
    "#         persons = [ int(p.replace(\",\", '')) for p in row[10:15:2]]\n",
    "#         print(persons, sum(persons))\n",
    "\n",
    "        if sum(persons) > sum(max_persons):\n",
    "            stations = f'{row[3]}({row[1]})'\n",
    "            max_persons = persons\n",
    "    print(f'{stations} : {sum(max_persons)}명')\n",
    "    \n",
    "    plt.rc('font', family='gulim')\n",
    "    plt.pie(max_persons, labels=['7시', '8시', '9시'], autopct='%.2f%%')"
   ]
  },
  {
   "cell_type": "markdown",
   "id": "ba56fdee",
   "metadata": {},
   "source": [
    "### 1. 시간대를 입력(24시) : 9\n",
    "### 2. 9시대에 가장 많은 승차인원을 가진 역과 인원수 출력"
   ]
  },
  {
   "cell_type": "code",
   "execution_count": 7,
   "id": "b671fb54",
   "metadata": {},
   "outputs": [
    {
     "name": "stdout",
     "output_type": "stream",
     "text": [
      "시간을 입력해주세요(24시간) : 22\n",
      "22시에 가장 많이 승차 홍대입구(2호선) : 183147명\n"
     ]
    }
   ],
   "source": [
    "with open('data/202308_time.csv', 'r', encoding='utf-8') as file:\n",
    "    data = csv.reader(file)\n",
    "    next(data)\n",
    "    next(data)\n",
    "    station = ''\n",
    "    max_person = 0\n",
    "    time = int(input(\"시간을 입력해주세요(24시간) : \"))\n",
    "    for row in data:\n",
    "        person = int(row[2 * time - 4].replace(\",\", ''))\n",
    "        if person > max_person:\n",
    "            station = f'{row[3]}({row[1]})'\n",
    "            max_person = person\n",
    "    print(f'{time}시에 가장 많이 승차 {station} : {max_person}명')"
   ]
  },
  {
   "cell_type": "code",
   "execution_count": 13,
   "id": "89902dc0",
   "metadata": {},
   "outputs": [
    {
     "name": "stdout",
     "output_type": "stream",
     "text": [
      "시간을 입력해주세요(24시간) : 22\n",
      "22시에 가장 많이 승차 홍대입구(2호선) : 183147명\n"
     ]
    }
   ],
   "source": [
    "with open('data/202308_time.csv', 'r', encoding='utf-8') as file:\n",
    "    data = csv.reader(file)\n",
    "    next(data)\n",
    "    next(data)\n",
    "    time = int(input(\"시간을 입력해주세요(24시간) : \"))\n",
    "    \n",
    "    \n",
    "    station =''\n",
    "    max_persons = 0\n",
    "    index = time * 2 - 4\n",
    "    for row in data:\n",
    "        row[index] = row[index].replace(',', '')\n",
    "        if max_persons < int(row[index]) :\n",
    "            max_persons = int(row[index])\n",
    "            station = f'{row[3]}({row[1]})'\n",
    "    print(f'{time}시에 가장 많이 승차 {station} : {max_person}명')"
   ]
  },
  {
   "cell_type": "code",
   "execution_count": null,
   "id": "f2116573",
   "metadata": {},
   "outputs": [],
   "source": [
    "with open('data/202308_time.csv', 'r', encoding='utf-8') as file:\n",
    "    data = csv.reader(file)\n",
    "    next(data)\n",
    "    next(data)\n",
    "    station =''\n",
    "    max_persons = 0\n",
    "    for row in data:\n",
    "        "
   ]
  }
 ],
 "metadata": {
  "kernelspec": {
   "display_name": "TensorflowPy310",
   "language": "python",
   "name": "tensorflowpy310"
  },
  "language_info": {
   "codemirror_mode": {
    "name": "ipython",
    "version": 3
   },
   "file_extension": ".py",
   "mimetype": "text/x-python",
   "name": "python",
   "nbconvert_exporter": "python",
   "pygments_lexer": "ipython3",
   "version": "3.10.12"
  }
 },
 "nbformat": 4,
 "nbformat_minor": 5
}
