{
 "cells": [
  {
   "cell_type": "code",
   "execution_count": 1,
   "id": "a067f879",
   "metadata": {},
   "outputs": [
    {
     "name": "stdout",
     "output_type": "stream",
     "text": [
      "1 를 더하는중...\n",
      "2 를 더하는중...\n",
      "3 를 더하는중...\n",
      "4 를 더하는중...\n",
      "5 를 더하는중...\n",
      "합계는  15\n"
     ]
    }
   ],
   "source": [
    "sum = 0\n",
    "for i in [1,2,3,4,5]:\n",
    "    print(i, '를 더하는중...')\n",
    "    sum += i\n",
    "print('합계는 ', sum)"
   ]
  },
  {
   "cell_type": "code",
   "execution_count": 2,
   "id": "a21f1991",
   "metadata": {},
   "outputs": [
    {
     "name": "stdout",
     "output_type": "stream",
     "text": [
      "변수 i의 값 = 5\n",
      "변수 i의 값 = 6\n",
      "변수 i의 값 = 7\n",
      "변수 i의 값 = 8\n",
      "변수 i의 값 = 9\n",
      "\n",
      "변수 i의 값 = 1\n",
      "변수 i의 값 = 4\n",
      "변수 i의 값 = 7\n",
      "\n",
      "변수 i의 값 = 10\n",
      "변수 i의 값 = 9\n",
      "변수 i의 값 = 8\n"
     ]
    }
   ],
   "source": [
    "for i in range(5,10):\n",
    "    print(\"변수 i의 값 =\", i)\n",
    "print()\n",
    "\n",
    "for i in range(1,10,3):\n",
    "    print('변수 i의 값 =', i)\n",
    "print()\n",
    "\n",
    "for i in range(10,7,-1):\n",
    "    print('변수 i의 값 =', i)\n",
    "    "
   ]
  },
  {
   "cell_type": "code",
   "execution_count": 4,
   "id": "0631427f",
   "metadata": {},
   "outputs": [
    {
     "name": "stdout",
     "output_type": "stream",
     "text": [
      "엄마, 다됐어?아니\n",
      "엄마, 다됐어?아니\n",
      "엄마, 다됐어?안\n",
      "먹자\n"
     ]
    }
   ],
   "source": [
    "response = '아니'\n",
    "while response =='아니':\n",
    "    response = input('엄마, 다됐어?')\n",
    "print('먹자')"
   ]
  },
  {
   "cell_type": "code",
   "execution_count": null,
   "id": "fad24cec",
   "metadata": {},
   "outputs": [],
   "source": [
    "\"\""
   ]
  }
 ],
 "metadata": {
  "kernelspec": {
   "display_name": "TensorflowPy310",
   "language": "python",
   "name": "tensorflowpy310"
  },
  "language_info": {
   "codemirror_mode": {
    "name": "ipython",
    "version": 3
   },
   "file_extension": ".py",
   "mimetype": "text/x-python",
   "name": "python",
   "nbconvert_exporter": "python",
   "pygments_lexer": "ipython3",
   "version": "3.10.12"
  }
 },
 "nbformat": 4,
 "nbformat_minor": 5
}
