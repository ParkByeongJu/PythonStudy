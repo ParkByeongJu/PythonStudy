{
 "cells": [
  {
   "cell_type": "code",
   "execution_count": 2,
   "metadata": {},
   "outputs": [],
   "source": [
    "import numpy as np\n",
    "from numpy import dot\n",
    "from numpy.linalg import norm"
   ]
  },
  {
   "cell_type": "code",
   "execution_count": 3,
   "metadata": {},
   "outputs": [
    {
     "name": "stdout",
     "output_type": "stream",
     "text": [
      "문서 1과 문서2의 유사도 0.6666666666666667\n",
      "문서 1과 문서3의 유사도 0.6666666666666667\n",
      "문서 2과 문서3의 유사도 1.0000000000000002\n"
     ]
    }
   ],
   "source": [
    "def cos_sim(A, B):\n",
    "    return dot(A, B)/ (norm(A)*norm(B))\n",
    "\n",
    "doc1 = np.array([0,1,1,1])\n",
    "doc2 = np.array([1,0,1,1])\n",
    "doc3 = np.array([2,0,2,2])\n",
    "\n",
    "print(\"문서 1과 문서2의 유사도\", cos_sim(doc1, doc2))\n",
    "print(\"문서 1과 문서3의 유사도\", cos_sim(doc1, doc3))\n",
    "print(\"문서 2과 문서3의 유사도\", cos_sim(doc2, doc3))"
   ]
  }
 ],
 "metadata": {
  "kernelspec": {
   "display_name": "python",
   "language": "python",
   "name": "python3"
  },
  "language_info": {
   "codemirror_mode": {
    "name": "ipython",
    "version": 3
   },
   "file_extension": ".py",
   "mimetype": "text/x-python",
   "name": "python",
   "nbconvert_exporter": "python",
   "pygments_lexer": "ipython3",
   "version": "3.10.13"
  }
 },
 "nbformat": 4,
 "nbformat_minor": 2
}
