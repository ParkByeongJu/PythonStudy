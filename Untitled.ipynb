{
 "cells": [
  {
   "cell_type": "code",
   "execution_count": null,
   "id": "3a8ea073",
   "metadata": {},
   "outputs": [],
   "source": [
    "sum = 0\n",
    "for i in [1,2,3,4,5]:\n",
    "    print(i, '를 더하는중...')\n",
    "    sum += i\n",
    "print('합계는 ', sum)"
   ]
  },
  {
   "cell_type": "code",
   "execution_count": null,
   "id": "0aedaf1c",
   "metadata": {},
   "outputs": [],
   "source": [
    "for i in range(5,10):\n",
    "    print(\"변수 i의 값 =\", i)\n",
    "print()\n",
    "\n",
    "for i in range(1,10,3):\n",
    "    print('변수 i의 값 =', i)\n",
    "print()\n",
    "\n",
    "for i in range(10,7,-1):\n",
    "    print('변수 i의 값 =', i)\n",
    "    "
   ]
  },
  {
   "cell_type": "code",
   "execution_count": null,
   "id": "ad53e89d",
   "metadata": {},
   "outputs": [],
   "source": [
    "response = '아니'\n",
    "while response =='아니':\n",
    "    response = input('엄마, 다됐어?')\n",
    "print('먹자')"
   ]
  },
  {
   "cell_type": "code",
   "execution_count": null,
   "id": "318d4c9f",
   "metadata": {},
   "outputs": [],
   "source": [
    "password = ''\n",
    "while password != 'pythonisfun':\n",
    "    password = input(\"암호를 입력하시오\")\n",
    "print('로그인 성공')"
   ]
  },
  {
   "cell_type": "code",
   "execution_count": null,
   "id": "26d45537",
   "metadata": {},
   "outputs": [],
   "source": [
    "count = 1\n",
    "sum = 0\n",
    "\n",
    "while count <= 10:\n",
    "    sum = sum + count\n",
    "    count = count + 1\n",
    "print('합계는 ', sum)"
   ]
  },
  {
   "cell_type": "code",
   "execution_count": null,
   "id": "4b8492c5",
   "metadata": {},
   "outputs": [],
   "source": [
    "while True:\n",
    "    light = input('신호등 색상을 입력하시오')\n",
    "    if light == 'blue':\n",
    "        break\n",
    "print('전진')"
   ]
  },
  {
   "cell_type": "code",
   "execution_count": null,
   "id": "b34ffb11",
   "metadata": {},
   "outputs": [],
   "source": [
    "from sklearn import datasets\n",
    "\n",
    "d = datasets.load_iris()\n",
    "print(d.DESCR)"
   ]
  },
  {
   "cell_type": "code",
   "execution_count": null,
   "id": "6e316494",
   "metadata": {},
   "outputs": [],
   "source": [
    "for i in range(0, len(d.data)):\n",
    "    print(i+1, d.data[i], d.target[i])"
   ]
  },
  {
   "cell_type": "code",
   "execution_count": null,
   "id": "3d1cb1a7",
   "metadata": {},
   "outputs": [],
   "source": [
    "import numpy as np\n",
    "a = np.array([[1,2,3],[4,5,6]])\n",
    "b = np.array([[2,3,4],[5,6,7]])\n",
    "c = a + b\n",
    "c"
   ]
  },
  {
   "cell_type": "code",
   "execution_count": null,
   "id": "e98bc907",
   "metadata": {},
   "outputs": [],
   "source": [
    "import random\n",
    "\n",
    "arr_a = np.random.rand(1000000000)\n",
    "arr_b = np.random.rand(1000000000)\n",
    "result = np.zeros(1000000000)"
   ]
  },
  {
   "cell_type": "code",
   "execution_count": null,
   "id": "97078a58",
   "metadata": {},
   "outputs": [],
   "source": [
    "import time\n",
    "start = time.time()\n",
    "for i in range(len(arr_a)):\n",
    "    result[i] = arr_a[i] * arr_b[i]\n",
    "end = time.time()\n",
    "print('소요시간 : ', end - start)"
   ]
  },
  {
   "cell_type": "code",
   "execution_count": null,
   "id": "ff4ad667",
   "metadata": {},
   "outputs": [],
   "source": [
    "start = time.time()\n",
    "result = arr_a * arr_b\n",
    "end = time.time()\n",
    "print('소요시간 : ', end - start)"
   ]
  },
  {
   "cell_type": "code",
   "execution_count": null,
   "id": "b8d7cc6b",
   "metadata": {},
   "outputs": [],
   "source": [
    "n_elem = 1000000000\n",
    "arr_a = np.random.rand(n_elem)\n",
    "arr_b = np.random.rand(n_elem)\n",
    "result = np.zeros(n_elem)"
   ]
  },
  {
   "cell_type": "code",
   "execution_count": null,
   "id": "a472e97d",
   "metadata": {},
   "outputs": [],
   "source": [
    "start = time.time()\n",
    "for i in range(n_elem):\n",
    "    result[i] = arr_a[i] * arr_b[i]\n",
    "end = time.time()\n",
    "print('원소별 접근 방식 소요시간 : ', end - start)\n",
    "\n",
    "start = time.time()\n",
    "result = arr_a * arr_b\n",
    "end = time.time()\n",
    "print('벡터화 연산 수행 소요시간 : ', end - start)"
   ]
  },
  {
   "cell_type": "code",
   "execution_count": null,
   "id": "a46911da",
   "metadata": {},
   "outputs": [],
   "source": [
    "import numpy as np\n",
    "from sklearn import linear_model\n",
    "\n",
    "regr = linear_model.LinearRegression()"
   ]
  },
  {
   "cell_type": "code",
   "execution_count": null,
   "id": "eb553c82",
   "metadata": {},
   "outputs": [],
   "source": [
    "X = [[163],[179],[166],[169],[171]]\n",
    "y = [54, 63, 57, 56, 58]\n",
    "\n",
    "regr.fit(X,y)"
   ]
  },
  {
   "cell_type": "code",
   "execution_count": null,
   "id": "b8bfa55b",
   "metadata": {},
   "outputs": [],
   "source": [
    "coef = regr.coef_\n",
    "intercept = regr.intercept_\n",
    "score = regr.score(X, y)\n",
    "\n",
    "print('y = {} * X + {:.2f}'.format(coef.round(2), intercept))\n",
    "print('데이터와 선형 회귀 직선의 관계점수 : {:.1%}'.format(score))"
   ]
  },
  {
   "cell_type": "code",
   "execution_count": null,
   "id": "27a0522e",
   "metadata": {},
   "outputs": [],
   "source": [
    "import matplotlib.pyplot as plt\n",
    "\n",
    "plt.scatter(X, y, color='blue', marker='D')\n",
    "y_pred = regr.predict(X)\n",
    "plt.plot(X, y_pred, 'r:')"
   ]
  },
  {
   "cell_type": "code",
   "execution_count": null,
   "id": "edc6351d",
   "metadata": {},
   "outputs": [],
   "source": [
    "unseen = [[167]]\n",
    "result = regr.predict(unseen)\n",
    "print(f'동윤이의 키가 {unseen}cm 이므로 몸무게는 {result.round(1)}kg으로 추정됨')"
   ]
  },
  {
   "cell_type": "code",
   "execution_count": null,
   "id": "ffc6f6e4",
   "metadata": {},
   "outputs": [],
   "source": [
    "from sklearn import linear_model\n",
    "regr = linear_model.LinearRegression()\n",
    "X = [[168, 0],[166, 0],[173, 0],[165, 0],[177, 0],[163, 0],\n",
    "     [178, 0],[172, 0],[163, 1],[162, 1],[171, 1],[162, 1],\n",
    "     [164, 1],[162, 1],[158, 1],[173, 1]]\n",
    "\n",
    "y = [65, 61, 68, 63, 68, 61, 76, 67, 55, 51, 59, 53, 51, 56, 44, 57]\n",
    "\n",
    "regr.fit(X,y)\n",
    "\n",
    "print('계수 :', regr.coef_)\n",
    "print('절편 :', regr.intercept_)\n",
    "print('점수 :', regr.score(X, y))\n",
    "print('동윤이와 은지의 추정 몸무게 : ', regr.predict([[167,0], [167, 1]]))"
   ]
  },
  {
   "cell_type": "code",
   "execution_count": null,
   "id": "b152330c",
   "metadata": {},
   "outputs": [],
   "source": [
    "import numpy as np\n",
    "y = np.array([1.2, 2.4, 2.5, 4.6, 5.4])\n",
    "y_hat = np.array([1, 2, 3, 4, 5])\n",
    "diff = (y_hat - y) ** 2\n",
    "e_mse = diff.sum() / len(y)\n",
    "print('평균 제곱 오차 = ', e_mse)"
   ]
  },
  {
   "cell_type": "code",
   "execution_count": null,
   "id": "5d82fd8a",
   "metadata": {},
   "outputs": [],
   "source": [
    "from sklearn.metrics import mean_squared_error\n",
    "\n",
    "print('평균 제곱 오차 = ', mean_squared_error(y_hat, y))"
   ]
  },
  {
   "cell_type": "code",
   "execution_count": null,
   "id": "e29645b9",
   "metadata": {},
   "outputs": [],
   "source": [
    "model_a = np.array([0.9, 1.3, 3.3, 3.8])\n",
    "model_b = np.array([0.5, 1.9, 3.4, 4.4])\n",
    "model_true = np.array([1, 2, 3, 4])\n",
    "\n",
    "print('모델 A의 평균 절대 오차(MAE) = ', (abs(model_true - model_a).sum()/len(model_a)))\n",
    "print('모델 B의 평균 절대 오차(MAE) = ', (abs(model_true - model_b).sum()/len(model_b)))\n",
    "print('모델 A의 평균 제곱 오차(MSE) = ', ((model_true - model_a)**2).sum()/len(model_a))\n",
    "print('모델 B의 평균 제곱 오차(MSE) = ', ((model_true - model_b)**2).sum()/len(model_b))"
   ]
  },
  {
   "cell_type": "code",
   "execution_count": null,
   "id": "577afabb",
   "metadata": {},
   "outputs": [],
   "source": [
    "X = np.array([1, 4.5, 9, 10, 13])\n",
    "y = np.array([0, 0.2, 2.5, 5.4, 7.3])\n",
    "\n",
    "w, b = 0, 0\n",
    "learing_rate, epoch = 0.005, 1000\n",
    "n = len(X)\n",
    "\n",
    "for i in range(epoch):\n",
    "    y_pred = w * X + b\n",
    "    error = y_pred - y\n",
    "    w = w - learing_rate * (error * X).sum()\n",
    "    b = b - learing_rate * error.sum()\n",
    "    \n",
    "print('w = ', w.round(2), ', b = ', b.round(2))"
   ]
  },
  {
   "cell_type": "code",
   "execution_count": null,
   "id": "45db9897",
   "metadata": {},
   "outputs": [],
   "source": [
    "import seaborn as sb\n",
    "\n",
    "#seaborn에서 flights데이터셋 로드\n",
    "flights = sb.load_dataset('flights')\n",
    "\n",
    "# flights의 shape 출력\n",
    "print('flights 데이터의 shape',flights.shape)\n",
    "print()\n",
    "# flights의 상위 5개의 데이터를 head()로 출력\n",
    "print(flights.head())"
   ]
  },
  {
   "cell_type": "code",
   "execution_count": null,
   "id": "672e71b0",
   "metadata": {},
   "outputs": [],
   "source": [
    "import pandas as pd\n",
    "\n",
    "# flights를 판다스의 dataframe으로 뽑아내기\n",
    "flights = pd.DataFrame(flights)\n",
    "\n",
    "# groupby로 year을 묶은 다음 passengers의 합계 출력\n",
    "print(flights.groupby('year')['passengers'].sum())"
   ]
  },
  {
   "cell_type": "code",
   "execution_count": null,
   "id": "14c52b53",
   "metadata": {},
   "outputs": [],
   "source": [
    "import matplotlib.pyplot as plt\n",
    "\n",
    "# groupby로 year을 묶은 다음 passengers의 합계에서 index를 통해 year를 뽑아냄\n",
    "year = flights.groupby('year')['passengers'].sum().index\n",
    "\n",
    "# groupby로 year을 묶은 다음 passengers의 합계에서 values를 통해 passengers를 뽑아냄\n",
    "passengers = flights.groupby('year')['passengers'].sum().values\n",
    "\n",
    "# print(year)\n",
    "# print(passengers)\n",
    "\n",
    "# 그래프로 표현(x축은 연도, y축은 이용객)\n",
    "plt.plot(year, passengers, label= 'passengers')\n",
    "plt.xlabel('year')\n",
    "plt.legend()"
   ]
  },
  {
   "cell_type": "code",
   "execution_count": null,
   "id": "be6f66ba",
   "metadata": {},
   "outputs": [],
   "source": [
    "# 산점도로 표현\n",
    "plt.scatter(year, passengers, marker='o')\n",
    "plt.xlabel('year')\n",
    "plt.ylabel('passengers')"
   ]
  },
  {
   "cell_type": "code",
   "execution_count": null,
   "id": "194a29ea",
   "metadata": {},
   "outputs": [],
   "source": [
    "from sklearn import linear_model\n",
    "#사이킷런에서 선형회귀 가져와서 변수에 저장\n",
    "regr = linear_model.LinearRegression()\n",
    "\n",
    "# X축에 np 배열로 연도 저장(해보니까 오류남, 그래서 오류에 나와있는데로 2차원으로 변경)\n",
    "X = np.array(year).reshape(-1, 1)\n",
    "# y축에 np 배열로 이용객 저장\n",
    "y = np.array(passengers)\n",
    "\n",
    "# print(X)\n",
    "# print(y)\n",
    "\n",
    "regr.fit(X,y)\n",
    "\n",
    "print('선형회귀 모델의 계수 :', regr.coef_)\n",
    "print('선형회귀 모델의 절편 : {:.2f}'.format(regr.intercept_))\n",
    "print('데이터와 선형회귀 직선의 관계점수 : {:.1f}%'.format(regr.score(X, y) * 100))"
   ]
  },
  {
   "cell_type": "code",
   "execution_count": null,
   "id": "80ffa52e",
   "metadata": {},
   "outputs": [],
   "source": [
    "plt.scatter(X, y, color='blue')\n",
    "y_pred = regr.predict(X)\n",
    "plt.plot(X, y_pred)"
   ]
  },
  {
   "cell_type": "code",
   "execution_count": null,
   "id": "4f0356e9",
   "metadata": {},
   "outputs": [],
   "source": [
    "from sklearn import linear_model\n",
    "import numpy as np\n",
    "\n",
    "X = np.array([1, 4.5, 9, 10, 13])\n",
    "y = np.array([0, 0.2, 2.5, 5.4, 7.3])\n",
    "regr = linear_model.LinearRegression()\n",
    "X = X[:, np.newaxis]\n",
    "regr.fit(X,y)\n",
    "\n",
    "print('w = ', regr.coef_.round(2))\n",
    "print('b = ', regr.intercept_.round(2))"
   ]
  },
  {
   "cell_type": "code",
   "execution_count": null,
   "id": "f65c0a55",
   "metadata": {},
   "outputs": [],
   "source": [
    "import numpy as np\n",
    "\n",
    "arr1 = np.array([1, 2, 3, 4], dtype=int)\n",
    "print(arr1[np.newaxis])\n",
    "print(arr1[:,np.newaxis])"
   ]
  },
  {
   "cell_type": "code",
   "execution_count": null,
   "id": "72db276d",
   "metadata": {},
   "outputs": [],
   "source": [
    "import matplotlib.pyplot as plt\n",
    "import numpy as np\n",
    "\n",
    "X = np.array([1, 4.5, 9, 10, 13])\n",
    "y = np.array([0, 0.2, 2.5, 5.4, 7.3])\n",
    "plt.scatter(X, y, color='blue', marker='D')\n",
    "y_pred = 0.63 * X -1.65\n",
    "plt.plot(X, y_pred, 'r:')"
   ]
  },
  {
   "cell_type": "code",
   "execution_count": null,
   "id": "affcc692",
   "metadata": {},
   "outputs": [],
   "source": [
    "from sklearn import linear_model\n",
    "import numpy as np\n",
    "\n",
    "X = np.array([1, 4.5, 9, 10, 13])\n",
    "y = np.array([0, 0.2, 2.5, 5.4, 7.3])\n",
    "w, b = 0, 0\n",
    "learing_rate, epoch = 0.00001, 1000\n",
    "n = len(X)\n",
    "for i in range(epoch):\n",
    "    y_pred = w * X + b\n",
    "    error = y_pred - y\n",
    "    w = w - learing_rate * (error * X).sum()\n",
    "    b = b - learing_rate * error.sum()\n",
    "\n",
    "print('w = ', w.round(2))\n",
    "print('b = ', b.round(2))"
   ]
  },
  {
   "cell_type": "code",
   "execution_count": null,
   "id": "31b9c079",
   "metadata": {},
   "outputs": [],
   "source": [
    "X = np.array([1, 4.5, 9, 10, 13])\n",
    "y = np.array([0, 0.2, 2.5, 5.4, 7.3])\n",
    "w, b = 0, 0\n",
    "learing_rate, epoch = 1.0, 1000\n",
    "n = len(X)\n",
    "for i in range(epoch):\n",
    "    y_pred = w * X + b\n",
    "    error = y_pred - y\n",
    "    w = w - learing_rate * (error * X).sum()\n",
    "    b = b - learing_rate * error.sum()\n",
    "\n",
    "print('w = ', w.round(2))\n",
    "print('b = ', b.round(2))"
   ]
  },
  {
   "cell_type": "code",
   "execution_count": null,
   "id": "5fe00dbb",
   "metadata": {},
   "outputs": [],
   "source": [
    "import pandas as pd\n",
    "\n",
    "path = 'https://github.com/dongupak/DataML/raw/main/csv/'\n",
    "file = path + 'life_expectancy.csv'\n",
    "\n",
    "life = pd.read_csv(file)\n",
    "print(life.head(3))"
   ]
  },
  {
   "cell_type": "code",
   "execution_count": null,
   "id": "e772c6e2",
   "metadata": {},
   "outputs": [],
   "source": [
    "print('기대수명 데이터 개요 : ')\n",
    "print(life.describe())"
   ]
  },
  {
   "cell_type": "code",
   "execution_count": null,
   "id": "f235d18f",
   "metadata": {},
   "outputs": [],
   "source": [
    "print('life 데이터의 컬럼들')\n",
    "print(life.columns)"
   ]
  },
  {
   "cell_type": "code",
   "execution_count": null,
   "id": "e6cb0dc3",
   "metadata": {},
   "outputs": [],
   "source": [
    "import seaborn as sns\n",
    "import matplotlib.pyplot as plt\n",
    "import numpy as np\n",
    "\n",
    "# 숫자 열만 선택\n",
    "numeric_columns = life.select_dtypes(include=[np.number])\n",
    "\n",
    "sns.set(rc={'figure.figsize':(22,20)})\n",
    "correlation_matrix = numeric_columns.corr().round(2)\n",
    "sns.heatmap(data=correlation_matrix, annot=True)\n"
   ]
  },
  {
   "cell_type": "code",
   "execution_count": null,
   "id": "f7afbbfb",
   "metadata": {},
   "outputs": [],
   "source": [
    "print(\"기대수명과의 상관계수\")\n",
    "print(numeric_columns.corr().round(2)['Life expectancy'])"
   ]
  },
  {
   "cell_type": "code",
   "execution_count": null,
   "id": "c244c5c2",
   "metadata": {},
   "outputs": [],
   "source": [
    "c = numeric_columns.corr().round(2)['Life expectancy']\n",
    "c = np.abs(c)\n",
    "print(c.sort_values(ascending=False)[1:8])"
   ]
  },
  {
   "cell_type": "code",
   "execution_count": null,
   "id": "af01fa06",
   "metadata": {},
   "outputs": [],
   "source": [
    "sns.pairplot(life[['Life expectancy', 'Schooling', 'Income composition of resources', 'Adult mortality', 'HIV/AIDS', 'Thinness 1-19 years']])\n",
    "plt.show()"
   ]
  },
  {
   "cell_type": "code",
   "execution_count": null,
   "id": "d5f634cf",
   "metadata": {},
   "outputs": [],
   "source": [
    "life[['Schooling', 'Income composition of resources', 'Adult mortality', 'HIV/AIDS', 'Thinness 1-19 years']].isna().sum()"
   ]
  },
  {
   "cell_type": "code",
   "execution_count": null,
   "id": "bb2bf72d",
   "metadata": {},
   "outputs": [],
   "source": [
    "life.dropna(inplace=True)\n",
    "\n",
    "X = life[['Schooling', 'Income composition of resources', 'Adult mortality', 'HIV/AIDS', 'Thinness 1-19 years']]\n",
    "y = life['Life expectancy']"
   ]
  },
  {
   "cell_type": "code",
   "execution_count": null,
   "id": "299f7c98",
   "metadata": {},
   "outputs": [],
   "source": [
    "from sklearn.linear_model import LinearRegression\n",
    "from sklearn.model_selection import train_test_split\n",
    "\n",
    "X_train, X_test, y_train, y_test = train_test_split(X, y, test_size = 0.2)\n",
    "\n",
    "regr = LinearRegression()\n",
    "regr.fit(X_train, y_train)\n",
    "print('선형 회귀 모델의 점수 =', regr.score(X_test, y_test).round(3))"
   ]
  },
  {
   "cell_type": "code",
   "execution_count": null,
   "id": "9df52c75",
   "metadata": {},
   "outputs": [],
   "source": [
    "import pandas as pd\n",
    "\n",
    "path = 'https://github.com/dongupak/DataML/raw/main/csv/'\n",
    "file = path + 'life_expectancy.csv'\n",
    "\n",
    "life = pd.read_csv(file)\n",
    "\n",
    "life.dropna(inplace=True)\n",
    "\n",
    "X = life[['Year','Adult mortality', 'Infant deaths', 'Alcohol', 'Percentage expenditure', 'Hepatitis B', 'Measles', 'BMI', 'Under-five deaths', 'Polio', 'Total expenditure',\n",
    "         'Diphtheria', 'HIV/AIDS', 'GDP', 'Population', 'Thinness 1-19 years', 'Thinness 5-9 years', 'Income composition of resources', 'Schooling']]\n",
    "y = life['Life expectancy']\n"
   ]
  },
  {
   "cell_type": "code",
   "execution_count": null,
   "id": "40805e00",
   "metadata": {},
   "outputs": [],
   "source": [
    "from sklearn.linear_model import LinearRegression\n",
    "from sklearn.model_selection import train_test_split\n",
    "\n",
    "X_train, X_test, y_train, y_test = train_test_split(X, y, test_size = 0.2)\n",
    "\n",
    "regr = LinearRegression()\n",
    "regr.fit(X_train, y_train)\n",
    "print('선형 회귀 모델의 점수 = ', regr.score(X_test, y_test).round(3))"
   ]
  },
  {
   "cell_type": "code",
   "execution_count": null,
   "id": "7cf3751f",
   "metadata": {},
   "outputs": [],
   "source": [
    "import pandas as pd\n",
    "import numpy as np\n",
    "import matplotlib.pyplot as plt\n",
    "\n",
    "path = 'https://github.com/dongupak/DataML/raw/main/csv/'\n",
    "file = path + 'life_expectancy.csv'\n",
    "\n",
    "life = pd.read_csv(file)\n",
    "\n",
    "life.dropna(inplace=True)\n",
    "\n",
    "X = life[['Year','Adult mortality', 'Infant deaths', 'Alcohol', 'Percentage expenditure', 'Hepatitis B', 'Measles', 'BMI', 'Under-five deaths', 'Polio', 'Total expenditure',\n",
    "         'Diphtheria', 'HIV/AIDS', 'GDP', 'Population', 'Thinness 1-19 years', 'Thinness 5-9 years', 'Income composition of resources', 'Schooling']]\n",
    "y = life['Life expectancy']\n",
    "\n",
    "# 숫자 열만 선택\n",
    "numeric_columns = life.select_dtypes(include=[np.number])\n",
    "\n",
    "c = numeric_columns.corr()['Life expectancy']\n",
    "c = np.abs(c)\n",
    "c.sort_values(ascending=True, inplace=True)\n",
    "plt.figure(figsize=(7,7))\n",
    "plt.barh(c.index, c.values)\n",
    "plt.title('Correlation Coef with Life expectandcy')\n",
    "plt.xlabel('Features')\n",
    "plt.ylabel('Correlation Coef')"
   ]
  },
  {
   "cell_type": "code",
   "execution_count": null,
   "id": "dafa9348",
   "metadata": {},
   "outputs": [],
   "source": [
    "import numpy as np\n",
    "import matplotlib.pyplot as plt\n",
    "\n",
    "m = 100 # 생성할 데이터의 개수\n",
    "# 평균값이 0이고 -4에서 4사이에 분포하는 랜덤 값 X\n",
    "X = 8 * np.random.rand(m, 1) - 4\n",
    "# x^2항의 계수가 0.5, x항의 계수가 2, 상수항의 계수가 1\n",
    "y = 0.5 * X ** 2 + 2 * X + 1 + np.random.randn(m, 1)\n",
    "\n",
    "plt.figure(figsize=(6,4))\n",
    "plt.plot(X, y, \"b^\")"
   ]
  },
  {
   "cell_type": "code",
   "execution_count": null,
   "id": "6d057755",
   "metadata": {},
   "outputs": [],
   "source": [
    "from sklearn.linear_model import LinearRegression\n",
    "from sklearn.model_selection import train_test_split\n",
    "\n",
    "regr = LinearRegression()\n",
    "regr.fit(X, y)\n",
    "print('선형 회귀 모델의 점수 = ', regr.score(X, y).round(3))\n",
    "print('선형 회귀 모델의 계수와 절편 = ', regr.coef_, regr.intercept_)"
   ]
  },
  {
   "cell_type": "code",
   "execution_count": null,
   "id": "8259dfa1",
   "metadata": {},
   "outputs": [],
   "source": [
    "plt.figure(figsize=(7,6))\n",
    "y_predict = regr.predict(X)\n",
    "plt.scatter(X, y)\n",
    "plt.plot(X.flatten(), y_predict, color='r')"
   ]
  },
  {
   "cell_type": "code",
   "execution_count": null,
   "id": "c423b47d",
   "metadata": {},
   "outputs": [],
   "source": [
    "import numpy as np\n",
    "import matplotlib.pyplot as plt\n",
    "\n",
    "m = 100 # 생성할 데이터의 개수\n",
    "# 평균값이 0이고 -4에서 4사이에 분포하는 랜덤 값 X\n",
    "X = 8 * np.random.rand(m, 1) - 4\n",
    "# x^2항의 계수가 0.5, x항의 계수가 2, 상수항의 계수가 1\n",
    "y = 0.5 * X ** 3 + 0.5 * X **2 + X + 3 + np.random.randn(m, 1)\n",
    "\n",
    "plt.figure(figsize=(6,4))\n",
    "plt.plot(X, y, \"b^\")"
   ]
  },
  {
   "cell_type": "code",
   "execution_count": null,
   "id": "5f553f7b",
   "metadata": {},
   "outputs": [],
   "source": [
    "import numpy as np\n",
    "from sklearn.preprocessing import PolynomialFeatures\n",
    "\n",
    "X = np.arange(2).reshape(-1,1)\n",
    "print(X)"
   ]
  },
  {
   "cell_type": "code",
   "execution_count": null,
   "id": "93bf7c8f",
   "metadata": {},
   "outputs": [],
   "source": [
    "poly = PolynomialFeatures()\n",
    "X = poly.fit_transform(X)\n",
    "print(X)"
   ]
  },
  {
   "cell_type": "code",
   "execution_count": null,
   "id": "d3437fdf",
   "metadata": {},
   "outputs": [],
   "source": [
    "print(poly.get_feature_names_out())"
   ]
  },
  {
   "cell_type": "code",
   "execution_count": null,
   "id": "1730112d",
   "metadata": {},
   "outputs": [],
   "source": [
    "from sklearn.preprocessing import PolynomialFeatures\n",
    "from sklearn.linear_model import LinearRegression\n",
    "\n",
    "poly_features = PolynomialFeatures(degree=2, include_bias=False)\n",
    "X_poly = poly_features.fit_transform(X)"
   ]
  },
  {
   "cell_type": "code",
   "execution_count": null,
   "id": "2af295ce",
   "metadata": {},
   "outputs": [],
   "source": [
    "regr = LinearRegression()\n",
    "regr.fit(X_poly, y)\n",
    "print(\"다항 회귀 모델의 점수 = \", regr.score(X_poly, y).round(3))\n",
    "print('다항 회귀 모델의 계수 = ', regr.coef_, '절편 = ', regr.intercept_)"
   ]
  },
  {
   "cell_type": "code",
   "execution_count": null,
   "id": "4c77a0e3",
   "metadata": {},
   "outputs": [],
   "source": [
    "domain = np.linspace(-4, 4, 50).reshape(-1,1)\n",
    "domain_2 = poly_features.fit_transform(domain)\n",
    "plt.figure(figsize=(6,4))\n",
    "y_predict = regr.predict(domain_2)\n",
    "plt.scatter(X, y)\n",
    "plt.plot(domain, y_predict, color='r', linewidth=4)"
   ]
  },
  {
   "cell_type": "code",
   "execution_count": 3,
   "id": "e4830a45",
   "metadata": {},
   "outputs": [
    {
     "data": {
      "text/plain": [
       "[<matplotlib.lines.Line2D at 0x2b8954a20e0>]"
      ]
     },
     "execution_count": 3,
     "metadata": {},
     "output_type": "execute_result"
    },
    {
     "data": {
      "image/png": "[encoded data removed]",
      "text/plain": [
       "<Figure size 600x500 with 1 Axes>"
      ]
     },
     "metadata": {},
     "output_type": "display_data"
    }
   ],
   "source": [
    "import numpy as np\n",
    "from sklearn.model_selection import train_test_split\n",
    "import matplotlib.pyplot as plt\n",
    "\n",
    "m = 20\n",
    "X = 8 * np.random.rand(m, 1) - 4\n",
    "y = 0.5 * X ** 3 + 0.5 * X ** 2 + X + 3 + np.random.randn(m, 1)\n",
    "\n",
    "X_train, X_test, y_train, y_test = train_test_split(X, y)\n",
    "\n",
    "plt.figure(figsize=(6,5))\n",
    "plt.xlim(-5, 5)\n",
    "plt.ylim(-28, 50)\n",
    "plt.plot(X_train, y_train, \"b^\")"
   ]
  },
  {
   "cell_type": "code",
   "execution_count": 5,
   "id": "f9dfac33",
   "metadata": {},
   "outputs": [
    {
     "name": "stdout",
     "output_type": "stream",
     "text": [
      "다항 회귀 모델의 점수 =  0.999999999998672 3\n",
      "다항 회귀 모델의 계수 =  [[-4.76647862e+00  4.46729395e+00  3.98285515e+00  2.08246318e+00\n",
      "   2.13708706e+00 -1.37879852e-02  4.65194624e-01 -1.29941475e+00\n",
      "  -4.62864543e-01 -8.08554950e-01 -1.98060125e-02  1.16257947e+00\n",
      "  -1.63154017e-01 -3.83400065e-01  1.01271645e-01  4.43588157e-02\n",
      "  -1.77780773e-02 -6.78821362e-04  9.26598491e-04 -9.68162951e-05]]\n",
      "다항 회귀 모델의 절편 =  [2.77676048]\n"
     ]
    }
   ],
   "source": [
    "from sklearn.preprocessing import PolynomialFeatures\n",
    "from sklearn.linear_model import LinearRegression\n",
    "\n",
    "poly_features = PolynomialFeatures(degree = 20, include_bias=False)\n",
    "X_poly = poly_features.fit_transform(X_train)\n",
    "regr = LinearRegression()\n",
    "regr.fit(X_poly, y_train)\n",
    "print('다항 회귀 모델의 점수 = ', regr.score(X_poly, y_train),round(3))\n",
    "print('다항 회귀 모델의 계수 = ', regr.coef_)\n",
    "print('다항 회귀 모델의 절편 = ', regr.intercept_)"
   ]
  },
  {
   "cell_type": "code",
   "execution_count": 8,
   "id": "001ae55b",
   "metadata": {},
   "outputs": [
    {
     "name": "stdout",
     "output_type": "stream",
     "text": [
      "테스트 데이터에 대한 모델의 점수 =  0.7305863534590683\n"
     ]
    }
   ],
   "source": [
    "X_poly = poly_features.fit_transform(X_test)\n",
    "print('테스트 데이터에 대한 모델의 점수 = ', regr.score(X_poly, y_test))"
   ]
  },
  {
   "cell_type": "code",
   "execution_count": 9,
   "id": "2cf082c6",
   "metadata": {},
   "outputs": [
    {
     "data": {
      "text/plain": [
       "<matplotlib.legend.Legend at 0x2b8987c8df0>"
      ]
     },
     "execution_count": 9,
     "metadata": {},
     "output_type": "execute_result"
    },
    {
     "data": {
      "image/png": "[encoded data removed]",
      "text/plain": [
       "<Figure size 700x600 with 1 Axes>"
      ]
     },
     "metadata": {},
     "output_type": "display_data"
    }
   ],
   "source": [
    "X_new = np.linspace(-4, 4, 100).reshape(100, 1)\n",
    "X_new_Poly = poly = poly_features.transform(X_new)\n",
    "y_new = regr.predict(X_new_Poly)\n",
    "\n",
    "plt.figure(figsize=(7,6))\n",
    "plt.xlim(-5, 5)\n",
    "plt.ylim(-28, 50)\n",
    "\n",
    "plt.plot(X_train, y_train, 'b^')\n",
    "plt.scatter(X_test, y_test, c='red', s=200, alpha=0.4)\n",
    "plt.plot(X_new, y_new, 'r-', label=\"prediction curve\")\n",
    "plt.legend()"
   ]
  },
  {
   "cell_type": "code",
   "execution_count": 10,
   "id": "88eeb72a",
   "metadata": {},
   "outputs": [
    {
     "data": {
      "text/plain": [
       "<matplotlib.legend.Legend at 0x293487d8610>"
      ]
     },
     "execution_count": 10,
     "metadata": {},
     "output_type": "execute_result"
    },
    {
     "data": {
      "image/png": "[encoded data removed]",
      "text/plain": [
       "<Figure size 640x480 with 1 Axes>"
      ]
     },
     "metadata": {},
     "output_type": "display_data"
    }
   ],
   "source": [
    "import matplotlib.pyplot as plt\n",
    "\n",
    "dach_length = [55, 57, 64, 63, 58, 49, 54, 61]\n",
    "dach_height = [30, 31, 36, 30, 33, 25, 37, 34]\n",
    "\n",
    "jin_length = [56, 47, 56, 46, 49, 53, 52, 48]\n",
    "jin_height = [52, 52, 50, 53, 50, 53, 49, 54]\n",
    "\n",
    "newdata_length = [59]\n",
    "newdata_height = [35]\n",
    "\n",
    "plt.scatter(dach_length, dach_height, c='r', label=\"Dachshund\")\n",
    "plt.scatter(jin_length, jin_height, marker='^', label='Jindo dog')\n",
    "plt.scatter(newdata_length, newdata_height, s=100, marker='p', c='g', label='new Data')\n",
    "\n",
    "plt.xlabel('Length')\n",
    "plt.ylabel('Height')\n",
    "plt.title(\"Dog size\")\n",
    "plt.legend(loc='best')\n",
    "\n"
   ]
  },
  {
   "cell_type": "code",
   "execution_count": 18,
   "id": "92e8ad0e",
   "metadata": {},
   "outputs": [
    {
     "ename": "NameError",
     "evalue": "name 'dogs' is not defined",
     "output_type": "error",
     "traceback": [
      "\u001b[1;31m---------------------------------------------------------------------------\u001b[0m",
      "\u001b[1;31mNameError\u001b[0m                                 Traceback (most recent call last)",
      "Cell \u001b[1;32mIn[18], line 16\u001b[0m\n\u001b[0;32m     14\u001b[0m k \u001b[38;5;241m=\u001b[39m \u001b[38;5;241m3\u001b[39m\n\u001b[0;32m     15\u001b[0m knn \u001b[38;5;241m=\u001b[39m KNeighborsClassifier(n_neighbors \u001b[38;5;241m=\u001b[39m k)\n\u001b[1;32m---> 16\u001b[0m knn\u001b[38;5;241m.\u001b[39mfit(\u001b[43mdogs\u001b[49m, labels)\n\u001b[0;32m     17\u001b[0m y_pred \u001b[38;5;241m=\u001b[39m knn\u001b[38;5;241m.\u001b[39mpredict(newdata)\n",
      "\u001b[1;31mNameError\u001b[0m: name 'dogs' is not defined"
     ]
    }
   ],
   "source": [
    "import numpy as np\n",
    "from sklearn.neighbors import KNeighborsClassifier\n",
    "from sklearn import metrics\n",
    "\n",
    "d_data = np.column_stack((dach_length, dach_height))\n",
    "s_label = np.zeros(len(d_data))\n",
    "\n",
    "j_data = np.column_stack((jin_length, jin_height))\n",
    "j_label = np.ones(len(j_data))\n",
    "\n",
    "newdata=[[59,35]]\n",
    "\n",
    "dog_classes = {0:'닥스훈트', 1:'진돗개'}\n",
    "k = 3\n",
    "knn = KNeighborsClassifier(n_neighbors = k)\n",
    "knn.fit(dogs, labels)\n",
    "y_pred = knn.predict(newdata)"
   ]
  },
  {
   "cell_type": "code",
   "execution_count": null,
   "id": "ee342608",
   "metadata": {},
   "outputs": [],
   "source": []
  }
 ],
 "metadata": {
  "kernelspec": {
   "display_name": "TensorflowPy310",
   "language": "python",
   "name": "tensorflowpy310"
  },
  "language_info": {
   "codemirror_mode": {
    "name": "ipython",
    "version": 3
   },
   "file_extension": ".py",
   "mimetype": "text/x-python",
   "name": "python",
   "nbconvert_exporter": "python",
   "pygments_lexer": "ipython3",
   "version": "3.10.12"
  }
 },
 "nbformat": 4,
 "nbformat_minor": 5
}
