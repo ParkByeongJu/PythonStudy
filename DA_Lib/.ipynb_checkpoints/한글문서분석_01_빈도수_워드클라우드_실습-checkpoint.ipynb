{
 "cells": [
  {
   "cell_type": "markdown",
   "metadata": {},
   "source": [
    "## 한글문서 내 단어 빈도수 분석 및 워드클라우드로 시각\n",
    "1. 한글 문서에서 명사만 추출 : koNLPy 라이브러리 활용\n",
    "1. 명사에 대한 빈도수 분석 : collections.Counter 활용 (built-in)\n",
    "1. 상위 빈도수 명사에 대해서 워드클라우드 생성 : WordCloud 라이브러리 활용"
   ]
  },
  {
   "cell_type": "markdown",
   "metadata": {},
   "source": [
    "### koNLPy 라이브러리 설치\n",
    "1. 설치 기본 사항 확인 : 윈도우 비트 수, 파이썬 버전, JDK (1.7 이상)\n",
    "2. 환경변수의 시스템 변수 설정 : JAVA_HOME = JDK 설치된 경로"
   ]
  },
  {
   "cell_type": "code",
   "execution_count": null,
   "metadata": {
    "scrolled": false
   },
   "outputs": [],
   "source": [
    "!python -m pip install --upgrade konlpy\n"
   ]
  },
  {
   "cell_type": "markdown",
   "metadata": {},
   "source": [
    "### WordCloud 라이브러리 설치"
   ]
  },
  {
   "cell_type": "code",
   "execution_count": null,
   "metadata": {},
   "outputs": [],
   "source": [
    "!pip install wordcloud"
   ]
  },
  {
   "cell_type": "markdown",
   "metadata": {},
   "source": [
    "# 1. 데이터 준비\n",
    "1. 데이터 로딩 (파이썬 객체로)\n",
    "1. 분석할 데이터 추출 및 정제\n",
    "1. 명사 데이터만 추출"
   ]
  },
  {
   "cell_type": "markdown",
   "metadata": {},
   "source": [
    "### 1-1. 파일 읽기 (json 파일을 파이썬 객체로 로딩하기) : json.load"
   ]
  },
  {
   "cell_type": "code",
   "execution_count": null,
   "metadata": {},
   "outputs": [],
   "source": []
  },
  {
   "cell_type": "markdown",
   "metadata": {},
   "source": [
    "### 1-2. 분석할 데이터 추출 및 정제\n",
    "* re : regular expression\n",
    "  - re.sub(matching_pattern, replace_string, target_string)\n",
    "  \n",
    " https://wikidocs.net/4308"
   ]
  },
  {
   "cell_type": "code",
   "execution_count": null,
   "metadata": {},
   "outputs": [],
   "source": [
    "#json 데이터 중 본문에 해당하는 부분을 가져와서 정제한 후 통합하기\n"
   ]
  },
  {
   "cell_type": "markdown",
   "metadata": {},
   "source": [
    "### 1-3. 품사 태깅 : 명사 추출\n",
    "* koNLPy 내 Okt 라이브러리 활용\n",
    "\n",
    "https://konlpy.org/en/latest/"
   ]
  },
  {
   "cell_type": "code",
   "execution_count": null,
   "metadata": {
    "scrolled": true
   },
   "outputs": [],
   "source": []
  },
  {
   "cell_type": "markdown",
   "metadata": {},
   "source": [
    "## 2. 데이터 탐색 및 분석"
   ]
  },
  {
   "cell_type": "markdown",
   "metadata": {},
   "source": [
    "### 2-1. 단어 빈도 탐색 : collections.Counter\n",
    "* from collections import Counter\n",
    "   - *counterObject* = **Counter**(*pyObject*)\n",
    "       - 데이터 집합에서 개수를 자동으로 계산\n",
    "   - *counterObject*.most_common(*number*)\n",
    "       - 빈도수가 높은 상위 number개의 데이터만 추출\n",
    "\n",
    "https://docs.python.org/3/library/collections.html#collections.Counter"
   ]
  },
  {
   "cell_type": "code",
   "execution_count": null,
   "metadata": {},
   "outputs": [],
   "source": []
  },
  {
   "cell_type": "markdown",
   "metadata": {},
   "source": [
    "## 2-2. 데이터 분석에 활용할 데이터 추출"
   ]
  },
  {
   "cell_type": "code",
   "execution_count": null,
   "metadata": {
    "scrolled": true
   },
   "outputs": [],
   "source": [
    "# 출현 횟수가 많은 상위 80개의 단어 중에서 단어길이가 1보다 큰 것만 추출\n"
   ]
  },
  {
   "cell_type": "markdown",
   "metadata": {},
   "source": [
    "# 3. 시각화\n",
    "## 3-1. 워드클라우드 : WordCloud\n",
    "1. wordcloud 객체 생성 : *wordcloudObject* = **WordCloud**(*font_path*, *optional_parameters*)\n",
    "1. 빈도기반으로 wordcloud 이미지 생성 : *wordcloudObject* = *wordcloudObject*.**generate_from_frequencies**(*frequencies[, …]*)\n",
    "1. matplotlib.pyplot으로 시각화\n",
    "    1. (생략가능) 특정 option으로 figure 생성 : *plt*.**figure**(*optional parameters*)\n",
    "    1. 빈도수 기반의 wordcloud 객체를 입력으로 image 생성 : *plt*.**imshow**(*array-like data*)\n",
    "    1. 축이 보이지 않도록 off : *plt*.**axis**('off')\n",
    "    1. plt.show()\n",
    "1. 생성한 wordcloud 이미지를 파일로 저장 : *wordcloudObject*.**to_file**(*filename*)\n",
    "\n",
    "https://amueller.github.io/word_cloud/index.html"
   ]
  },
  {
   "cell_type": "code",
   "execution_count": null,
   "metadata": {},
   "outputs": [],
   "source": []
  },
  {
   "cell_type": "code",
   "execution_count": null,
   "metadata": {},
   "outputs": [],
   "source": []
  }
 ],
 "metadata": {
  "kernelspec": {
   "display_name": "Python 3 (ipykernel)",
   "language": "python",
   "name": "python3"
  },
  "language_info": {
   "codemirror_mode": {
    "name": "ipython",
    "version": 3
   },
   "file_extension": ".py",
   "mimetype": "text/x-python",
   "name": "python",
   "nbconvert_exporter": "python",
   "pygments_lexer": "ipython3",
   "version": "3.10.12"
  }
 },
 "nbformat": 4,
 "nbformat_minor": 2
}
