{
 "cells": [
  {
   "cell_type": "markdown",
   "metadata": {},
   "source": [
    "# BC 카드 소비 데이터 분석 (2)\n",
    "\n",
    "* 2020년 3월 카드 소비 데이터 : bc_card_out2020_03.txt\n",
    "  - 레코드 수가 100만개 이상\n",
    "  - \\t으로 분리된 csv 파일\n",
    "  - 전처리된 데이터가 저장되어 있음\n",
    "\n",
    "## 1. 데이터 로딩 to DataFrame\n",
    "- 전처리하여 csv로 저장한 파일 '201906.csv'을 판다스 dataframe으로 로딩 (encoding='utf-8', index_col=0)\n",
    "- 앞부분 데이터 확인\n",
    "- 전체 데이터 수 확인"
   ]
  },
  {
   "cell_type": "code",
   "execution_count": null,
   "metadata": {
    "colab": {
     "base_uri": "https://localhost:8080/",
     "height": 317
    },
    "executionInfo": {
     "elapsed": 508,
     "status": "ok",
     "timestamp": 1684657417579,
     "user": {
      "displayName": "꾬은주",
      "userId": "05623544279730996499"
     },
     "user_tz": -540
    },
    "id": "Jv_Olia7V208",
    "outputId": "5f3b27ff-d84d-46d6-d97c-c773a6396cbe"
   },
   "outputs": [],
   "source": []
  },
  {
   "cell_type": "code",
   "execution_count": null,
   "metadata": {},
   "outputs": [],
   "source": []
  },
  {
   "cell_type": "markdown",
   "metadata": {
    "id": "oKDfvHs7XBbC"
   },
   "source": [
    "## 2. 서울시 거주/비거주 고객의 소비액 구하기\n",
    "* 서울시 거주 고객 수와 소비액\n",
    "    - 남성 고객수, 소비액\n",
    "    - 여성 고객수, 소비액\n",
    "* 서울시 비거주 고개 수와 소비액\n",
    "    - 남성 고객수, 소비액\n",
    "    - 여성 고객수, 소비액"
   ]
  },
  {
   "cell_type": "code",
   "execution_count": null,
   "metadata": {},
   "outputs": [],
   "source": []
  },
  {
   "cell_type": "code",
   "execution_count": null,
   "metadata": {
    "colab": {
     "base_uri": "https://localhost:8080/",
     "height": 200
    },
    "executionInfo": {
     "elapsed": 9,
     "status": "ok",
     "timestamp": 1684657430838,
     "user": {
      "displayName": "꾬은주",
      "userId": "05623544279730996499"
     },
     "user_tz": -540
    },
    "id": "I8bJAzlkXaRQ",
    "outputId": "10f17428-09e0-4eaa-e13d-43ba60dfd110"
   },
   "outputs": [],
   "source": []
  },
  {
   "cell_type": "markdown",
   "metadata": {
    "id": "U7DA55vDaKsw"
   },
   "source": [
    "### 3. 서울시 거주자 편의점 소비 건수와 소비액 구하기"
   ]
  },
  {
   "cell_type": "code",
   "execution_count": null,
   "metadata": {
    "colab": {
     "base_uri": "https://localhost:8080/"
    },
    "executionInfo": {
     "elapsed": 3,
     "status": "ok",
     "timestamp": 1684657434267,
     "user": {
      "displayName": "꾬은주",
      "userId": "05623544279730996499"
     },
     "user_tz": -540
    },
    "id": "rS1bjfdqXkh6",
    "outputId": "6f66bc10-4c60-4776-a8b0-6528140d2e2b"
   },
   "outputs": [],
   "source": []
  },
  {
   "cell_type": "markdown",
   "metadata": {},
   "source": [
    "### 4. 서울시 거주자의 서울시 내 소비액과 서울시 외 소비액 구하기"
   ]
  },
  {
   "cell_type": "code",
   "execution_count": null,
   "metadata": {
    "colab": {
     "base_uri": "https://localhost:8080/"
    },
    "executionInfo": {
     "elapsed": 4,
     "status": "ok",
     "timestamp": 1684657478059,
     "user": {
      "displayName": "꾬은주",
      "userId": "05623544279730996499"
     },
     "user_tz": -540
    },
    "id": "M2LFGBsyaPGZ",
    "outputId": "e0a9e1e7-1feb-4522-9b56-b6824ab7806c"
   },
   "outputs": [],
   "source": []
  }
 ],
 "metadata": {
  "colab": {
   "authorship_tag": "ABX9TyOQfjTVF9B5ikuhplpIiOVY",
   "mount_file_id": "1ZQJ7IDg6rMW7lk-Q6ldgP8ZcrUnOT0S0",
   "provenance": []
  },
  "kernelspec": {
   "display_name": "Python 3 (ipykernel)",
   "language": "python",
   "name": "python3"
  },
  "language_info": {
   "codemirror_mode": {
    "name": "ipython",
    "version": 3
   },
   "file_extension": ".py",
   "mimetype": "text/x-python",
   "name": "python",
   "nbconvert_exporter": "python",
   "pygments_lexer": "ipython3",
   "version": "3.10.12"
  }
 },
 "nbformat": 4,
 "nbformat_minor": 1
}
