{
 "cells": [
  {
   "cell_type": "markdown",
   "id": "7facedb9",
   "metadata": {},
   "source": [
    "# 1. 네이버 뉴스 Crawling with Naver Open API\n",
    "- 네이버 개발자 가입 : 서비스 API > 검색 > [오픈 API 이용 신청]\n",
    "- 검색 API 사용 신청 : Products > 검색 > [오픈 API 이용 신청]\n",
    "\n",
    "https://developers.naver.com/main/"
   ]
  },
  {
   "cell_type": "code",
   "execution_count": null,
   "id": "de042549",
   "metadata": {
    "scrolled": true
   },
   "outputs": [],
   "source": [
    "# 네이버 검색 API 예제 -  블로그 검색 예제를 뉴스 검색 예제로 수정하여 실행\n"
   ]
  },
  {
   "cell_type": "markdown",
   "id": "2100ad46",
   "metadata": {},
   "source": [
    "# 2. urllib : URL 작업용 패키지 (built-in)\n",
    "* import urllib\n",
    "* HTTP, FTP, SMTP 등과 같은 프로토콜을 사용하여 URL을 열고 읽고 쓰는 기능 제공\n",
    "\n",
    "* https://ctkim.tistory.com/entry/%ED%8C%8C%EC%9D%B4%EC%8D%AC-urllib-%EB%AA%A8%EB%93%88\n",
    "   - urllib.request : 다양한 방식으로 URL을 열고 데이터를 가져오는 기능 제공\n",
    "   - urllib.response : urllib가 사용하는 응답 클래스\n",
    "   - urllib.parse : URL 파싱, 인코딩, 디코딩\n",
    "   - urllib.robotparser : robots.tx 파일의 parsing\n",
    "  \n",
    "\n",
    "## 2-1. urllib으로 Open API 사용하기\n",
    "  - 특수문자 및 비ASCII코드를 url에 사용할 수 있도록 변경 : *string* = **urllib.parse.quote**(*string*)\n",
    "  - 요청 메시지 생성\n",
    "    - Request 객체 생성 : *request_object* = **urllib.request.Request**(*url*)\n",
    "    - Request 객체 Header에 API 사용을 위한 정보 추가 : *request_object*.**add_header(*key*, *val*)\n",
    "  - API 요청 및 결과 받기\n",
    "    - Request 객체로 url 열고 HTTPResponse 객체 받기 : *Response* = **urllib.request.urlopen**(*Request*)\n",
    "    - urlopen 결과 상태 정보 얻기 : *Response*.**getcode()** (**status**)\n",
    "    - Response 객체에서 요청 결과 얻기 : *Response*.**read()**\n",
    "    - 결과에 한글이 표함된 경우 UTF-8로 디코팅 : *string*.**decode**('utf-8')"
   ]
  },
  {
   "cell_type": "code",
   "execution_count": null,
   "id": "f3e6df9a",
   "metadata": {},
   "outputs": [],
   "source": [
    "# 네이버 검색 API 예제 기반으로 네이버 검색 API 동작 방식 확인\n"
   ]
  },
  {
   "cell_type": "markdown",
   "id": "d9b131df",
   "metadata": {},
   "source": [
    "# 3. json : JSON 데이터 파싱,생성 (built-in)\n",
    "* import json\n",
    "* JSON 문자열을 파이썬 객체로 변환 : *pyObject* = **json.loads**(*jsonString*)\n",
    "* 파이썬 객체를 JSON 문자열로 변환 : *jsonString* = **json.dumps**(*pyObject*)\n",
    "   - ensure_ascii=True : 한글일때는 False로 변경하기\n",
    "   - indent=None : 가독성을 높이기 위해 숫자 지정하기\n",
    "* JSON 파일을 파이썬 객체로 로딩 : *pyObject* = **json.load**()\n",
    "* 파이썬 객체를 JSON 파일에 저장 : **json.dump**(*pyObject*, *fileObject*)\n",
    "\n",
    "https://docs.python.org/3/library/json.html\n",
    "\n",
    "\n",
    "# 4. 파이썬 예외처리 : try + except + else + finally"
   ]
  },
  {
   "cell_type": "markdown",
   "id": "87f1ae47",
   "metadata": {},
   "source": [
    "# [ 프로그램 Workflow ]\n",
    "* Naver 검색 API로 검색 결과를 json으로 받아서 파일로 저장\n",
    "   - start부터 display 수만큼 검색 결과를 json으로 가져옴\n",
    "   - 검색 결과는 json의 'items'에 들어 있음\n",
    "   - 검색 결과 수는 'display'에 들어 있음\n",
    "   \n",
    "1. 필요 데이터 설정\n",
    "   1. API 관련 데이터 : client_id, cliend_secret\n",
    "   1. 검색어는 입력받기 : keyword\n",
    "   1. 검색 관련 초기값 : const_start, const_display\n",
    "   1. 검색 결과 저장 변수 : jsonResultAll\n",
    "\n",
    "1. 네이버 뉴스를 검색하여 리스트로 저장\n",
    "   1. 네이버 뉴스 검색 : **searchNaverNews()** -> 파이썬 json 데이터\n",
    "       1. url 구성하기\n",
    "       1. url 접속과 검색 요청하기\n",
    "       1. url 요청결과를 응답 json으로 받기 (json.loads)\n",
    "   1. 응답데이터를 리스트에 저장 : **setNewSearchResult** -> List\n",
    "   1. 응답데이터가 없을 때까지 반복\n",
    "\n",
    "1. 리스트를 JSON 파일로 저장 : **saveSearchResult** (json.dumps)"
   ]
  },
  {
   "cell_type": "code",
   "execution_count": null,
   "id": "9edd49fe",
   "metadata": {},
   "outputs": [],
   "source": []
  }
 ],
 "metadata": {
  "kernelspec": {
   "display_name": "Python 3 (ipykernel)",
   "language": "python",
   "name": "python3"
  },
  "language_info": {
   "codemirror_mode": {
    "name": "ipython",
    "version": 3
   },
   "file_extension": ".py",
   "mimetype": "text/x-python",
   "name": "python",
   "nbconvert_exporter": "python",
   "pygments_lexer": "ipython3",
   "version": "3.10.12"
  }
 },
 "nbformat": 4,
 "nbformat_minor": 5
}
