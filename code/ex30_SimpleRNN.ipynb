{
 "cells": [
  {
   "cell_type": "code",
   "execution_count": 1,
   "id": "9c4ffc83",
   "metadata": {},
   "outputs": [],
   "source": [
    "import numpy as np\n",
    "from tensorflow.keras.preprocessing.text import Tokenizer\n",
    "from tensorflow.keras.preprocessing.sequence import pad_sequences\n",
    "from tensorflow.keras.utils import to_categorical\n",
    "from tensorflow.keras.models import Sequential\n",
    "from tensorflow.keras.layers import Embedding, Dense, SimpleRNN"
   ]
  },
  {
   "cell_type": "code",
   "execution_count": 2,
   "id": "0903c03b",
   "metadata": {},
   "outputs": [],
   "source": [
    "text = \"\"\"경마장에 있는 말이 뛰고 있다\\n\n",
    "그의 말이 법이다\\n\n",
    "가는 말이 고와야 오는 말이 곱다\\n\"\"\""
   ]
  },
  {
   "cell_type": "code",
   "execution_count": 3,
   "id": "5151b65e",
   "metadata": {},
   "outputs": [
    {
     "name": "stdout",
     "output_type": "stream",
     "text": [
      "단어 집합의 크기 : 12\n"
     ]
    }
   ],
   "source": [
    "tokenizer = Tokenizer()\n",
    "tokenizer.fit_on_texts([text])\n",
    "vocab_size = len(tokenizer.word_index) + 1\n",
    "print('단어 집합의 크기 : %d' % vocab_size)"
   ]
  },
  {
   "cell_type": "code",
   "execution_count": 4,
   "id": "e5bc4354",
   "metadata": {},
   "outputs": [
    {
     "name": "stdout",
     "output_type": "stream",
     "text": [
      "{'말이': 1, '경마장에': 2, '있는': 3, '뛰고': 4, '있다': 5, '그의': 6, '법이다': 7, '가는': 8, '고와야': 9, '오는': 10, '곱다': 11}\n"
     ]
    }
   ],
   "source": [
    "print(tokenizer.word_index)"
   ]
  },
  {
   "cell_type": "code",
   "execution_count": 5,
   "id": "b96ce0ed",
   "metadata": {},
   "outputs": [
    {
     "name": "stdout",
     "output_type": "stream",
     "text": [
      "학습에 사용할 샘플의 개수: 11\n"
     ]
    }
   ],
   "source": [
    "sequences = list()\n",
    "for line in text.split('\\n'): # 줄바꿈 문자를 기준으로 문장 토큰화\n",
    "    encoded = tokenizer.texts_to_sequences([line])[0]\n",
    "    for i in range(1, len(encoded)):\n",
    "        sequence = encoded[:i+1]\n",
    "        sequences.append(sequence)\n",
    "\n",
    "print('학습에 사용할 샘플의 개수: %d' % len(sequences))"
   ]
  },
  {
   "cell_type": "code",
   "execution_count": 6,
   "id": "15ebaac0",
   "metadata": {},
   "outputs": [
    {
     "name": "stdout",
     "output_type": "stream",
     "text": [
      "[[2, 3], [2, 3, 1], [2, 3, 1, 4], [2, 3, 1, 4, 5], [6, 1], [6, 1, 7], [8, 1], [8, 1, 9], [8, 1, 9, 10], [8, 1, 9, 10, 1], [8, 1, 9, 10, 1, 11]]\n"
     ]
    }
   ],
   "source": [
    "print(sequences)"
   ]
  },
  {
   "cell_type": "code",
   "execution_count": 7,
   "id": "d2719979",
   "metadata": {},
   "outputs": [
    {
     "name": "stdout",
     "output_type": "stream",
     "text": [
      "샘플의 최대 길이 : 6\n"
     ]
    }
   ],
   "source": [
    "max_len = max(len(l) for l in sequences) # 모든 샘플에서 길이가 가장 긴 샘플의 길이 출력\n",
    "print('샘플의 최대 길이 : {}'.format(max_len))"
   ]
  },
  {
   "cell_type": "code",
   "execution_count": 8,
   "id": "a0a9d4e1",
   "metadata": {},
   "outputs": [],
   "source": [
    "sequences = pad_sequences(sequences, maxlen=max_len, padding='pre')"
   ]
  },
  {
   "cell_type": "code",
   "execution_count": 9,
   "id": "4f9ce969",
   "metadata": {},
   "outputs": [
    {
     "name": "stdout",
     "output_type": "stream",
     "text": [
      "[[ 0  0  0  0  2  3]\n",
      " [ 0  0  0  2  3  1]\n",
      " [ 0  0  2  3  1  4]\n",
      " [ 0  2  3  1  4  5]\n",
      " [ 0  0  0  0  6  1]\n",
      " [ 0  0  0  6  1  7]\n",
      " [ 0  0  0  0  8  1]\n",
      " [ 0  0  0  8  1  9]\n",
      " [ 0  0  8  1  9 10]\n",
      " [ 0  8  1  9 10  1]\n",
      " [ 8  1  9 10  1 11]]\n"
     ]
    }
   ],
   "source": [
    "print(sequences)"
   ]
  },
  {
   "cell_type": "code",
   "execution_count": 10,
   "id": "bf192ea3",
   "metadata": {},
   "outputs": [],
   "source": [
    "sequences = np.array(sequences)\n",
    "X = sequences[:,:-1]\n",
    "y = sequences[:,-1]"
   ]
  },
  {
   "cell_type": "code",
   "execution_count": 11,
   "id": "69a20624",
   "metadata": {},
   "outputs": [
    {
     "name": "stdout",
     "output_type": "stream",
     "text": [
      "[[ 0  0  0  0  2]\n",
      " [ 0  0  0  2  3]\n",
      " [ 0  0  2  3  1]\n",
      " [ 0  2  3  1  4]\n",
      " [ 0  0  0  0  6]\n",
      " [ 0  0  0  6  1]\n",
      " [ 0  0  0  0  8]\n",
      " [ 0  0  0  8  1]\n",
      " [ 0  0  8  1  9]\n",
      " [ 0  8  1  9 10]\n",
      " [ 8  1  9 10  1]]\n"
     ]
    }
   ],
   "source": [
    "print(X)"
   ]
  },
  {
   "cell_type": "code",
   "execution_count": 12,
   "id": "62eaf5c1",
   "metadata": {},
   "outputs": [
    {
     "name": "stdout",
     "output_type": "stream",
     "text": [
      "[ 3  1  4  5  1  7  1  9 10  1 11]\n"
     ]
    }
   ],
   "source": [
    "print(y)"
   ]
  },
  {
   "cell_type": "code",
   "execution_count": 13,
   "id": "002a12b4",
   "metadata": {},
   "outputs": [],
   "source": [
    "y = to_categorical(y, num_classes=vocab_size)"
   ]
  },
  {
   "cell_type": "code",
   "execution_count": 14,
   "id": "b43582da",
   "metadata": {},
   "outputs": [
    {
     "name": "stdout",
     "output_type": "stream",
     "text": [
      "[[0. 0. 0. 1. 0. 0. 0. 0. 0. 0. 0. 0.]\n",
      " [0. 1. 0. 0. 0. 0. 0. 0. 0. 0. 0. 0.]\n",
      " [0. 0. 0. 0. 1. 0. 0. 0. 0. 0. 0. 0.]\n",
      " [0. 0. 0. 0. 0. 1. 0. 0. 0. 0. 0. 0.]\n",
      " [0. 1. 0. 0. 0. 0. 0. 0. 0. 0. 0. 0.]\n",
      " [0. 0. 0. 0. 0. 0. 0. 1. 0. 0. 0. 0.]\n",
      " [0. 1. 0. 0. 0. 0. 0. 0. 0. 0. 0. 0.]\n",
      " [0. 0. 0. 0. 0. 0. 0. 0. 0. 1. 0. 0.]\n",
      " [0. 0. 0. 0. 0. 0. 0. 0. 0. 0. 1. 0.]\n",
      " [0. 1. 0. 0. 0. 0. 0. 0. 0. 0. 0. 0.]\n",
      " [0. 0. 0. 0. 0. 0. 0. 0. 0. 0. 0. 1.]]\n"
     ]
    }
   ],
   "source": [
    "print(y)"
   ]
  },
  {
   "cell_type": "code",
   "execution_count": 15,
   "id": "dbf4db56",
   "metadata": {},
   "outputs": [
    {
     "name": "stdout",
     "output_type": "stream",
     "text": [
      "Epoch 1/200\n",
      "1/1 - 1s - loss: 2.4919 - accuracy: 0.0000e+00 - 1s/epoch - 1s/step\n",
      "Epoch 2/200\n",
      "1/1 - 0s - loss: 2.4776 - accuracy: 0.0909 - 9ms/epoch - 9ms/step\n",
      "Epoch 3/200\n",
      "1/1 - 0s - loss: 2.4633 - accuracy: 0.1818 - 10ms/epoch - 10ms/step\n",
      "Epoch 4/200\n",
      "1/1 - 0s - loss: 2.4489 - accuracy: 0.1818 - 18ms/epoch - 18ms/step\n",
      "Epoch 5/200\n",
      "1/1 - 0s - loss: 2.4343 - accuracy: 0.3636 - 9ms/epoch - 9ms/step\n",
      "Epoch 6/200\n",
      "1/1 - 0s - loss: 2.4194 - accuracy: 0.4545 - 7ms/epoch - 7ms/step\n",
      "Epoch 7/200\n",
      "1/1 - 0s - loss: 2.4040 - accuracy: 0.5455 - 10ms/epoch - 10ms/step\n",
      "Epoch 8/200\n",
      "1/1 - 0s - loss: 2.3881 - accuracy: 0.5455 - 9ms/epoch - 9ms/step\n",
      "Epoch 9/200\n",
      "1/1 - 0s - loss: 2.3715 - accuracy: 0.5455 - 8ms/epoch - 8ms/step\n",
      "Epoch 10/200\n",
      "1/1 - 0s - loss: 2.3541 - accuracy: 0.5455 - 10ms/epoch - 10ms/step\n",
      "Epoch 11/200\n",
      "1/1 - 0s - loss: 2.3359 - accuracy: 0.5455 - 8ms/epoch - 8ms/step\n",
      "Epoch 12/200\n",
      "1/1 - 0s - loss: 2.3168 - accuracy: 0.4545 - 8ms/epoch - 8ms/step\n",
      "Epoch 13/200\n",
      "1/1 - 0s - loss: 2.2967 - accuracy: 0.4545 - 9ms/epoch - 9ms/step\n",
      "Epoch 14/200\n",
      "1/1 - 0s - loss: 2.2755 - accuracy: 0.4545 - 9ms/epoch - 9ms/step\n",
      "Epoch 15/200\n",
      "1/1 - 0s - loss: 2.2533 - accuracy: 0.4545 - 9ms/epoch - 9ms/step\n",
      "Epoch 16/200\n",
      "1/1 - 0s - loss: 2.2301 - accuracy: 0.4545 - 7ms/epoch - 7ms/step\n",
      "Epoch 17/200\n",
      "1/1 - 0s - loss: 2.2058 - accuracy: 0.4545 - 8ms/epoch - 8ms/step\n",
      "Epoch 18/200\n",
      "1/1 - 0s - loss: 2.1805 - accuracy: 0.3636 - 10ms/epoch - 10ms/step\n",
      "Epoch 19/200\n",
      "1/1 - 0s - loss: 2.1543 - accuracy: 0.3636 - 8ms/epoch - 8ms/step\n",
      "Epoch 20/200\n",
      "1/1 - 0s - loss: 2.1273 - accuracy: 0.3636 - 9ms/epoch - 9ms/step\n",
      "Epoch 21/200\n",
      "1/1 - 0s - loss: 2.0996 - accuracy: 0.3636 - 8ms/epoch - 8ms/step\n",
      "Epoch 22/200\n",
      "1/1 - 0s - loss: 2.0716 - accuracy: 0.3636 - 8ms/epoch - 8ms/step\n",
      "Epoch 23/200\n",
      "1/1 - 0s - loss: 2.0435 - accuracy: 0.3636 - 10ms/epoch - 10ms/step\n",
      "Epoch 24/200\n",
      "1/1 - 0s - loss: 2.0156 - accuracy: 0.3636 - 9ms/epoch - 9ms/step\n",
      "Epoch 25/200\n",
      "1/1 - 0s - loss: 1.9884 - accuracy: 0.3636 - 8ms/epoch - 8ms/step\n",
      "Epoch 26/200\n",
      "1/1 - 0s - loss: 1.9622 - accuracy: 0.3636 - 10ms/epoch - 10ms/step\n",
      "Epoch 27/200\n",
      "1/1 - 0s - loss: 1.9375 - accuracy: 0.3636 - 8ms/epoch - 8ms/step\n",
      "Epoch 28/200\n",
      "1/1 - 0s - loss: 1.9146 - accuracy: 0.3636 - 9ms/epoch - 9ms/step\n",
      "Epoch 29/200\n",
      "1/1 - 0s - loss: 1.8940 - accuracy: 0.3636 - 9ms/epoch - 9ms/step\n",
      "Epoch 30/200\n",
      "1/1 - 0s - loss: 1.8757 - accuracy: 0.3636 - 8ms/epoch - 8ms/step\n",
      "Epoch 31/200\n",
      "1/1 - 0s - loss: 1.8599 - accuracy: 0.3636 - 9ms/epoch - 9ms/step\n",
      "Epoch 32/200\n",
      "1/1 - 0s - loss: 1.8464 - accuracy: 0.3636 - 8ms/epoch - 8ms/step\n",
      "Epoch 33/200\n",
      "1/1 - 0s - loss: 1.8347 - accuracy: 0.3636 - 9ms/epoch - 9ms/step\n",
      "Epoch 34/200\n",
      "1/1 - 0s - loss: 1.8243 - accuracy: 0.3636 - 10ms/epoch - 10ms/step\n",
      "Epoch 35/200\n",
      "1/1 - 0s - loss: 1.8147 - accuracy: 0.3636 - 8ms/epoch - 8ms/step\n",
      "Epoch 36/200\n",
      "1/1 - 0s - loss: 1.8053 - accuracy: 0.3636 - 10ms/epoch - 10ms/step\n",
      "Epoch 37/200\n",
      "1/1 - 0s - loss: 1.7956 - accuracy: 0.3636 - 10ms/epoch - 10ms/step\n",
      "Epoch 38/200\n",
      "1/1 - 0s - loss: 1.7853 - accuracy: 0.3636 - 8ms/epoch - 8ms/step\n",
      "Epoch 39/200\n",
      "1/1 - 0s - loss: 1.7743 - accuracy: 0.3636 - 10ms/epoch - 10ms/step\n",
      "Epoch 40/200\n",
      "1/1 - 0s - loss: 1.7626 - accuracy: 0.3636 - 8ms/epoch - 8ms/step\n",
      "Epoch 41/200\n",
      "1/1 - 0s - loss: 1.7503 - accuracy: 0.3636 - 8ms/epoch - 8ms/step\n",
      "Epoch 42/200\n",
      "1/1 - 0s - loss: 1.7376 - accuracy: 0.3636 - 9ms/epoch - 9ms/step\n",
      "Epoch 43/200\n",
      "1/1 - 0s - loss: 1.7247 - accuracy: 0.3636 - 8ms/epoch - 8ms/step\n",
      "Epoch 44/200\n",
      "1/1 - 0s - loss: 1.7115 - accuracy: 0.3636 - 10ms/epoch - 10ms/step\n",
      "Epoch 45/200\n",
      "1/1 - 0s - loss: 1.6983 - accuracy: 0.3636 - 10ms/epoch - 10ms/step\n",
      "Epoch 46/200\n",
      "1/1 - 0s - loss: 1.6850 - accuracy: 0.3636 - 8ms/epoch - 8ms/step\n",
      "Epoch 47/200\n",
      "1/1 - 0s - loss: 1.6715 - accuracy: 0.3636 - 8ms/epoch - 8ms/step\n",
      "Epoch 48/200\n",
      "1/1 - 0s - loss: 1.6579 - accuracy: 0.3636 - 9ms/epoch - 9ms/step\n",
      "Epoch 49/200\n",
      "1/1 - 0s - loss: 1.6438 - accuracy: 0.3636 - 8ms/epoch - 8ms/step\n",
      "Epoch 50/200\n",
      "1/1 - 0s - loss: 1.6294 - accuracy: 0.3636 - 10ms/epoch - 10ms/step\n",
      "Epoch 51/200\n",
      "1/1 - 0s - loss: 1.6143 - accuracy: 0.3636 - 8ms/epoch - 8ms/step\n",
      "Epoch 52/200\n",
      "1/1 - 0s - loss: 1.5987 - accuracy: 0.3636 - 8ms/epoch - 8ms/step\n",
      "Epoch 53/200\n",
      "1/1 - 0s - loss: 1.5823 - accuracy: 0.3636 - 9ms/epoch - 9ms/step\n",
      "Epoch 54/200\n",
      "1/1 - 0s - loss: 1.5652 - accuracy: 0.4545 - 8ms/epoch - 8ms/step\n",
      "Epoch 55/200\n",
      "1/1 - 0s - loss: 1.5474 - accuracy: 0.5455 - 9ms/epoch - 9ms/step\n",
      "Epoch 56/200\n",
      "1/1 - 0s - loss: 1.5290 - accuracy: 0.5455 - 8ms/epoch - 8ms/step\n",
      "Epoch 57/200\n",
      "1/1 - 0s - loss: 1.5098 - accuracy: 0.5455 - 9ms/epoch - 9ms/step\n",
      "Epoch 58/200\n",
      "1/1 - 0s - loss: 1.4901 - accuracy: 0.5455 - 10ms/epoch - 10ms/step\n",
      "Epoch 59/200\n",
      "1/1 - 0s - loss: 1.4699 - accuracy: 0.5455 - 8ms/epoch - 8ms/step\n",
      "Epoch 60/200\n",
      "1/1 - 0s - loss: 1.4492 - accuracy: 0.5455 - 11ms/epoch - 11ms/step\n",
      "Epoch 61/200\n",
      "1/1 - 0s - loss: 1.4281 - accuracy: 0.6364 - 10ms/epoch - 10ms/step\n",
      "Epoch 62/200\n",
      "1/1 - 0s - loss: 1.4067 - accuracy: 0.6364 - 15ms/epoch - 15ms/step\n",
      "Epoch 63/200\n",
      "1/1 - 0s - loss: 1.3849 - accuracy: 0.6364 - 8ms/epoch - 8ms/step\n",
      "Epoch 64/200\n",
      "1/1 - 0s - loss: 1.3630 - accuracy: 0.6364 - 10ms/epoch - 10ms/step\n",
      "Epoch 65/200\n",
      "1/1 - 0s - loss: 1.3408 - accuracy: 0.6364 - 10ms/epoch - 10ms/step\n",
      "Epoch 66/200\n",
      "1/1 - 0s - loss: 1.3185 - accuracy: 0.7273 - 8ms/epoch - 8ms/step\n",
      "Epoch 67/200\n",
      "1/1 - 0s - loss: 1.2962 - accuracy: 0.7273 - 10ms/epoch - 10ms/step\n",
      "Epoch 68/200\n",
      "1/1 - 0s - loss: 1.2738 - accuracy: 0.7273 - 11ms/epoch - 11ms/step\n",
      "Epoch 69/200\n",
      "1/1 - 0s - loss: 1.2515 - accuracy: 0.7273 - 9ms/epoch - 9ms/step\n",
      "Epoch 70/200\n",
      "1/1 - 0s - loss: 1.2294 - accuracy: 0.7273 - 9ms/epoch - 9ms/step\n",
      "Epoch 71/200\n",
      "1/1 - 0s - loss: 1.2073 - accuracy: 0.7273 - 10ms/epoch - 10ms/step\n",
      "Epoch 72/200\n",
      "1/1 - 0s - loss: 1.1855 - accuracy: 0.7273 - 8ms/epoch - 8ms/step\n",
      "Epoch 73/200\n",
      "1/1 - 0s - loss: 1.1640 - accuracy: 0.7273 - 10ms/epoch - 10ms/step\n",
      "Epoch 74/200\n",
      "1/1 - 0s - loss: 1.1428 - accuracy: 0.7273 - 11ms/epoch - 11ms/step\n",
      "Epoch 75/200\n",
      "1/1 - 0s - loss: 1.1219 - accuracy: 0.7273 - 10ms/epoch - 10ms/step\n",
      "Epoch 76/200\n",
      "1/1 - 0s - loss: 1.1015 - accuracy: 0.7273 - 8ms/epoch - 8ms/step\n",
      "Epoch 77/200\n",
      "1/1 - 0s - loss: 1.0814 - accuracy: 0.7273 - 11ms/epoch - 11ms/step\n",
      "Epoch 78/200\n",
      "1/1 - 0s - loss: 1.0618 - accuracy: 0.7273 - 11ms/epoch - 11ms/step\n",
      "Epoch 79/200\n",
      "1/1 - 0s - loss: 1.0426 - accuracy: 0.7273 - 8ms/epoch - 8ms/step\n",
      "Epoch 80/200\n",
      "1/1 - 0s - loss: 1.0238 - accuracy: 0.7273 - 9ms/epoch - 9ms/step\n",
      "Epoch 81/200\n",
      "1/1 - 0s - loss: 1.0054 - accuracy: 0.7273 - 11ms/epoch - 11ms/step\n",
      "Epoch 82/200\n",
      "1/1 - 0s - loss: 0.9875 - accuracy: 0.7273 - 8ms/epoch - 8ms/step\n",
      "Epoch 83/200\n",
      "1/1 - 0s - loss: 0.9700 - accuracy: 0.7273 - 10ms/epoch - 10ms/step\n",
      "Epoch 84/200\n",
      "1/1 - 0s - loss: 0.9529 - accuracy: 0.7273 - 11ms/epoch - 11ms/step\n",
      "Epoch 85/200\n",
      "1/1 - 0s - loss: 0.9362 - accuracy: 0.7273 - 8ms/epoch - 8ms/step\n",
      "Epoch 86/200\n",
      "1/1 - 0s - loss: 0.9199 - accuracy: 0.7273 - 9ms/epoch - 9ms/step\n",
      "Epoch 87/200\n",
      "1/1 - 0s - loss: 0.9040 - accuracy: 0.7273 - 11ms/epoch - 11ms/step\n",
      "Epoch 88/200\n",
      "1/1 - 0s - loss: 0.8884 - accuracy: 0.7273 - 8ms/epoch - 8ms/step\n",
      "Epoch 89/200\n",
      "1/1 - 0s - loss: 0.8732 - accuracy: 0.7273 - 9ms/epoch - 9ms/step\n",
      "Epoch 90/200\n",
      "1/1 - 0s - loss: 0.8583 - accuracy: 0.7273 - 11ms/epoch - 11ms/step\n",
      "Epoch 91/200\n",
      "1/1 - 0s - loss: 0.8437 - accuracy: 0.7273 - 9ms/epoch - 9ms/step\n",
      "Epoch 92/200\n",
      "1/1 - 0s - loss: 0.8295 - accuracy: 0.7273 - 8ms/epoch - 8ms/step\n",
      "Epoch 93/200\n",
      "1/1 - 0s - loss: 0.8155 - accuracy: 0.7273 - 11ms/epoch - 11ms/step\n",
      "Epoch 94/200\n",
      "1/1 - 0s - loss: 0.8017 - accuracy: 0.7273 - 8ms/epoch - 8ms/step\n",
      "Epoch 95/200\n",
      "1/1 - 0s - loss: 0.7882 - accuracy: 0.7273 - 9ms/epoch - 9ms/step\n",
      "Epoch 96/200\n",
      "1/1 - 0s - loss: 0.7750 - accuracy: 0.7273 - 11ms/epoch - 11ms/step\n",
      "Epoch 97/200\n",
      "1/1 - 0s - loss: 0.7620 - accuracy: 0.7273 - 9ms/epoch - 9ms/step\n",
      "Epoch 98/200\n",
      "1/1 - 0s - loss: 0.7493 - accuracy: 0.7273 - 8ms/epoch - 8ms/step\n",
      "Epoch 99/200\n",
      "1/1 - 0s - loss: 0.7367 - accuracy: 0.7273 - 10ms/epoch - 10ms/step\n",
      "Epoch 100/200\n",
      "1/1 - 0s - loss: 0.7244 - accuracy: 0.7273 - 9ms/epoch - 9ms/step\n",
      "Epoch 101/200\n",
      "1/1 - 0s - loss: 0.7123 - accuracy: 0.7273 - 8ms/epoch - 8ms/step\n",
      "Epoch 102/200\n",
      "1/1 - 0s - loss: 0.7005 - accuracy: 0.7273 - 10ms/epoch - 10ms/step\n",
      "Epoch 103/200\n",
      "1/1 - 0s - loss: 0.6888 - accuracy: 0.7273 - 8ms/epoch - 8ms/step\n"
     ]
    },
    {
     "name": "stdout",
     "output_type": "stream",
     "text": [
      "Epoch 104/200\n",
      "1/1 - 0s - loss: 0.6774 - accuracy: 0.7273 - 9ms/epoch - 9ms/step\n",
      "Epoch 105/200\n",
      "1/1 - 0s - loss: 0.6661 - accuracy: 0.7273 - 10ms/epoch - 10ms/step\n",
      "Epoch 106/200\n",
      "1/1 - 0s - loss: 0.6550 - accuracy: 0.7273 - 8ms/epoch - 8ms/step\n",
      "Epoch 107/200\n",
      "1/1 - 0s - loss: 0.6442 - accuracy: 0.7273 - 10ms/epoch - 10ms/step\n",
      "Epoch 108/200\n",
      "1/1 - 0s - loss: 0.6335 - accuracy: 0.8182 - 11ms/epoch - 11ms/step\n",
      "Epoch 109/200\n",
      "1/1 - 0s - loss: 0.6230 - accuracy: 0.8182 - 9ms/epoch - 9ms/step\n",
      "Epoch 110/200\n",
      "1/1 - 0s - loss: 0.6127 - accuracy: 0.8182 - 10ms/epoch - 10ms/step\n",
      "Epoch 111/200\n",
      "1/1 - 0s - loss: 0.6025 - accuracy: 0.8182 - 10ms/epoch - 10ms/step\n",
      "Epoch 112/200\n",
      "1/1 - 0s - loss: 0.5926 - accuracy: 0.8182 - 9ms/epoch - 9ms/step\n",
      "Epoch 113/200\n",
      "1/1 - 0s - loss: 0.5828 - accuracy: 0.8182 - 10ms/epoch - 10ms/step\n",
      "Epoch 114/200\n",
      "1/1 - 0s - loss: 0.5731 - accuracy: 0.8182 - 8ms/epoch - 8ms/step\n",
      "Epoch 115/200\n",
      "1/1 - 0s - loss: 0.5636 - accuracy: 0.8182 - 9ms/epoch - 9ms/step\n",
      "Epoch 116/200\n",
      "1/1 - 0s - loss: 0.5543 - accuracy: 0.8182 - 11ms/epoch - 11ms/step\n",
      "Epoch 117/200\n",
      "1/1 - 0s - loss: 0.5452 - accuracy: 0.8182 - 8ms/epoch - 8ms/step\n",
      "Epoch 118/200\n",
      "1/1 - 0s - loss: 0.5361 - accuracy: 0.9091 - 8ms/epoch - 8ms/step\n",
      "Epoch 119/200\n",
      "1/1 - 0s - loss: 0.5273 - accuracy: 0.9091 - 10ms/epoch - 10ms/step\n",
      "Epoch 120/200\n",
      "1/1 - 0s - loss: 0.5185 - accuracy: 0.9091 - 8ms/epoch - 8ms/step\n",
      "Epoch 121/200\n",
      "1/1 - 0s - loss: 0.5099 - accuracy: 0.9091 - 9ms/epoch - 9ms/step\n",
      "Epoch 122/200\n",
      "1/1 - 0s - loss: 0.5015 - accuracy: 0.9091 - 11ms/epoch - 11ms/step\n",
      "Epoch 123/200\n",
      "1/1 - 0s - loss: 0.4932 - accuracy: 0.9091 - 9ms/epoch - 9ms/step\n",
      "Epoch 124/200\n",
      "1/1 - 0s - loss: 0.4850 - accuracy: 0.9091 - 10ms/epoch - 10ms/step\n",
      "Epoch 125/200\n",
      "1/1 - 0s - loss: 0.4769 - accuracy: 0.9091 - 9ms/epoch - 9ms/step\n",
      "Epoch 126/200\n",
      "1/1 - 0s - loss: 0.4690 - accuracy: 0.9091 - 9ms/epoch - 9ms/step\n",
      "Epoch 127/200\n",
      "1/1 - 0s - loss: 0.4612 - accuracy: 0.9091 - 10ms/epoch - 10ms/step\n",
      "Epoch 128/200\n",
      "1/1 - 0s - loss: 0.4535 - accuracy: 0.9091 - 8ms/epoch - 8ms/step\n",
      "Epoch 129/200\n",
      "1/1 - 0s - loss: 0.4459 - accuracy: 0.9091 - 9ms/epoch - 9ms/step\n",
      "Epoch 130/200\n",
      "1/1 - 0s - loss: 0.4384 - accuracy: 0.9091 - 9ms/epoch - 9ms/step\n",
      "Epoch 131/200\n",
      "1/1 - 0s - loss: 0.4311 - accuracy: 0.9091 - 8ms/epoch - 8ms/step\n",
      "Epoch 132/200\n",
      "1/1 - 0s - loss: 0.4239 - accuracy: 0.9091 - 8ms/epoch - 8ms/step\n",
      "Epoch 133/200\n",
      "1/1 - 0s - loss: 0.4168 - accuracy: 0.9091 - 10ms/epoch - 10ms/step\n",
      "Epoch 134/200\n",
      "1/1 - 0s - loss: 0.4098 - accuracy: 0.9091 - 8ms/epoch - 8ms/step\n",
      "Epoch 135/200\n",
      "1/1 - 0s - loss: 0.4029 - accuracy: 0.9091 - 10ms/epoch - 10ms/step\n",
      "Epoch 136/200\n",
      "1/1 - 0s - loss: 0.3961 - accuracy: 0.9091 - 11ms/epoch - 11ms/step\n",
      "Epoch 137/200\n",
      "1/1 - 0s - loss: 0.3894 - accuracy: 0.9091 - 9ms/epoch - 9ms/step\n",
      "Epoch 138/200\n",
      "1/1 - 0s - loss: 0.3828 - accuracy: 0.9091 - 11ms/epoch - 11ms/step\n",
      "Epoch 139/200\n",
      "1/1 - 0s - loss: 0.3764 - accuracy: 0.9091 - 8ms/epoch - 8ms/step\n",
      "Epoch 140/200\n",
      "1/1 - 0s - loss: 0.3700 - accuracy: 0.9091 - 8ms/epoch - 8ms/step\n",
      "Epoch 141/200\n",
      "1/1 - 0s - loss: 0.3637 - accuracy: 0.9091 - 10ms/epoch - 10ms/step\n",
      "Epoch 142/200\n",
      "1/1 - 0s - loss: 0.3576 - accuracy: 0.9091 - 8ms/epoch - 8ms/step\n",
      "Epoch 143/200\n",
      "1/1 - 0s - loss: 0.3515 - accuracy: 0.9091 - 8ms/epoch - 8ms/step\n",
      "Epoch 144/200\n",
      "1/1 - 0s - loss: 0.3455 - accuracy: 0.9091 - 10ms/epoch - 10ms/step\n",
      "Epoch 145/200\n",
      "1/1 - 0s - loss: 0.3397 - accuracy: 0.9091 - 8ms/epoch - 8ms/step\n",
      "Epoch 146/200\n",
      "1/1 - 0s - loss: 0.3339 - accuracy: 0.9091 - 9ms/epoch - 9ms/step\n",
      "Epoch 147/200\n",
      "1/1 - 0s - loss: 0.3282 - accuracy: 0.9091 - 10ms/epoch - 10ms/step\n",
      "Epoch 148/200\n",
      "1/1 - 0s - loss: 0.3226 - accuracy: 0.9091 - 9ms/epoch - 9ms/step\n",
      "Epoch 149/200\n",
      "1/1 - 0s - loss: 0.3171 - accuracy: 0.9091 - 9ms/epoch - 9ms/step\n",
      "Epoch 150/200\n",
      "1/1 - 0s - loss: 0.3116 - accuracy: 0.9091 - 9ms/epoch - 9ms/step\n",
      "Epoch 151/200\n",
      "1/1 - 0s - loss: 0.3063 - accuracy: 0.9091 - 9ms/epoch - 9ms/step\n",
      "Epoch 152/200\n",
      "1/1 - 0s - loss: 0.3010 - accuracy: 0.9091 - 10ms/epoch - 10ms/step\n",
      "Epoch 153/200\n",
      "1/1 - 0s - loss: 0.2958 - accuracy: 0.9091 - 8ms/epoch - 8ms/step\n",
      "Epoch 154/200\n",
      "1/1 - 0s - loss: 0.2907 - accuracy: 0.9091 - 10ms/epoch - 10ms/step\n",
      "Epoch 155/200\n",
      "1/1 - 0s - loss: 0.2857 - accuracy: 0.9091 - 9ms/epoch - 9ms/step\n",
      "Epoch 156/200\n",
      "1/1 - 0s - loss: 0.2808 - accuracy: 0.9091 - 8ms/epoch - 8ms/step\n",
      "Epoch 157/200\n",
      "1/1 - 0s - loss: 0.2759 - accuracy: 0.9091 - 10ms/epoch - 10ms/step\n",
      "Epoch 158/200\n",
      "1/1 - 0s - loss: 0.2712 - accuracy: 0.9091 - 10ms/epoch - 10ms/step\n",
      "Epoch 159/200\n",
      "1/1 - 0s - loss: 0.2664 - accuracy: 1.0000 - 8ms/epoch - 8ms/step\n",
      "Epoch 160/200\n",
      "1/1 - 0s - loss: 0.2618 - accuracy: 1.0000 - 11ms/epoch - 11ms/step\n",
      "Epoch 161/200\n",
      "1/1 - 0s - loss: 0.2572 - accuracy: 1.0000 - 11ms/epoch - 11ms/step\n",
      "Epoch 162/200\n",
      "1/1 - 0s - loss: 0.2528 - accuracy: 1.0000 - 8ms/epoch - 8ms/step\n",
      "Epoch 163/200\n",
      "1/1 - 0s - loss: 0.2483 - accuracy: 1.0000 - 9ms/epoch - 9ms/step\n",
      "Epoch 164/200\n",
      "1/1 - 0s - loss: 0.2440 - accuracy: 1.0000 - 11ms/epoch - 11ms/step\n",
      "Epoch 165/200\n",
      "1/1 - 0s - loss: 0.2397 - accuracy: 1.0000 - 9ms/epoch - 9ms/step\n",
      "Epoch 166/200\n",
      "1/1 - 0s - loss: 0.2355 - accuracy: 1.0000 - 11ms/epoch - 11ms/step\n",
      "Epoch 167/200\n",
      "1/1 - 0s - loss: 0.2314 - accuracy: 1.0000 - 10ms/epoch - 10ms/step\n",
      "Epoch 168/200\n",
      "1/1 - 0s - loss: 0.2273 - accuracy: 1.0000 - 8ms/epoch - 8ms/step\n",
      "Epoch 169/200\n",
      "1/1 - 0s - loss: 0.2233 - accuracy: 1.0000 - 11ms/epoch - 11ms/step\n",
      "Epoch 170/200\n",
      "1/1 - 0s - loss: 0.2194 - accuracy: 1.0000 - 10ms/epoch - 10ms/step\n",
      "Epoch 171/200\n",
      "1/1 - 0s - loss: 0.2155 - accuracy: 1.0000 - 9ms/epoch - 9ms/step\n",
      "Epoch 172/200\n",
      "1/1 - 0s - loss: 0.2117 - accuracy: 1.0000 - 9ms/epoch - 9ms/step\n",
      "Epoch 173/200\n",
      "1/1 - 0s - loss: 0.2079 - accuracy: 1.0000 - 11ms/epoch - 11ms/step\n",
      "Epoch 174/200\n",
      "1/1 - 0s - loss: 0.2043 - accuracy: 1.0000 - 8ms/epoch - 8ms/step\n",
      "Epoch 175/200\n",
      "1/1 - 0s - loss: 0.2007 - accuracy: 1.0000 - 10ms/epoch - 10ms/step\n",
      "Epoch 176/200\n",
      "1/1 - 0s - loss: 0.1971 - accuracy: 1.0000 - 12ms/epoch - 12ms/step\n",
      "Epoch 177/200\n",
      "1/1 - 0s - loss: 0.1936 - accuracy: 1.0000 - 8ms/epoch - 8ms/step\n",
      "Epoch 178/200\n",
      "1/1 - 0s - loss: 0.1902 - accuracy: 1.0000 - 9ms/epoch - 9ms/step\n",
      "Epoch 179/200\n",
      "1/1 - 0s - loss: 0.1868 - accuracy: 1.0000 - 10ms/epoch - 10ms/step\n",
      "Epoch 180/200\n",
      "1/1 - 0s - loss: 0.1835 - accuracy: 1.0000 - 8ms/epoch - 8ms/step\n",
      "Epoch 181/200\n",
      "1/1 - 0s - loss: 0.1803 - accuracy: 1.0000 - 10ms/epoch - 10ms/step\n",
      "Epoch 182/200\n",
      "1/1 - 0s - loss: 0.1771 - accuracy: 1.0000 - 12ms/epoch - 12ms/step\n",
      "Epoch 183/200\n",
      "1/1 - 0s - loss: 0.1739 - accuracy: 1.0000 - 9ms/epoch - 9ms/step\n",
      "Epoch 184/200\n",
      "1/1 - 0s - loss: 0.1709 - accuracy: 1.0000 - 8ms/epoch - 8ms/step\n",
      "Epoch 185/200\n",
      "1/1 - 0s - loss: 0.1679 - accuracy: 1.0000 - 11ms/epoch - 11ms/step\n",
      "Epoch 186/200\n",
      "1/1 - 0s - loss: 0.1649 - accuracy: 1.0000 - 8ms/epoch - 8ms/step\n",
      "Epoch 187/200\n",
      "1/1 - 0s - loss: 0.1620 - accuracy: 1.0000 - 8ms/epoch - 8ms/step\n",
      "Epoch 188/200\n",
      "1/1 - 0s - loss: 0.1592 - accuracy: 1.0000 - 11ms/epoch - 11ms/step\n",
      "Epoch 189/200\n",
      "1/1 - 0s - loss: 0.1564 - accuracy: 1.0000 - 8ms/epoch - 8ms/step\n",
      "Epoch 190/200\n",
      "1/1 - 0s - loss: 0.1536 - accuracy: 1.0000 - 11ms/epoch - 11ms/step\n",
      "Epoch 191/200\n",
      "1/1 - 0s - loss: 0.1509 - accuracy: 1.0000 - 11ms/epoch - 11ms/step\n",
      "Epoch 192/200\n",
      "1/1 - 0s - loss: 0.1483 - accuracy: 1.0000 - 8ms/epoch - 8ms/step\n",
      "Epoch 193/200\n",
      "1/1 - 0s - loss: 0.1457 - accuracy: 1.0000 - 9ms/epoch - 9ms/step\n",
      "Epoch 194/200\n",
      "1/1 - 0s - loss: 0.1432 - accuracy: 1.0000 - 11ms/epoch - 11ms/step\n",
      "Epoch 195/200\n",
      "1/1 - 0s - loss: 0.1407 - accuracy: 1.0000 - 8ms/epoch - 8ms/step\n",
      "Epoch 196/200\n",
      "1/1 - 0s - loss: 0.1383 - accuracy: 1.0000 - 10ms/epoch - 10ms/step\n",
      "Epoch 197/200\n",
      "1/1 - 0s - loss: 0.1359 - accuracy: 1.0000 - 10ms/epoch - 10ms/step\n",
      "Epoch 198/200\n",
      "1/1 - 0s - loss: 0.1336 - accuracy: 1.0000 - 8ms/epoch - 8ms/step\n",
      "Epoch 199/200\n",
      "1/1 - 0s - loss: 0.1313 - accuracy: 1.0000 - 11ms/epoch - 11ms/step\n",
      "Epoch 200/200\n",
      "1/1 - 0s - loss: 0.1290 - accuracy: 1.0000 - 10ms/epoch - 10ms/step\n"
     ]
    },
    {
     "data": {
      "text/plain": [
       "<keras.callbacks.History at 0x2849760a908>"
      ]
     },
     "execution_count": 15,
     "metadata": {},
     "output_type": "execute_result"
    }
   ],
   "source": [
    "embedding_dim = 10\n",
    "hidden_units = 32\n",
    "\n",
    "model = Sequential()\n",
    "model.add(Embedding(vocab_size, embedding_dim))\n",
    "model.add(SimpleRNN(hidden_units))\n",
    "model.add(Dense(vocab_size, activation='softmax'))\n",
    "model.compile(loss='categorical_crossentropy', optimizer='adam', metrics=['accuracy'])\n",
    "model.fit(X, y, epochs=200, verbose=2)"
   ]
  },
  {
   "cell_type": "code",
   "execution_count": 16,
   "id": "af984c59",
   "metadata": {},
   "outputs": [],
   "source": [
    "def sentence_generation(model, tokenizer, current_word, n): # 모델, 토크나이저, 현재 단어, 반복할 횟수\n",
    "    init_word = current_word\n",
    "    sentence = ''\n",
    "\n",
    "    # n번 반복\n",
    "    for _ in range(n):\n",
    "        # 현재 단어에 대한 정수 인코딩과 패딩\n",
    "        encoded = tokenizer.texts_to_sequences([current_word])[0]\n",
    "        encoded = pad_sequences([encoded], maxlen=5, padding='pre')\n",
    "        # 입력한 X(현재 단어)에 대해서 Y를 예측하고 Y(예측한 단어)를 result에 저장.\n",
    "        result = model.predict(encoded, verbose=0)\n",
    "        result = np.argmax(result, axis=1)\n",
    "\n",
    "        for word, index in tokenizer.word_index.items(): \n",
    "            # 만약 예측한 단어와 인덱스와 동일한 단어가 있다면 break\n",
    "            if index == result:\n",
    "                break\n",
    "\n",
    "        # 현재 단어 + ' ' + 예측 단어를 현재 단어로 변경\n",
    "        current_word = current_word + ' '  + word\n",
    "\n",
    "        # 예측 단어를 문장에 저장\n",
    "        sentence = sentence + ' ' + word\n",
    "\n",
    "    sentence = init_word + sentence\n",
    "    return sentence"
   ]
  },
  {
   "cell_type": "code",
   "execution_count": 17,
   "id": "07242ea4",
   "metadata": {},
   "outputs": [
    {
     "name": "stdout",
     "output_type": "stream",
     "text": [
      "경마장의 말이 말이 있는 말이\n"
     ]
    }
   ],
   "source": [
    "print(sentence_generation(model, tokenizer, '경마장의', 4))"
   ]
  },
  {
   "cell_type": "code",
   "execution_count": 18,
   "id": "bc9a065b",
   "metadata": {},
   "outputs": [
    {
     "name": "stdout",
     "output_type": "stream",
     "text": [
      "그의 말이 법이다\n"
     ]
    }
   ],
   "source": [
    "print(sentence_generation(model, tokenizer, '그의', 2))"
   ]
  },
  {
   "cell_type": "code",
   "execution_count": 19,
   "id": "79fe858d",
   "metadata": {},
   "outputs": [
    {
     "name": "stdout",
     "output_type": "stream",
     "text": [
      "가는 말이 고와야 오는 말이 곱다\n"
     ]
    }
   ],
   "source": [
    "print(sentence_generation(model, tokenizer, '가는', 5))"
   ]
  },
  {
   "cell_type": "code",
   "execution_count": 20,
   "id": "8fcd79cb",
   "metadata": {},
   "outputs": [
    {
     "name": "stdout",
     "output_type": "stream",
     "text": [
      "경마장에 있는 말이 뛰고 있다\n"
     ]
    }
   ],
   "source": [
    "print(sentence_generation(model, tokenizer, '경마장에', 4))"
   ]
  },
  {
   "cell_type": "code",
   "execution_count": null,
   "id": "43e223ee",
   "metadata": {},
   "outputs": [],
   "source": []
  },
  {
   "cell_type": "code",
   "execution_count": null,
   "id": "c1e6278b",
   "metadata": {},
   "outputs": [],
   "source": []
  }
 ],
 "metadata": {
  "kernelspec": {
   "display_name": "tensorflowPy37",
   "language": "python",
   "name": "tensorflowpy37"
  },
  "language_info": {
   "codemirror_mode": {
    "name": "ipython",
    "version": 3
   },
   "file_extension": ".py",
   "mimetype": "text/x-python",
   "name": "python",
   "nbconvert_exporter": "python",
   "pygments_lexer": "ipython3",
   "version": "3.7.16"
  }
 },
 "nbformat": 4,
 "nbformat_minor": 5
}
