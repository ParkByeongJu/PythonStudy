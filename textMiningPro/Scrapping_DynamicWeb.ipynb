{
 "cells": [
  {
   "cell_type": "code",
   "execution_count": 18,
   "id": "bde4d195",
   "metadata": {},
   "outputs": [
    {
     "data": {
      "text/plain": [
       "['고대안암병원신관점',\n",
       " '02-544-6823',\n",
       " '서울특별시 성북구 고려대로 73',\n",
       " ' l 월~금 07:00~22:00 l 주말,공휴일 09:00~20:00 l ']"
      ]
     },
     "execution_count": 18,
     "metadata": {},
     "output_type": "execute_result"
    }
   ],
   "source": [
    "import time\n",
    "from selenium import webdriver\n",
    "from selenium.webdriver.chrome.service import Service as ChromeService\n",
    "from webdriver_manager.chrome import ChromeDriverManager\n",
    "from bs4 import BeautifulSoup\n",
    "\n",
    "wdriver = webdriver.Chrome(service=ChromeService(ChromeDriverManager().install()))\n",
    "# storePop2('매장번호')\n",
    "# 매장번호 : 1 ~ 388\n",
    "url = r'https://www.coffeebeankorea.com/store/store.asp'\n",
    "wdriver.get(url)\n",
    "time.sleep(1)\n",
    "\n",
    "wdriver.execute_script(\"storePop2('388')\")\n",
    "time.sleep(5)\n",
    "html_doc = wdriver.page_source\n",
    "\n",
    "# BeautifulSoup으로 scrapping\n",
    "soup = BeautifulSoup(html_doc, 'html.parser')\n",
    "print(soup.prettify())\n",
    "\n",
    "store_name = soup.select('div.store_txt > h2')[0].string\n",
    "store_info = soup.select('div.store_txt > table.store_table > tbody > tr > td')\n",
    "# 0 영업시간, 2 주소, 3 전화번호\n",
    "store_optime = store_info[0].string\n",
    "store_address = list(store_info[2])[0].strip()\n",
    "store_phone = store_info[3].string\n",
    "store_info_list = [store_name, store_phone, store_address, store_optime]\n",
    "store_info_list"
   ]
  }
 ],
 "metadata": {
  "kernelspec": {
   "display_name": "TensorflowPy310",
   "language": "python",
   "name": "tensorflowpy310"
  },
  "language_info": {
   "codemirror_mode": {
    "name": "ipython",
    "version": 3
   },
   "file_extension": ".py",
   "mimetype": "text/x-python",
   "name": "python",
   "nbconvert_exporter": "python",
   "pygments_lexer": "ipython3",
   "version": "3.10.12"
  }
 },
 "nbformat": 4,
 "nbformat_minor": 5
}
