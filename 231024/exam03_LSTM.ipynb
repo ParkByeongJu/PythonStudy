{
 "cells": [
  {
   "cell_type": "code",
   "execution_count": 1,
   "id": "8794b96d",
   "metadata": {},
   "outputs": [],
   "source": [
    "import pandas as pd\n",
    "import numpy as np\n",
    "from string import punctuation\n",
    "\n",
    "from tensorflow.keras.preprocessing.text import Tokenizer\n",
    "from tensorflow.keras.preprocessing.sequence import pad_sequences\n",
    "from tensorflow.keras.utils import to_categorical\n",
    "from tensorflow.keras.models import Sequential\n",
    "from tensorflow.keras.layers import Embedding, Dense, LSTM"
   ]
  },
  {
   "cell_type": "code",
   "execution_count": 2,
   "id": "6b55f049",
   "metadata": {},
   "outputs": [
    {
     "data": {
      "text/html": [
       "<div>\n",
       "<style scoped>\n",
       "    .dataframe tbody tr th:only-of-type {\n",
       "        vertical-align: middle;\n",
       "    }\n",
       "\n",
       "    .dataframe tbody tr th {\n",
       "        vertical-align: top;\n",
       "    }\n",
       "\n",
       "    .dataframe thead th {\n",
       "        text-align: right;\n",
       "    }\n",
       "</style>\n",
       "<table border=\"1\" class=\"dataframe\">\n",
       "  <thead>\n",
       "    <tr style=\"text-align: right;\">\n",
       "      <th></th>\n",
       "      <th>articleID</th>\n",
       "      <th>articleWordCount</th>\n",
       "      <th>byline</th>\n",
       "      <th>documentType</th>\n",
       "      <th>headline</th>\n",
       "      <th>keywords</th>\n",
       "      <th>multimedia</th>\n",
       "      <th>newDesk</th>\n",
       "      <th>printPage</th>\n",
       "      <th>pubDate</th>\n",
       "      <th>sectionName</th>\n",
       "      <th>snippet</th>\n",
       "      <th>source</th>\n",
       "      <th>typeOfMaterial</th>\n",
       "      <th>webURL</th>\n",
       "    </tr>\n",
       "  </thead>\n",
       "  <tbody>\n",
       "    <tr>\n",
       "      <th>0</th>\n",
       "      <td>5adf6684068401528a2aa69b</td>\n",
       "      <td>781</td>\n",
       "      <td>By JOHN BRANCH</td>\n",
       "      <td>article</td>\n",
       "      <td>Former N.F.L. Cheerleaders’ Settlement Offer: ...</td>\n",
       "      <td>['Workplace Hazards and Violations', 'Football...</td>\n",
       "      <td>68</td>\n",
       "      <td>Sports</td>\n",
       "      <td>0</td>\n",
       "      <td>2018-04-24 17:16:49</td>\n",
       "      <td>Pro Football</td>\n",
       "      <td>“I understand that they could meet with us, pa...</td>\n",
       "      <td>The New York Times</td>\n",
       "      <td>News</td>\n",
       "      <td>https://www.nytimes.com/2018/04/24/sports/foot...</td>\n",
       "    </tr>\n",
       "    <tr>\n",
       "      <th>1</th>\n",
       "      <td>5adf653f068401528a2aa697</td>\n",
       "      <td>656</td>\n",
       "      <td>By LISA FRIEDMAN</td>\n",
       "      <td>article</td>\n",
       "      <td>E.P.A. to Unveil a New Rule. Its Effect: Less ...</td>\n",
       "      <td>['Environmental Protection Agency', 'Pruitt, S...</td>\n",
       "      <td>68</td>\n",
       "      <td>Climate</td>\n",
       "      <td>0</td>\n",
       "      <td>2018-04-24 17:11:21</td>\n",
       "      <td>Unknown</td>\n",
       "      <td>The agency plans to publish a new regulation T...</td>\n",
       "      <td>The New York Times</td>\n",
       "      <td>News</td>\n",
       "      <td>https://www.nytimes.com/2018/04/24/climate/epa...</td>\n",
       "    </tr>\n",
       "    <tr>\n",
       "      <th>2</th>\n",
       "      <td>5adf4626068401528a2aa628</td>\n",
       "      <td>2427</td>\n",
       "      <td>By PETE WELLS</td>\n",
       "      <td>article</td>\n",
       "      <td>The New Noma, Explained</td>\n",
       "      <td>['Restaurants', 'Noma (Copenhagen, Restaurant)...</td>\n",
       "      <td>66</td>\n",
       "      <td>Dining</td>\n",
       "      <td>0</td>\n",
       "      <td>2018-04-24 14:58:44</td>\n",
       "      <td>Unknown</td>\n",
       "      <td>What’s it like to eat at the second incarnatio...</td>\n",
       "      <td>The New York Times</td>\n",
       "      <td>News</td>\n",
       "      <td>https://www.nytimes.com/2018/04/24/dining/noma...</td>\n",
       "    </tr>\n",
       "    <tr>\n",
       "      <th>3</th>\n",
       "      <td>5adf40d2068401528a2aa619</td>\n",
       "      <td>626</td>\n",
       "      <td>By JULIE HIRSCHFELD DAVIS and PETER BAKER</td>\n",
       "      <td>article</td>\n",
       "      <td>Unknown</td>\n",
       "      <td>['Macron, Emmanuel (1977- )', 'Trump, Donald J...</td>\n",
       "      <td>68</td>\n",
       "      <td>Washington</td>\n",
       "      <td>0</td>\n",
       "      <td>2018-04-24 14:35:57</td>\n",
       "      <td>Europe</td>\n",
       "      <td>President Trump welcomed President Emmanuel Ma...</td>\n",
       "      <td>The New York Times</td>\n",
       "      <td>News</td>\n",
       "      <td>https://www.nytimes.com/2018/04/24/world/europ...</td>\n",
       "    </tr>\n",
       "    <tr>\n",
       "      <th>4</th>\n",
       "      <td>5adf3d64068401528a2aa60f</td>\n",
       "      <td>815</td>\n",
       "      <td>By IAN AUSTEN and DAN BILEFSKY</td>\n",
       "      <td>article</td>\n",
       "      <td>Unknown</td>\n",
       "      <td>['Toronto, Ontario, Attack (April, 2018)', 'Mu...</td>\n",
       "      <td>68</td>\n",
       "      <td>Foreign</td>\n",
       "      <td>0</td>\n",
       "      <td>2018-04-24 14:21:21</td>\n",
       "      <td>Canada</td>\n",
       "      <td>Alek Minassian, 25, a resident of Toronto’s Ri...</td>\n",
       "      <td>The New York Times</td>\n",
       "      <td>News</td>\n",
       "      <td>https://www.nytimes.com/2018/04/24/world/canad...</td>\n",
       "    </tr>\n",
       "  </tbody>\n",
       "</table>\n",
       "</div>"
      ],
      "text/plain": [
       "                  articleID  articleWordCount  \\\n",
       "0  5adf6684068401528a2aa69b               781   \n",
       "1  5adf653f068401528a2aa697               656   \n",
       "2  5adf4626068401528a2aa628              2427   \n",
       "3  5adf40d2068401528a2aa619               626   \n",
       "4  5adf3d64068401528a2aa60f               815   \n",
       "\n",
       "                                      byline documentType  \\\n",
       "0                             By JOHN BRANCH      article   \n",
       "1                           By LISA FRIEDMAN      article   \n",
       "2                              By PETE WELLS      article   \n",
       "3  By JULIE HIRSCHFELD DAVIS and PETER BAKER      article   \n",
       "4             By IAN AUSTEN and DAN BILEFSKY      article   \n",
       "\n",
       "                                            headline  \\\n",
       "0  Former N.F.L. Cheerleaders’ Settlement Offer: ...   \n",
       "1  E.P.A. to Unveil a New Rule. Its Effect: Less ...   \n",
       "2                            The New Noma, Explained   \n",
       "3                                            Unknown   \n",
       "4                                            Unknown   \n",
       "\n",
       "                                            keywords  multimedia     newDesk  \\\n",
       "0  ['Workplace Hazards and Violations', 'Football...          68      Sports   \n",
       "1  ['Environmental Protection Agency', 'Pruitt, S...          68     Climate   \n",
       "2  ['Restaurants', 'Noma (Copenhagen, Restaurant)...          66      Dining   \n",
       "3  ['Macron, Emmanuel (1977- )', 'Trump, Donald J...          68  Washington   \n",
       "4  ['Toronto, Ontario, Attack (April, 2018)', 'Mu...          68     Foreign   \n",
       "\n",
       "   printPage              pubDate   sectionName  \\\n",
       "0          0  2018-04-24 17:16:49  Pro Football   \n",
       "1          0  2018-04-24 17:11:21       Unknown   \n",
       "2          0  2018-04-24 14:58:44       Unknown   \n",
       "3          0  2018-04-24 14:35:57        Europe   \n",
       "4          0  2018-04-24 14:21:21        Canada   \n",
       "\n",
       "                                             snippet              source  \\\n",
       "0  “I understand that they could meet with us, pa...  The New York Times   \n",
       "1  The agency plans to publish a new regulation T...  The New York Times   \n",
       "2  What’s it like to eat at the second incarnatio...  The New York Times   \n",
       "3  President Trump welcomed President Emmanuel Ma...  The New York Times   \n",
       "4  Alek Minassian, 25, a resident of Toronto’s Ri...  The New York Times   \n",
       "\n",
       "  typeOfMaterial                                             webURL  \n",
       "0           News  https://www.nytimes.com/2018/04/24/sports/foot...  \n",
       "1           News  https://www.nytimes.com/2018/04/24/climate/epa...  \n",
       "2           News  https://www.nytimes.com/2018/04/24/dining/noma...  \n",
       "3           News  https://www.nytimes.com/2018/04/24/world/europ...  \n",
       "4           News  https://www.nytimes.com/2018/04/24/world/canad...  "
      ]
     },
     "execution_count": 2,
     "metadata": {},
     "output_type": "execute_result"
    }
   ],
   "source": [
    "df = pd.read_csv('C:\\\\python\\\\231024\\\\ArticlesApril2018.csv')\n",
    "df.head()"
   ]
  },
  {
   "cell_type": "code",
   "execution_count": 3,
   "id": "c22e080f",
   "metadata": {},
   "outputs": [
    {
     "name": "stdout",
     "output_type": "stream",
     "text": [
      "열의 개수:  15\n",
      "Index(['articleID', 'articleWordCount', 'byline', 'documentType', 'headline',\n",
      "       'keywords', 'multimedia', 'newDesk', 'printPage', 'pubDate',\n",
      "       'sectionName', 'snippet', 'source', 'typeOfMaterial', 'webURL'],\n",
      "      dtype='object')\n"
     ]
    }
   ],
   "source": [
    "print('열의 개수: ',len(df.columns))\n",
    "print(df.columns)"
   ]
  },
  {
   "cell_type": "code",
   "execution_count": 4,
   "id": "89b5e9d4",
   "metadata": {},
   "outputs": [
    {
     "name": "stdout",
     "output_type": "stream",
     "text": [
      "False\n"
     ]
    }
   ],
   "source": [
    "print(df['headline'].isnull().values.any())"
   ]
  },
  {
   "cell_type": "code",
   "execution_count": 5,
   "id": "3f2113f8",
   "metadata": {},
   "outputs": [
    {
     "data": {
      "text/plain": [
       "['Former N.F.L. Cheerleaders’ Settlement Offer: $1 and a Meeting With Goodell',\n",
       " 'E.P.A. to Unveil a New Rule. Its Effect: Less Science in Policymaking.',\n",
       " 'The New Noma, Explained',\n",
       " 'Unknown',\n",
       " 'Unknown']"
      ]
     },
     "execution_count": 5,
     "metadata": {},
     "output_type": "execute_result"
    }
   ],
   "source": [
    "headline = []\n",
    "# 헤드라인의 값들을 리스트로 저장\n",
    "headline.extend(list(df.headline.values)) \n",
    "headline[:5]"
   ]
  },
  {
   "cell_type": "code",
   "execution_count": 6,
   "id": "06f96570",
   "metadata": {},
   "outputs": [
    {
     "name": "stdout",
     "output_type": "stream",
     "text": [
      "총 샘플의 개수 : 1324\n"
     ]
    }
   ],
   "source": [
    "print('총 샘플의 개수 : {}'.format(len(headline)))"
   ]
  },
  {
   "cell_type": "code",
   "execution_count": 7,
   "id": "15365a35",
   "metadata": {},
   "outputs": [
    {
     "name": "stdout",
     "output_type": "stream",
     "text": [
      "노이즈값 제거 후 샘플의 개수 : 1214\n"
     ]
    }
   ],
   "source": [
    "headline = [word for word in headline if word != \"Unknown\"]\n",
    "#headline = headline[:50]\n",
    "print('노이즈값 제거 후 샘플의 개수 : {}'.format(len(headline)))"
   ]
  },
  {
   "cell_type": "code",
   "execution_count": 8,
   "id": "0ddce7e9",
   "metadata": {},
   "outputs": [
    {
     "data": {
      "text/plain": [
       "['Former N.F.L. Cheerleaders’ Settlement Offer: $1 and a Meeting With Goodell',\n",
       " 'E.P.A. to Unveil a New Rule. Its Effect: Less Science in Policymaking.',\n",
       " 'The New Noma, Explained',\n",
       " 'How a Bag of Texas Dirt  Became a Times Tradition',\n",
       " 'Is School a Place for Self-Expression?']"
      ]
     },
     "execution_count": 8,
     "metadata": {},
     "output_type": "execute_result"
    }
   ],
   "source": [
    "headline[:5]"
   ]
  },
  {
   "cell_type": "code",
   "execution_count": 9,
   "id": "0a380b73",
   "metadata": {},
   "outputs": [
    {
     "data": {
      "text/plain": [
       "['former nfl cheerleaders settlement offer 1 and a meeting with goodell',\n",
       " 'epa to unveil a new rule its effect less science in policymaking',\n",
       " 'the new noma explained',\n",
       " 'how a bag of texas dirt  became a times tradition',\n",
       " 'is school a place for selfexpression']"
      ]
     },
     "execution_count": 9,
     "metadata": {},
     "output_type": "execute_result"
    }
   ],
   "source": [
    "def repreprocessing(raw_sentence):\n",
    "    preproceseed_sentence = raw_sentence.encode(\"utf8\").decode(\"ascii\",'ignore')\n",
    "    # 구두점 제거와 동시에 소문자화\n",
    "    return ''.join(word for word in preproceseed_sentence if word not in punctuation).lower()\n",
    "\n",
    "preprocessed_headline = [repreprocessing(x) for x in headline]\n",
    "preprocessed_headline[:5]"
   ]
  },
  {
   "cell_type": "code",
   "execution_count": 10,
   "id": "524fe206",
   "metadata": {},
   "outputs": [
    {
     "name": "stdout",
     "output_type": "stream",
     "text": [
      "단어 집합의 크기 : 3494\n"
     ]
    }
   ],
   "source": [
    "tokenizer = Tokenizer()\n",
    "tokenizer.fit_on_texts(preprocessed_headline)\n",
    "vocab_size = len(tokenizer.word_index) + 1\n",
    "print('단어 집합의 크기 : %d' % vocab_size)"
   ]
  },
  {
   "cell_type": "code",
   "execution_count": 11,
   "id": "0d7fb334",
   "metadata": {},
   "outputs": [
    {
     "data": {
      "text/plain": [
       "[[99, 269],\n",
       " [99, 269, 371],\n",
       " [99, 269, 371, 1115],\n",
       " [99, 269, 371, 1115, 582],\n",
       " [99, 269, 371, 1115, 582, 52],\n",
       " [99, 269, 371, 1115, 582, 52, 7],\n",
       " [99, 269, 371, 1115, 582, 52, 7, 2],\n",
       " [99, 269, 371, 1115, 582, 52, 7, 2, 372],\n",
       " [99, 269, 371, 1115, 582, 52, 7, 2, 372, 10],\n",
       " [99, 269, 371, 1115, 582, 52, 7, 2, 372, 10, 1116],\n",
       " [100, 3]]"
      ]
     },
     "execution_count": 11,
     "metadata": {},
     "output_type": "execute_result"
    }
   ],
   "source": [
    "sequences = list()\n",
    "\n",
    "for sentence in preprocessed_headline:\n",
    "\n",
    "    # 각 샘플에 대한 정수 인코딩\n",
    "    encoded = tokenizer.texts_to_sequences([sentence])[0] \n",
    "    for i in range(1, len(encoded)):\n",
    "        sequence = encoded[:i+1]\n",
    "        sequences.append(sequence)\n",
    "\n",
    "sequences[:11]"
   ]
  },
  {
   "cell_type": "code",
   "execution_count": 12,
   "id": "de107eab",
   "metadata": {},
   "outputs": [
    {
     "name": "stdout",
     "output_type": "stream",
     "text": [
      "빈도수 상위 582번 단어 : right\n"
     ]
    }
   ],
   "source": [
    "index_to_word = {}\n",
    "for key, value in tokenizer.word_index.items(): # 인덱스를 단어로 바꾸기 위해 index_to_word를 생성\n",
    "    index_to_word[value] = key\n",
    "\n",
    "print('빈도수 상위 582번 단어 : {}'.format(index_to_word[80]))"
   ]
  },
  {
   "cell_type": "code",
   "execution_count": 13,
   "id": "c913d6fd",
   "metadata": {},
   "outputs": [
    {
     "name": "stdout",
     "output_type": "stream",
     "text": [
      "샘플의 최대 길이 : 24\n"
     ]
    }
   ],
   "source": [
    "max_len = max(len(l) for l in sequences)\n",
    "print('샘플의 최대 길이 : {}'.format(max_len))"
   ]
  },
  {
   "cell_type": "code",
   "execution_count": 14,
   "id": "4f410f11",
   "metadata": {},
   "outputs": [
    {
     "name": "stdout",
     "output_type": "stream",
     "text": [
      "[[   0    0    0    0    0    0    0    0    0    0    0    0    0    0\n",
      "     0    0    0    0    0    0    0    0   99  269]\n",
      " [   0    0    0    0    0    0    0    0    0    0    0    0    0    0\n",
      "     0    0    0    0    0    0    0   99  269  371]\n",
      " [   0    0    0    0    0    0    0    0    0    0    0    0    0    0\n",
      "     0    0    0    0    0    0   99  269  371 1115]]\n"
     ]
    }
   ],
   "source": [
    "sequences = pad_sequences(sequences, maxlen=max_len, padding='pre')\n",
    "print(sequences[:3])"
   ]
  },
  {
   "cell_type": "code",
   "execution_count": 15,
   "id": "26ed5293",
   "metadata": {},
   "outputs": [],
   "source": [
    "sequences = np.array(sequences)\n",
    "X = sequences[:,:-1]\n",
    "y = sequences[:,-1]"
   ]
  },
  {
   "cell_type": "code",
   "execution_count": 16,
   "id": "adca6861",
   "metadata": {},
   "outputs": [
    {
     "name": "stdout",
     "output_type": "stream",
     "text": [
      "[[  0   0   0   0   0   0   0   0   0   0   0   0   0   0   0   0   0   0\n",
      "    0   0   0   0  99]\n",
      " [  0   0   0   0   0   0   0   0   0   0   0   0   0   0   0   0   0   0\n",
      "    0   0   0  99 269]\n",
      " [  0   0   0   0   0   0   0   0   0   0   0   0   0   0   0   0   0   0\n",
      "    0   0  99 269 371]]\n"
     ]
    }
   ],
   "source": [
    "print(X[:3])"
   ]
  },
  {
   "cell_type": "code",
   "execution_count": 17,
   "id": "4bcc6586",
   "metadata": {},
   "outputs": [
    {
     "name": "stdout",
     "output_type": "stream",
     "text": [
      "[ 269  371 1115]\n"
     ]
    }
   ],
   "source": [
    "print(y[:3])"
   ]
  },
  {
   "cell_type": "code",
   "execution_count": 18,
   "id": "26276e86",
   "metadata": {},
   "outputs": [],
   "source": [
    "y = to_categorical(y, num_classes=vocab_size)"
   ]
  },
  {
   "cell_type": "code",
   "execution_count": 19,
   "id": "bd7b2e18",
   "metadata": {},
   "outputs": [
    {
     "name": "stdout",
     "output_type": "stream",
     "text": [
      "Epoch 1/200\n",
      "244/244 - 5s - loss: 7.6395 - accuracy: 0.0265 - 5s/epoch - 19ms/step\n",
      "Epoch 2/200\n",
      "244/244 - 2s - loss: 7.1144 - accuracy: 0.0302 - 2s/epoch - 7ms/step\n",
      "Epoch 3/200\n",
      "244/244 - 2s - loss: 6.9808 - accuracy: 0.0332 - 2s/epoch - 6ms/step\n",
      "Epoch 4/200\n",
      "244/244 - 2s - loss: 6.8548 - accuracy: 0.0427 - 2s/epoch - 6ms/step\n",
      "Epoch 5/200\n",
      "244/244 - 2s - loss: 6.7137 - accuracy: 0.0446 - 2s/epoch - 6ms/step\n",
      "Epoch 6/200\n",
      "244/244 - 2s - loss: 6.5527 - accuracy: 0.0490 - 2s/epoch - 6ms/step\n",
      "Epoch 7/200\n",
      "244/244 - 2s - loss: 6.3712 - accuracy: 0.0542 - 2s/epoch - 6ms/step\n",
      "Epoch 8/200\n",
      "244/244 - 2s - loss: 6.1846 - accuracy: 0.0564 - 2s/epoch - 6ms/step\n",
      "Epoch 9/200\n",
      "244/244 - 2s - loss: 5.9972 - accuracy: 0.0597 - 2s/epoch - 6ms/step\n",
      "Epoch 10/200\n",
      "244/244 - 2s - loss: 5.8116 - accuracy: 0.0683 - 2s/epoch - 6ms/step\n",
      "Epoch 11/200\n",
      "244/244 - 2s - loss: 5.6374 - accuracy: 0.0709 - 2s/epoch - 6ms/step\n",
      "Epoch 12/200\n",
      "244/244 - 2s - loss: 5.4712 - accuracy: 0.0728 - 2s/epoch - 6ms/step\n",
      "Epoch 13/200\n",
      "244/244 - 2s - loss: 5.3135 - accuracy: 0.0829 - 2s/epoch - 6ms/step\n",
      "Epoch 14/200\n",
      "244/244 - 2s - loss: 5.1649 - accuracy: 0.0837 - 2s/epoch - 6ms/step\n",
      "Epoch 15/200\n",
      "244/244 - 2s - loss: 5.0215 - accuracy: 0.0901 - 2s/epoch - 6ms/step\n",
      "Epoch 16/200\n",
      "244/244 - 2s - loss: 4.8831 - accuracy: 0.0997 - 2s/epoch - 6ms/step\n",
      "Epoch 17/200\n",
      "244/244 - 2s - loss: 4.7512 - accuracy: 0.1107 - 2s/epoch - 6ms/step\n",
      "Epoch 18/200\n",
      "244/244 - 2s - loss: 4.6220 - accuracy: 0.1198 - 2s/epoch - 6ms/step\n",
      "Epoch 19/200\n",
      "244/244 - 2s - loss: 4.4995 - accuracy: 0.1366 - 2s/epoch - 6ms/step\n",
      "Epoch 20/200\n",
      "244/244 - 1s - loss: 4.3784 - accuracy: 0.1490 - 1s/epoch - 6ms/step\n",
      "Epoch 21/200\n",
      "244/244 - 1s - loss: 4.2616 - accuracy: 0.1670 - 1s/epoch - 6ms/step\n",
      "Epoch 22/200\n",
      "244/244 - 2s - loss: 4.1443 - accuracy: 0.1852 - 2s/epoch - 6ms/step\n",
      "Epoch 23/200\n",
      "244/244 - 2s - loss: 4.0362 - accuracy: 0.2008 - 2s/epoch - 6ms/step\n",
      "Epoch 24/200\n",
      "244/244 - 2s - loss: 3.9281 - accuracy: 0.2216 - 2s/epoch - 6ms/step\n",
      "Epoch 25/200\n",
      "244/244 - 2s - loss: 3.8235 - accuracy: 0.2403 - 2s/epoch - 6ms/step\n",
      "Epoch 26/200\n",
      "244/244 - 2s - loss: 3.7208 - accuracy: 0.2521 - 2s/epoch - 6ms/step\n",
      "Epoch 27/200\n",
      "244/244 - 1s - loss: 3.6220 - accuracy: 0.2718 - 1s/epoch - 6ms/step\n",
      "Epoch 28/200\n",
      "244/244 - 1s - loss: 3.5254 - accuracy: 0.2953 - 1s/epoch - 6ms/step\n",
      "Epoch 29/200\n",
      "244/244 - 2s - loss: 3.4314 - accuracy: 0.3050 - 2s/epoch - 6ms/step\n",
      "Epoch 30/200\n",
      "244/244 - 2s - loss: 3.3427 - accuracy: 0.3259 - 2s/epoch - 6ms/step\n",
      "Epoch 31/200\n",
      "244/244 - 1s - loss: 3.2556 - accuracy: 0.3381 - 1s/epoch - 6ms/step\n",
      "Epoch 32/200\n",
      "244/244 - 2s - loss: 3.1691 - accuracy: 0.3590 - 2s/epoch - 6ms/step\n",
      "Epoch 33/200\n",
      "244/244 - 2s - loss: 3.0882 - accuracy: 0.3725 - 2s/epoch - 6ms/step\n",
      "Epoch 34/200\n",
      "244/244 - 2s - loss: 3.0080 - accuracy: 0.3856 - 2s/epoch - 6ms/step\n",
      "Epoch 35/200\n",
      "244/244 - 2s - loss: 2.9309 - accuracy: 0.4022 - 2s/epoch - 6ms/step\n",
      "Epoch 36/200\n",
      "244/244 - 2s - loss: 2.8579 - accuracy: 0.4155 - 2s/epoch - 6ms/step\n",
      "Epoch 37/200\n",
      "244/244 - 2s - loss: 2.7860 - accuracy: 0.4277 - 2s/epoch - 6ms/step\n",
      "Epoch 38/200\n",
      "244/244 - 2s - loss: 2.7185 - accuracy: 0.4424 - 2s/epoch - 6ms/step\n",
      "Epoch 39/200\n",
      "244/244 - 1s - loss: 2.6500 - accuracy: 0.4542 - 1s/epoch - 6ms/step\n",
      "Epoch 40/200\n",
      "244/244 - 2s - loss: 2.5856 - accuracy: 0.4673 - 2s/epoch - 6ms/step\n",
      "Epoch 41/200\n",
      "244/244 - 1s - loss: 2.5232 - accuracy: 0.4831 - 1s/epoch - 6ms/step\n",
      "Epoch 42/200\n",
      "244/244 - 2s - loss: 2.4608 - accuracy: 0.4938 - 2s/epoch - 6ms/step\n",
      "Epoch 43/200\n",
      "244/244 - 2s - loss: 2.4021 - accuracy: 0.5076 - 2s/epoch - 6ms/step\n",
      "Epoch 44/200\n",
      "244/244 - 2s - loss: 2.3450 - accuracy: 0.5207 - 2s/epoch - 6ms/step\n",
      "Epoch 45/200\n",
      "244/244 - 2s - loss: 2.2883 - accuracy: 0.5307 - 2s/epoch - 6ms/step\n",
      "Epoch 46/200\n",
      "244/244 - 2s - loss: 2.2334 - accuracy: 0.5424 - 2s/epoch - 6ms/step\n",
      "Epoch 47/200\n",
      "244/244 - 2s - loss: 2.1801 - accuracy: 0.5539 - 2s/epoch - 6ms/step\n",
      "Epoch 48/200\n",
      "244/244 - 1s - loss: 2.1280 - accuracy: 0.5649 - 1s/epoch - 6ms/step\n",
      "Epoch 49/200\n",
      "244/244 - 2s - loss: 2.0800 - accuracy: 0.5704 - 2s/epoch - 6ms/step\n",
      "Epoch 50/200\n",
      "244/244 - 2s - loss: 2.0332 - accuracy: 0.5786 - 2s/epoch - 6ms/step\n",
      "Epoch 51/200\n",
      "244/244 - 2s - loss: 1.9819 - accuracy: 0.5954 - 2s/epoch - 6ms/step\n",
      "Epoch 52/200\n",
      "244/244 - 2s - loss: 1.9340 - accuracy: 0.6022 - 2s/epoch - 6ms/step\n",
      "Epoch 53/200\n",
      "244/244 - 2s - loss: 1.8909 - accuracy: 0.6114 - 2s/epoch - 6ms/step\n",
      "Epoch 54/200\n",
      "244/244 - 2s - loss: 1.8444 - accuracy: 0.6228 - 2s/epoch - 6ms/step\n",
      "Epoch 55/200\n",
      "244/244 - 1s - loss: 1.8014 - accuracy: 0.6339 - 1s/epoch - 6ms/step\n",
      "Epoch 56/200\n",
      "244/244 - 2s - loss: 1.7617 - accuracy: 0.6415 - 2s/epoch - 6ms/step\n",
      "Epoch 57/200\n",
      "244/244 - 2s - loss: 1.7201 - accuracy: 0.6490 - 2s/epoch - 6ms/step\n",
      "Epoch 58/200\n",
      "244/244 - 1s - loss: 1.6799 - accuracy: 0.6524 - 1s/epoch - 6ms/step\n",
      "Epoch 59/200\n",
      "244/244 - 2s - loss: 1.6401 - accuracy: 0.6672 - 2s/epoch - 6ms/step\n",
      "Epoch 60/200\n",
      "244/244 - 2s - loss: 1.6044 - accuracy: 0.6745 - 2s/epoch - 6ms/step\n",
      "Epoch 61/200\n",
      "244/244 - 2s - loss: 1.5678 - accuracy: 0.6859 - 2s/epoch - 6ms/step\n",
      "Epoch 62/200\n",
      "244/244 - 2s - loss: 1.5278 - accuracy: 0.6938 - 2s/epoch - 6ms/step\n",
      "Epoch 63/200\n",
      "244/244 - 2s - loss: 1.4940 - accuracy: 0.6986 - 2s/epoch - 6ms/step\n",
      "Epoch 64/200\n",
      "244/244 - 2s - loss: 1.4566 - accuracy: 0.7042 - 2s/epoch - 6ms/step\n",
      "Epoch 65/200\n",
      "244/244 - 2s - loss: 1.4229 - accuracy: 0.7118 - 2s/epoch - 6ms/step\n",
      "Epoch 66/200\n",
      "244/244 - 2s - loss: 1.3914 - accuracy: 0.7227 - 2s/epoch - 6ms/step\n",
      "Epoch 67/200\n",
      "244/244 - 2s - loss: 1.3567 - accuracy: 0.7286 - 2s/epoch - 6ms/step\n",
      "Epoch 68/200\n",
      "244/244 - 2s - loss: 1.3266 - accuracy: 0.7338 - 2s/epoch - 6ms/step\n",
      "Epoch 69/200\n",
      "244/244 - 2s - loss: 1.2987 - accuracy: 0.7407 - 2s/epoch - 6ms/step\n",
      "Epoch 70/200\n",
      "244/244 - 2s - loss: 1.2635 - accuracy: 0.7465 - 2s/epoch - 6ms/step\n",
      "Epoch 71/200\n",
      "244/244 - 2s - loss: 1.2339 - accuracy: 0.7557 - 2s/epoch - 6ms/step\n",
      "Epoch 72/200\n",
      "244/244 - 1s - loss: 1.2066 - accuracy: 0.7603 - 1s/epoch - 6ms/step\n",
      "Epoch 73/200\n",
      "244/244 - 2s - loss: 1.1788 - accuracy: 0.7629 - 2s/epoch - 6ms/step\n",
      "Epoch 74/200\n",
      "244/244 - 2s - loss: 1.1516 - accuracy: 0.7697 - 2s/epoch - 6ms/step\n",
      "Epoch 75/200\n",
      "244/244 - 1s - loss: 1.1244 - accuracy: 0.7800 - 1s/epoch - 6ms/step\n",
      "Epoch 76/200\n",
      "244/244 - 1s - loss: 1.1004 - accuracy: 0.7818 - 1s/epoch - 6ms/step\n",
      "Epoch 77/200\n",
      "244/244 - 2s - loss: 1.0696 - accuracy: 0.7860 - 2s/epoch - 6ms/step\n",
      "Epoch 78/200\n",
      "244/244 - 1s - loss: 1.0442 - accuracy: 0.7943 - 1s/epoch - 6ms/step\n",
      "Epoch 79/200\n",
      "244/244 - 2s - loss: 1.0207 - accuracy: 0.7978 - 2s/epoch - 6ms/step\n",
      "Epoch 80/200\n",
      "244/244 - 1s - loss: 0.9952 - accuracy: 0.8039 - 1s/epoch - 6ms/step\n",
      "Epoch 81/200\n",
      "244/244 - 1s - loss: 0.9738 - accuracy: 0.8062 - 1s/epoch - 6ms/step\n",
      "Epoch 82/200\n",
      "244/244 - 1s - loss: 0.9500 - accuracy: 0.8143 - 1s/epoch - 6ms/step\n",
      "Epoch 83/200\n",
      "244/244 - 1s - loss: 0.9291 - accuracy: 0.8171 - 1s/epoch - 6ms/step\n",
      "Epoch 84/200\n",
      "244/244 - 2s - loss: 0.9080 - accuracy: 0.8212 - 2s/epoch - 6ms/step\n",
      "Epoch 85/200\n",
      "244/244 - 1s - loss: 0.8851 - accuracy: 0.8243 - 1s/epoch - 6ms/step\n",
      "Epoch 86/200\n",
      "244/244 - 1s - loss: 0.8641 - accuracy: 0.8311 - 1s/epoch - 6ms/step\n",
      "Epoch 87/200\n",
      "244/244 - 2s - loss: 0.8421 - accuracy: 0.8354 - 2s/epoch - 6ms/step\n",
      "Epoch 88/200\n",
      "244/244 - 1s - loss: 0.8230 - accuracy: 0.8383 - 1s/epoch - 6ms/step\n",
      "Epoch 89/200\n",
      "244/244 - 1s - loss: 0.8049 - accuracy: 0.8416 - 1s/epoch - 6ms/step\n",
      "Epoch 90/200\n",
      "244/244 - 2s - loss: 0.7861 - accuracy: 0.8460 - 2s/epoch - 6ms/step\n",
      "Epoch 91/200\n",
      "244/244 - 1s - loss: 0.7687 - accuracy: 0.8485 - 1s/epoch - 6ms/step\n",
      "Epoch 92/200\n",
      "244/244 - 1s - loss: 0.7536 - accuracy: 0.8521 - 1s/epoch - 6ms/step\n",
      "Epoch 93/200\n",
      "244/244 - 2s - loss: 0.7331 - accuracy: 0.8580 - 2s/epoch - 6ms/step\n",
      "Epoch 94/200\n",
      "244/244 - 1s - loss: 0.7159 - accuracy: 0.8594 - 1s/epoch - 6ms/step\n",
      "Epoch 95/200\n",
      "244/244 - 1s - loss: 0.6998 - accuracy: 0.8616 - 1s/epoch - 6ms/step\n",
      "Epoch 96/200\n",
      "244/244 - 1s - loss: 0.6861 - accuracy: 0.8652 - 1s/epoch - 6ms/step\n",
      "Epoch 97/200\n",
      "244/244 - 1s - loss: 0.6702 - accuracy: 0.8689 - 1s/epoch - 6ms/step\n",
      "Epoch 98/200\n",
      "244/244 - 1s - loss: 0.6550 - accuracy: 0.8685 - 1s/epoch - 6ms/step\n",
      "Epoch 99/200\n",
      "244/244 - 1s - loss: 0.6432 - accuracy: 0.8744 - 1s/epoch - 6ms/step\n",
      "Epoch 100/200\n",
      "244/244 - 1s - loss: 0.6256 - accuracy: 0.8766 - 1s/epoch - 6ms/step\n",
      "Epoch 101/200\n",
      "244/244 - 2s - loss: 0.6124 - accuracy: 0.8793 - 2s/epoch - 6ms/step\n",
      "Epoch 102/200\n",
      "244/244 - 2s - loss: 0.5997 - accuracy: 0.8800 - 2s/epoch - 6ms/step\n",
      "Epoch 103/200\n",
      "244/244 - 2s - loss: 0.5850 - accuracy: 0.8829 - 2s/epoch - 6ms/step\n",
      "Epoch 104/200\n",
      "244/244 - 2s - loss: 0.5719 - accuracy: 0.8839 - 2s/epoch - 6ms/step\n",
      "Epoch 105/200\n",
      "244/244 - 2s - loss: 0.5644 - accuracy: 0.8857 - 2s/epoch - 6ms/step\n",
      "Epoch 106/200\n",
      "244/244 - 1s - loss: 0.5516 - accuracy: 0.8890 - 1s/epoch - 6ms/step\n",
      "Epoch 107/200\n",
      "244/244 - 2s - loss: 0.5397 - accuracy: 0.8895 - 2s/epoch - 6ms/step\n",
      "Epoch 108/200\n",
      "244/244 - 1s - loss: 0.5323 - accuracy: 0.8907 - 1s/epoch - 6ms/step\n",
      "Epoch 109/200\n",
      "244/244 - 1s - loss: 0.5167 - accuracy: 0.8944 - 1s/epoch - 6ms/step\n",
      "Epoch 110/200\n",
      "244/244 - 1s - loss: 0.5097 - accuracy: 0.8938 - 1s/epoch - 6ms/step\n",
      "Epoch 111/200\n",
      "244/244 - 1s - loss: 0.5047 - accuracy: 0.8986 - 1s/epoch - 6ms/step\n",
      "Epoch 112/200\n",
      "244/244 - 1s - loss: 0.4905 - accuracy: 0.8979 - 1s/epoch - 6ms/step\n",
      "Epoch 113/200\n",
      "244/244 - 2s - loss: 0.4784 - accuracy: 0.9016 - 2s/epoch - 6ms/step\n",
      "Epoch 114/200\n",
      "244/244 - 2s - loss: 0.4780 - accuracy: 0.9006 - 2s/epoch - 6ms/step\n",
      "Epoch 115/200\n",
      "244/244 - 2s - loss: 0.4651 - accuracy: 0.9023 - 2s/epoch - 6ms/step\n",
      "Epoch 116/200\n",
      "244/244 - 1s - loss: 0.4619 - accuracy: 0.9026 - 1s/epoch - 6ms/step\n",
      "Epoch 117/200\n",
      "244/244 - 1s - loss: 0.4467 - accuracy: 0.9057 - 1s/epoch - 6ms/step\n",
      "Epoch 118/200\n",
      "244/244 - 1s - loss: 0.4372 - accuracy: 0.9062 - 1s/epoch - 6ms/step\n",
      "Epoch 119/200\n",
      "244/244 - 1s - loss: 0.4300 - accuracy: 0.9063 - 1s/epoch - 6ms/step\n",
      "Epoch 120/200\n",
      "244/244 - 1s - loss: 0.4228 - accuracy: 0.9085 - 1s/epoch - 6ms/step\n",
      "Epoch 121/200\n",
      "244/244 - 1s - loss: 0.4167 - accuracy: 0.9100 - 1s/epoch - 6ms/step\n",
      "Epoch 122/200\n",
      "244/244 - 1s - loss: 0.4111 - accuracy: 0.9091 - 1s/epoch - 6ms/step\n",
      "Epoch 123/200\n",
      "244/244 - 1s - loss: 0.4057 - accuracy: 0.9112 - 1s/epoch - 6ms/step\n",
      "Epoch 124/200\n",
      "244/244 - 1s - loss: 0.4005 - accuracy: 0.9117 - 1s/epoch - 6ms/step\n",
      "Epoch 125/200\n",
      "244/244 - 1s - loss: 0.3921 - accuracy: 0.9107 - 1s/epoch - 6ms/step\n",
      "Epoch 126/200\n",
      "244/244 - 1s - loss: 0.3861 - accuracy: 0.9129 - 1s/epoch - 6ms/step\n",
      "Epoch 127/200\n",
      "244/244 - 1s - loss: 0.3844 - accuracy: 0.9125 - 1s/epoch - 6ms/step\n",
      "Epoch 128/200\n",
      "244/244 - 1s - loss: 0.3799 - accuracy: 0.9131 - 1s/epoch - 6ms/step\n",
      "Epoch 129/200\n",
      "244/244 - 1s - loss: 0.3707 - accuracy: 0.9140 - 1s/epoch - 6ms/step\n",
      "Epoch 130/200\n",
      "244/244 - 1s - loss: 0.3703 - accuracy: 0.9129 - 1s/epoch - 6ms/step\n",
      "Epoch 131/200\n",
      "244/244 - 2s - loss: 0.3706 - accuracy: 0.9117 - 2s/epoch - 6ms/step\n",
      "Epoch 132/200\n",
      "244/244 - 1s - loss: 0.3575 - accuracy: 0.9135 - 1s/epoch - 6ms/step\n",
      "Epoch 133/200\n",
      "244/244 - 1s - loss: 0.3504 - accuracy: 0.9139 - 1s/epoch - 6ms/step\n",
      "Epoch 134/200\n",
      "244/244 - 1s - loss: 0.3460 - accuracy: 0.9167 - 1s/epoch - 6ms/step\n",
      "Epoch 135/200\n",
      "244/244 - 2s - loss: 0.3433 - accuracy: 0.9145 - 2s/epoch - 6ms/step\n",
      "Epoch 136/200\n",
      "244/244 - 1s - loss: 0.3396 - accuracy: 0.9148 - 1s/epoch - 6ms/step\n",
      "Epoch 137/200\n",
      "244/244 - 2s - loss: 0.3366 - accuracy: 0.9144 - 2s/epoch - 6ms/step\n",
      "Epoch 138/200\n",
      "244/244 - 2s - loss: 0.3415 - accuracy: 0.9149 - 2s/epoch - 6ms/step\n",
      "Epoch 139/200\n",
      "244/244 - 2s - loss: 0.3487 - accuracy: 0.9145 - 2s/epoch - 6ms/step\n",
      "Epoch 140/200\n",
      "244/244 - 2s - loss: 0.3326 - accuracy: 0.9159 - 2s/epoch - 6ms/step\n",
      "Epoch 141/200\n",
      "244/244 - 2s - loss: 0.3315 - accuracy: 0.9150 - 2s/epoch - 6ms/step\n",
      "Epoch 142/200\n",
      "244/244 - 2s - loss: 0.3223 - accuracy: 0.9149 - 2s/epoch - 6ms/step\n",
      "Epoch 143/200\n",
      "244/244 - 2s - loss: 0.3159 - accuracy: 0.9173 - 2s/epoch - 6ms/step\n",
      "Epoch 144/200\n",
      "244/244 - 1s - loss: 0.3134 - accuracy: 0.9162 - 1s/epoch - 6ms/step\n",
      "Epoch 145/200\n",
      "244/244 - 1s - loss: 0.3107 - accuracy: 0.9172 - 1s/epoch - 6ms/step\n",
      "Epoch 146/200\n",
      "244/244 - 2s - loss: 0.3087 - accuracy: 0.9171 - 2s/epoch - 6ms/step\n",
      "Epoch 147/200\n",
      "244/244 - 1s - loss: 0.3070 - accuracy: 0.9167 - 1s/epoch - 6ms/step\n",
      "Epoch 148/200\n",
      "244/244 - 1s - loss: 0.3039 - accuracy: 0.9176 - 1s/epoch - 6ms/step\n",
      "Epoch 149/200\n",
      "244/244 - 2s - loss: 0.3044 - accuracy: 0.9175 - 2s/epoch - 6ms/step\n",
      "Epoch 150/200\n",
      "244/244 - 2s - loss: 0.3013 - accuracy: 0.9177 - 2s/epoch - 6ms/step\n",
      "Epoch 151/200\n",
      "244/244 - 2s - loss: 0.2991 - accuracy: 0.9159 - 2s/epoch - 6ms/step\n",
      "Epoch 152/200\n",
      "244/244 - 2s - loss: 0.2974 - accuracy: 0.9159 - 2s/epoch - 6ms/step\n",
      "Epoch 153/200\n",
      "244/244 - 2s - loss: 0.2965 - accuracy: 0.9162 - 2s/epoch - 6ms/step\n",
      "Epoch 154/200\n",
      "244/244 - 2s - loss: 0.2953 - accuracy: 0.9163 - 2s/epoch - 6ms/step\n",
      "Epoch 155/200\n",
      "244/244 - 2s - loss: 0.2918 - accuracy: 0.9167 - 2s/epoch - 6ms/step\n",
      "Epoch 156/200\n",
      "244/244 - 1s - loss: 0.2908 - accuracy: 0.9167 - 1s/epoch - 6ms/step\n",
      "Epoch 157/200\n",
      "244/244 - 1s - loss: 0.2884 - accuracy: 0.9157 - 1s/epoch - 6ms/step\n",
      "Epoch 158/200\n",
      "244/244 - 1s - loss: 0.2867 - accuracy: 0.9173 - 1s/epoch - 6ms/step\n",
      "Epoch 159/200\n",
      "244/244 - 1s - loss: 0.2890 - accuracy: 0.9168 - 1s/epoch - 6ms/step\n",
      "Epoch 160/200\n",
      "244/244 - 1s - loss: 0.3318 - accuracy: 0.9088 - 1s/epoch - 6ms/step\n",
      "Epoch 161/200\n",
      "244/244 - 2s - loss: 0.3173 - accuracy: 0.9136 - 2s/epoch - 6ms/step\n",
      "Epoch 162/200\n",
      "244/244 - 1s - loss: 0.2863 - accuracy: 0.9181 - 1s/epoch - 6ms/step\n",
      "Epoch 163/200\n",
      "244/244 - 1s - loss: 0.2811 - accuracy: 0.9179 - 1s/epoch - 6ms/step\n",
      "Epoch 164/200\n",
      "244/244 - 1s - loss: 0.2797 - accuracy: 0.9166 - 1s/epoch - 6ms/step\n",
      "Epoch 165/200\n",
      "244/244 - 1s - loss: 0.2770 - accuracy: 0.9182 - 1s/epoch - 6ms/step\n",
      "Epoch 166/200\n",
      "244/244 - 2s - loss: 0.2774 - accuracy: 0.9173 - 2s/epoch - 6ms/step\n",
      "Epoch 167/200\n",
      "244/244 - 1s - loss: 0.2770 - accuracy: 0.9170 - 1s/epoch - 6ms/step\n",
      "Epoch 168/200\n",
      "244/244 - 1s - loss: 0.2781 - accuracy: 0.9158 - 1s/epoch - 6ms/step\n",
      "Epoch 169/200\n",
      "244/244 - 1s - loss: 0.2752 - accuracy: 0.9158 - 1s/epoch - 6ms/step\n",
      "Epoch 170/200\n",
      "244/244 - 1s - loss: 0.2751 - accuracy: 0.9172 - 1s/epoch - 6ms/step\n",
      "Epoch 171/200\n",
      "244/244 - 2s - loss: 0.2738 - accuracy: 0.9171 - 2s/epoch - 6ms/step\n",
      "Epoch 172/200\n",
      "244/244 - 2s - loss: 0.2728 - accuracy: 0.9175 - 2s/epoch - 6ms/step\n",
      "Epoch 173/200\n",
      "244/244 - 1s - loss: 0.2727 - accuracy: 0.9175 - 1s/epoch - 6ms/step\n",
      "Epoch 174/200\n",
      "244/244 - 1s - loss: 0.2726 - accuracy: 0.9162 - 1s/epoch - 6ms/step\n",
      "Epoch 175/200\n",
      "244/244 - 2s - loss: 0.2745 - accuracy: 0.9161 - 2s/epoch - 6ms/step\n",
      "Epoch 176/200\n",
      "244/244 - 2s - loss: 0.2792 - accuracy: 0.9159 - 2s/epoch - 6ms/step\n",
      "Epoch 177/200\n",
      "244/244 - 1s - loss: 0.3185 - accuracy: 0.9085 - 1s/epoch - 6ms/step\n",
      "Epoch 178/200\n",
      "244/244 - 1s - loss: 0.3174 - accuracy: 0.9104 - 1s/epoch - 6ms/step\n",
      "Epoch 179/200\n",
      "244/244 - 1s - loss: 0.2795 - accuracy: 0.9155 - 1s/epoch - 6ms/step\n",
      "Epoch 180/200\n",
      "244/244 - 2s - loss: 0.2712 - accuracy: 0.9163 - 2s/epoch - 6ms/step\n",
      "Epoch 181/200\n",
      "244/244 - 1s - loss: 0.2695 - accuracy: 0.9157 - 1s/epoch - 6ms/step\n",
      "Epoch 182/200\n",
      "244/244 - 1s - loss: 0.2690 - accuracy: 0.9170 - 1s/epoch - 6ms/step\n",
      "Epoch 183/200\n",
      "244/244 - 1s - loss: 0.2663 - accuracy: 0.9168 - 1s/epoch - 6ms/step\n",
      "Epoch 184/200\n",
      "244/244 - 1s - loss: 0.2677 - accuracy: 0.9159 - 1s/epoch - 6ms/step\n",
      "Epoch 185/200\n",
      "244/244 - 1s - loss: 0.2668 - accuracy: 0.9157 - 1s/epoch - 6ms/step\n",
      "Epoch 186/200\n",
      "244/244 - 1s - loss: 0.2663 - accuracy: 0.9162 - 1s/epoch - 6ms/step\n",
      "Epoch 187/200\n",
      "244/244 - 2s - loss: 0.2672 - accuracy: 0.9164 - 2s/epoch - 6ms/step\n",
      "Epoch 188/200\n",
      "244/244 - 1s - loss: 0.2663 - accuracy: 0.9164 - 1s/epoch - 6ms/step\n",
      "Epoch 189/200\n",
      "244/244 - 1s - loss: 0.2646 - accuracy: 0.9172 - 1s/epoch - 6ms/step\n",
      "Epoch 190/200\n",
      "244/244 - 2s - loss: 0.2667 - accuracy: 0.9161 - 2s/epoch - 6ms/step\n",
      "Epoch 191/200\n",
      "244/244 - 1s - loss: 0.2649 - accuracy: 0.9166 - 1s/epoch - 6ms/step\n",
      "Epoch 192/200\n",
      "244/244 - 1s - loss: 0.2660 - accuracy: 0.9163 - 1s/epoch - 6ms/step\n",
      "Epoch 193/200\n",
      "244/244 - 1s - loss: 0.2641 - accuracy: 0.9175 - 1s/epoch - 6ms/step\n",
      "Epoch 194/200\n",
      "244/244 - 1s - loss: 0.2640 - accuracy: 0.9164 - 1s/epoch - 6ms/step\n",
      "Epoch 195/200\n",
      "244/244 - 1s - loss: 0.2652 - accuracy: 0.9166 - 1s/epoch - 6ms/step\n",
      "Epoch 196/200\n",
      "244/244 - 1s - loss: 0.2693 - accuracy: 0.9161 - 1s/epoch - 6ms/step\n",
      "Epoch 197/200\n",
      "244/244 - 1s - loss: 0.2701 - accuracy: 0.9158 - 1s/epoch - 6ms/step\n",
      "Epoch 198/200\n",
      "244/244 - 1s - loss: 0.2666 - accuracy: 0.9159 - 1s/epoch - 6ms/step\n",
      "Epoch 199/200\n",
      "244/244 - 1s - loss: 0.2744 - accuracy: 0.9159 - 1s/epoch - 6ms/step\n",
      "Epoch 200/200\n",
      "244/244 - 1s - loss: 0.2637 - accuracy: 0.9177 - 1s/epoch - 6ms/step\n"
     ]
    },
    {
     "data": {
      "text/plain": [
       "<keras.callbacks.History at 0x1c3e30bd8d0>"
      ]
     },
     "execution_count": 19,
     "metadata": {},
     "output_type": "execute_result"
    }
   ],
   "source": [
    "embedding_dim = 10\n",
    "hidden_units = 128\n",
    "\n",
    "model = Sequential()\n",
    "model.add(Embedding(vocab_size, embedding_dim))\n",
    "model.add(LSTM(hidden_units))\n",
    "model.add(Dense(vocab_size, activation='softmax'))\n",
    "model.compile(loss='categorical_crossentropy', optimizer='adam', metrics=['accuracy'])\n",
    "model.fit(X, y, epochs=200, verbose=2)"
   ]
  },
  {
   "cell_type": "code",
   "execution_count": 20,
   "id": "02bb088e",
   "metadata": {},
   "outputs": [],
   "source": [
    "def sentence_generation(model, tokenizer, current_word, n): # 모델, 토크나이저, 현재 단어, 반복할 횟수\n",
    "    init_word = current_word\n",
    "    sentence = ''\n",
    "\n",
    "    # n번 반복\n",
    "    for _ in range(n):\n",
    "        encoded = tokenizer.texts_to_sequences([current_word])[0]\n",
    "        encoded = pad_sequences([encoded], maxlen=max_len-1, padding='pre')\n",
    "\n",
    "        # 입력한 X(현재 단어)에 대해서 y를 예측하고 y(예측한 단어)를 result에 저장.\n",
    "        result = model.predict(encoded, verbose=0)\n",
    "        result = np.argmax(result, axis=1)\n",
    "\n",
    "        for word, index in tokenizer.word_index.items(): \n",
    "            # 만약 예측한 단어와 인덱스와 동일한 단어가 있다면\n",
    "            if index == result:\n",
    "                break\n",
    "\n",
    "        # 현재 단어 + ' ' + 예측 단어를 현재 단어로 변경\n",
    "        current_word = current_word + ' '  + word\n",
    "\n",
    "        # 예측 단어를 문장에 저장\n",
    "        sentence = sentence + ' ' + word\n",
    "\n",
    "    sentence = init_word + sentence\n",
    "    return sentence"
   ]
  },
  {
   "cell_type": "code",
   "execution_count": 21,
   "id": "9713c358",
   "metadata": {},
   "outputs": [
    {
     "name": "stdout",
     "output_type": "stream",
     "text": [
      "rich to church as care on a budget ride may force not over yet was is it it it it it\n"
     ]
    }
   ],
   "source": [
    "print(sentence_generation(model, tokenizer, 'rich', 20))"
   ]
  },
  {
   "cell_type": "code",
   "execution_count": 22,
   "id": "a56721d9",
   "metadata": {},
   "outputs": [
    {
     "name": "stdout",
     "output_type": "stream",
     "text": [
      "how to make a crossword puzzle stoically home greenpeace right for\n"
     ]
    }
   ],
   "source": [
    "print(sentence_generation(model, tokenizer, 'how', 10))"
   ]
  },
  {
   "cell_type": "code",
   "execution_count": null,
   "id": "945c0fb0",
   "metadata": {},
   "outputs": [],
   "source": []
  }
 ],
 "metadata": {
  "kernelspec": {
   "display_name": "python",
   "language": "python",
   "name": "python3"
  },
  "language_info": {
   "codemirror_mode": {
    "name": "ipython",
    "version": 3
   },
   "file_extension": ".py",
   "mimetype": "text/x-python",
   "name": "python",
   "nbconvert_exporter": "python",
   "pygments_lexer": "ipython3",
   "version": "3.10.13"
  }
 },
 "nbformat": 4,
 "nbformat_minor": 5
}
