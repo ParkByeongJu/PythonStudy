{
 "cells": [
  {
   "cell_type": "code",
   "execution_count": 2,
   "id": "9c4ffc83",
   "metadata": {},
   "outputs": [],
   "source": [
    "import numpy as np\n",
    "from tensorflow.keras.preprocessing.text import Tokenizer\n",
    "from tensorflow.keras.preprocessing.sequence import pad_sequences\n",
    "from tensorflow.keras.utils import to_categorical\n",
    "from tensorflow.keras.models import Sequential\n",
    "from tensorflow.keras.layers import Embedding, Dense, SimpleRNN"
   ]
  },
  {
   "cell_type": "code",
   "execution_count": 3,
   "id": "0903c03b",
   "metadata": {},
   "outputs": [],
   "source": [
    "text = \"\"\"경마장에 있는 말이 뛰고 있다\\n\n",
    "그의 말이 법이다\\n\n",
    "가는 말이 고와야 오는 말이 곱다\\n\"\"\""
   ]
  },
  {
   "cell_type": "code",
   "execution_count": 4,
   "id": "5151b65e",
   "metadata": {},
   "outputs": [
    {
     "name": "stdout",
     "output_type": "stream",
     "text": [
      "단어 집합의 크기 : 12\n"
     ]
    }
   ],
   "source": [
    "tokenizer = Tokenizer()\n",
    "tokenizer.fit_on_texts([text])\n",
    "vocab_size = len(tokenizer.word_index) + 1\n",
    "print('단어 집합의 크기 : %d' % vocab_size)"
   ]
  },
  {
   "cell_type": "code",
   "execution_count": 5,
   "id": "e5bc4354",
   "metadata": {},
   "outputs": [
    {
     "name": "stdout",
     "output_type": "stream",
     "text": [
      "{'말이': 1, '경마장에': 2, '있는': 3, '뛰고': 4, '있다': 5, '그의': 6, '법이다': 7, '가는': 8, '고와야': 9, '오는': 10, '곱다': 11}\n"
     ]
    }
   ],
   "source": [
    "print(tokenizer.word_index)"
   ]
  },
  {
   "cell_type": "code",
   "execution_count": 6,
   "id": "b96ce0ed",
   "metadata": {},
   "outputs": [
    {
     "name": "stdout",
     "output_type": "stream",
     "text": [
      "학습에 사용할 샘플의 개수: 11\n"
     ]
    }
   ],
   "source": [
    "sequences = list()\n",
    "for line in text.split('\\n'): # 줄바꿈 문자를 기준으로 문장 토큰화\n",
    "    encoded = tokenizer.texts_to_sequences([line])[0]\n",
    "    for i in range(1, len(encoded)):\n",
    "        sequence = encoded[:i+1]\n",
    "        sequences.append(sequence)\n",
    "\n",
    "print('학습에 사용할 샘플의 개수: %d' % len(sequences))"
   ]
  },
  {
   "cell_type": "code",
   "execution_count": 7,
   "id": "15ebaac0",
   "metadata": {},
   "outputs": [
    {
     "name": "stdout",
     "output_type": "stream",
     "text": [
      "[[2, 3], [2, 3, 1], [2, 3, 1, 4], [2, 3, 1, 4, 5], [6, 1], [6, 1, 7], [8, 1], [8, 1, 9], [8, 1, 9, 10], [8, 1, 9, 10, 1], [8, 1, 9, 10, 1, 11]]\n"
     ]
    }
   ],
   "source": [
    "print(sequences)"
   ]
  },
  {
   "cell_type": "code",
   "execution_count": 8,
   "id": "d2719979",
   "metadata": {},
   "outputs": [
    {
     "name": "stdout",
     "output_type": "stream",
     "text": [
      "샘플의 최대 길이 : 6\n"
     ]
    }
   ],
   "source": [
    "max_len = max(len(l) for l in sequences) # 모든 샘플에서 길이가 가장 긴 샘플의 길이 출력\n",
    "print('샘플의 최대 길이 : {}'.format(max_len))"
   ]
  },
  {
   "cell_type": "code",
   "execution_count": 9,
   "id": "a0a9d4e1",
   "metadata": {},
   "outputs": [],
   "source": [
    "sequences = pad_sequences(sequences, maxlen=max_len, padding='pre')"
   ]
  },
  {
   "cell_type": "code",
   "execution_count": 10,
   "id": "4f9ce969",
   "metadata": {},
   "outputs": [
    {
     "name": "stdout",
     "output_type": "stream",
     "text": [
      "[[ 0  0  0  0  2  3]\n",
      " [ 0  0  0  2  3  1]\n",
      " [ 0  0  2  3  1  4]\n",
      " [ 0  2  3  1  4  5]\n",
      " [ 0  0  0  0  6  1]\n",
      " [ 0  0  0  6  1  7]\n",
      " [ 0  0  0  0  8  1]\n",
      " [ 0  0  0  8  1  9]\n",
      " [ 0  0  8  1  9 10]\n",
      " [ 0  8  1  9 10  1]\n",
      " [ 8  1  9 10  1 11]]\n"
     ]
    }
   ],
   "source": [
    "print(sequences)"
   ]
  },
  {
   "cell_type": "code",
   "execution_count": 11,
   "id": "bf192ea3",
   "metadata": {},
   "outputs": [],
   "source": [
    "sequences = np.array(sequences)\n",
    "X = sequences[:,:-1]\n",
    "y = sequences[:,-1]"
   ]
  },
  {
   "cell_type": "code",
   "execution_count": 12,
   "id": "69a20624",
   "metadata": {},
   "outputs": [
    {
     "name": "stdout",
     "output_type": "stream",
     "text": [
      "[[ 0  0  0  0  2]\n",
      " [ 0  0  0  2  3]\n",
      " [ 0  0  2  3  1]\n",
      " [ 0  2  3  1  4]\n",
      " [ 0  0  0  0  6]\n",
      " [ 0  0  0  6  1]\n",
      " [ 0  0  0  0  8]\n",
      " [ 0  0  0  8  1]\n",
      " [ 0  0  8  1  9]\n",
      " [ 0  8  1  9 10]\n",
      " [ 8  1  9 10  1]]\n"
     ]
    }
   ],
   "source": [
    "print(X)"
   ]
  },
  {
   "cell_type": "code",
   "execution_count": 13,
   "id": "62eaf5c1",
   "metadata": {},
   "outputs": [
    {
     "name": "stdout",
     "output_type": "stream",
     "text": [
      "[ 3  1  4  5  1  7  1  9 10  1 11]\n"
     ]
    }
   ],
   "source": [
    "print(y)"
   ]
  },
  {
   "cell_type": "code",
   "execution_count": 14,
   "id": "002a12b4",
   "metadata": {},
   "outputs": [],
   "source": [
    "y = to_categorical(y, num_classes=vocab_size)"
   ]
  },
  {
   "cell_type": "code",
   "execution_count": 15,
   "id": "b43582da",
   "metadata": {},
   "outputs": [
    {
     "name": "stdout",
     "output_type": "stream",
     "text": [
      "[[0. 0. 0. 1. 0. 0. 0. 0. 0. 0. 0. 0.]\n",
      " [0. 1. 0. 0. 0. 0. 0. 0. 0. 0. 0. 0.]\n",
      " [0. 0. 0. 0. 1. 0. 0. 0. 0. 0. 0. 0.]\n",
      " [0. 0. 0. 0. 0. 1. 0. 0. 0. 0. 0. 0.]\n",
      " [0. 1. 0. 0. 0. 0. 0. 0. 0. 0. 0. 0.]\n",
      " [0. 0. 0. 0. 0. 0. 0. 1. 0. 0. 0. 0.]\n",
      " [0. 1. 0. 0. 0. 0. 0. 0. 0. 0. 0. 0.]\n",
      " [0. 0. 0. 0. 0. 0. 0. 0. 0. 1. 0. 0.]\n",
      " [0. 0. 0. 0. 0. 0. 0. 0. 0. 0. 1. 0.]\n",
      " [0. 1. 0. 0. 0. 0. 0. 0. 0. 0. 0. 0.]\n",
      " [0. 0. 0. 0. 0. 0. 0. 0. 0. 0. 0. 1.]]\n"
     ]
    }
   ],
   "source": [
    "print(y)"
   ]
  },
  {
   "cell_type": "code",
   "execution_count": 16,
   "id": "dbf4db56",
   "metadata": {},
   "outputs": [
    {
     "name": "stdout",
     "output_type": "stream",
     "text": [
      "Epoch 1/200\n",
      "1/1 - 2s - loss: 2.4700 - accuracy: 0.2727 - 2s/epoch - 2s/step\n",
      "Epoch 2/200\n",
      "1/1 - 0s - loss: 2.4571 - accuracy: 0.2727 - 8ms/epoch - 8ms/step\n",
      "Epoch 3/200\n",
      "1/1 - 0s - loss: 2.4443 - accuracy: 0.2727 - 8ms/epoch - 8ms/step\n",
      "Epoch 4/200\n",
      "1/1 - 0s - loss: 2.4316 - accuracy: 0.1818 - 8ms/epoch - 8ms/step\n",
      "Epoch 5/200\n",
      "1/1 - 0s - loss: 2.4188 - accuracy: 0.4545 - 7ms/epoch - 7ms/step\n",
      "Epoch 6/200\n",
      "1/1 - 0s - loss: 2.4059 - accuracy: 0.4545 - 9ms/epoch - 9ms/step\n",
      "Epoch 7/200\n",
      "1/1 - 0s - loss: 2.3928 - accuracy: 0.4545 - 8ms/epoch - 8ms/step\n",
      "Epoch 8/200\n",
      "1/1 - 0s - loss: 2.3794 - accuracy: 0.4545 - 9ms/epoch - 9ms/step\n",
      "Epoch 9/200\n",
      "1/1 - 0s - loss: 2.3655 - accuracy: 0.4545 - 6ms/epoch - 6ms/step\n",
      "Epoch 10/200\n",
      "1/1 - 0s - loss: 2.3511 - accuracy: 0.4545 - 8ms/epoch - 8ms/step\n",
      "Epoch 11/200\n",
      "1/1 - 0s - loss: 2.3361 - accuracy: 0.5455 - 7ms/epoch - 7ms/step\n",
      "Epoch 12/200\n",
      "1/1 - 0s - loss: 2.3203 - accuracy: 0.4545 - 7ms/epoch - 7ms/step\n",
      "Epoch 13/200\n",
      "1/1 - 0s - loss: 2.3037 - accuracy: 0.4545 - 9ms/epoch - 9ms/step\n",
      "Epoch 14/200\n",
      "1/1 - 0s - loss: 2.2863 - accuracy: 0.4545 - 7ms/epoch - 7ms/step\n",
      "Epoch 15/200\n",
      "1/1 - 0s - loss: 2.2678 - accuracy: 0.4545 - 9ms/epoch - 9ms/step\n",
      "Epoch 16/200\n",
      "1/1 - 0s - loss: 2.2484 - accuracy: 0.4545 - 7ms/epoch - 7ms/step\n",
      "Epoch 17/200\n",
      "1/1 - 0s - loss: 2.2278 - accuracy: 0.4545 - 8ms/epoch - 8ms/step\n",
      "Epoch 18/200\n",
      "1/1 - 0s - loss: 2.2061 - accuracy: 0.4545 - 8ms/epoch - 8ms/step\n",
      "Epoch 19/200\n",
      "1/1 - 0s - loss: 2.1831 - accuracy: 0.4545 - 8ms/epoch - 8ms/step\n",
      "Epoch 20/200\n",
      "1/1 - 0s - loss: 2.1591 - accuracy: 0.4545 - 9ms/epoch - 9ms/step\n",
      "Epoch 21/200\n",
      "1/1 - 0s - loss: 2.1339 - accuracy: 0.4545 - 7ms/epoch - 7ms/step\n",
      "Epoch 22/200\n",
      "1/1 - 0s - loss: 2.1076 - accuracy: 0.4545 - 9ms/epoch - 9ms/step\n",
      "Epoch 23/200\n",
      "1/1 - 0s - loss: 2.0804 - accuracy: 0.4545 - 7ms/epoch - 7ms/step\n",
      "Epoch 24/200\n",
      "1/1 - 0s - loss: 2.0524 - accuracy: 0.4545 - 8ms/epoch - 8ms/step\n",
      "Epoch 25/200\n",
      "1/1 - 0s - loss: 2.0238 - accuracy: 0.4545 - 7ms/epoch - 7ms/step\n",
      "Epoch 26/200\n",
      "1/1 - 0s - loss: 1.9949 - accuracy: 0.4545 - 7ms/epoch - 7ms/step\n",
      "Epoch 27/200\n",
      "1/1 - 0s - loss: 1.9660 - accuracy: 0.4545 - 9ms/epoch - 9ms/step\n",
      "Epoch 28/200\n",
      "1/1 - 0s - loss: 1.9375 - accuracy: 0.4545 - 7ms/epoch - 7ms/step\n",
      "Epoch 29/200\n",
      "1/1 - 0s - loss: 1.9096 - accuracy: 0.4545 - 18ms/epoch - 18ms/step\n",
      "Epoch 30/200\n",
      "1/1 - 0s - loss: 1.8829 - accuracy: 0.4545 - 7ms/epoch - 7ms/step\n",
      "Epoch 31/200\n",
      "1/1 - 0s - loss: 1.8574 - accuracy: 0.4545 - 8ms/epoch - 8ms/step\n",
      "Epoch 32/200\n",
      "1/1 - 0s - loss: 1.8333 - accuracy: 0.4545 - 7ms/epoch - 7ms/step\n",
      "Epoch 33/200\n",
      "1/1 - 0s - loss: 1.8107 - accuracy: 0.4545 - 9ms/epoch - 9ms/step\n",
      "Epoch 34/200\n",
      "1/1 - 0s - loss: 1.7893 - accuracy: 0.4545 - 7ms/epoch - 7ms/step\n",
      "Epoch 35/200\n",
      "1/1 - 0s - loss: 1.7688 - accuracy: 0.4545 - 8ms/epoch - 8ms/step\n",
      "Epoch 36/200\n",
      "1/1 - 0s - loss: 1.7488 - accuracy: 0.4545 - 7ms/epoch - 7ms/step\n",
      "Epoch 37/200\n",
      "1/1 - 0s - loss: 1.7288 - accuracy: 0.4545 - 8ms/epoch - 8ms/step\n",
      "Epoch 38/200\n",
      "1/1 - 0s - loss: 1.7087 - accuracy: 0.4545 - 9ms/epoch - 9ms/step\n",
      "Epoch 39/200\n",
      "1/1 - 0s - loss: 1.6880 - accuracy: 0.4545 - 7ms/epoch - 7ms/step\n",
      "Epoch 40/200\n",
      "1/1 - 0s - loss: 1.6668 - accuracy: 0.4545 - 9ms/epoch - 9ms/step\n",
      "Epoch 41/200\n",
      "1/1 - 0s - loss: 1.6451 - accuracy: 0.4545 - 8ms/epoch - 8ms/step\n",
      "Epoch 42/200\n",
      "1/1 - 0s - loss: 1.6230 - accuracy: 0.4545 - 9ms/epoch - 9ms/step\n",
      "Epoch 43/200\n",
      "1/1 - 0s - loss: 1.6008 - accuracy: 0.4545 - 6ms/epoch - 6ms/step\n",
      "Epoch 44/200\n",
      "1/1 - 0s - loss: 1.5785 - accuracy: 0.4545 - 8ms/epoch - 8ms/step\n",
      "Epoch 45/200\n",
      "1/1 - 0s - loss: 1.5565 - accuracy: 0.4545 - 8ms/epoch - 8ms/step\n",
      "Epoch 46/200\n",
      "1/1 - 0s - loss: 1.5346 - accuracy: 0.4545 - 7ms/epoch - 7ms/step\n",
      "Epoch 47/200\n",
      "1/1 - 0s - loss: 1.5131 - accuracy: 0.4545 - 9ms/epoch - 9ms/step\n",
      "Epoch 48/200\n",
      "1/1 - 0s - loss: 1.4919 - accuracy: 0.4545 - 7ms/epoch - 7ms/step\n",
      "Epoch 49/200\n",
      "1/1 - 0s - loss: 1.4708 - accuracy: 0.4545 - 8ms/epoch - 8ms/step\n",
      "Epoch 50/200\n",
      "1/1 - 0s - loss: 1.4497 - accuracy: 0.4545 - 7ms/epoch - 7ms/step\n",
      "Epoch 51/200\n",
      "1/1 - 0s - loss: 1.4286 - accuracy: 0.5455 - 8ms/epoch - 8ms/step\n",
      "Epoch 52/200\n",
      "1/1 - 0s - loss: 1.4071 - accuracy: 0.5455 - 8ms/epoch - 8ms/step\n",
      "Epoch 53/200\n",
      "1/1 - 0s - loss: 1.3855 - accuracy: 0.5455 - 7ms/epoch - 7ms/step\n",
      "Epoch 54/200\n",
      "1/1 - 0s - loss: 1.3637 - accuracy: 0.6364 - 8ms/epoch - 8ms/step\n",
      "Epoch 55/200\n",
      "1/1 - 0s - loss: 1.3419 - accuracy: 0.6364 - 7ms/epoch - 7ms/step\n",
      "Epoch 56/200\n",
      "1/1 - 0s - loss: 1.3201 - accuracy: 0.6364 - 8ms/epoch - 8ms/step\n",
      "Epoch 57/200\n",
      "1/1 - 0s - loss: 1.2983 - accuracy: 0.6364 - 7ms/epoch - 7ms/step\n",
      "Epoch 58/200\n",
      "1/1 - 0s - loss: 1.2769 - accuracy: 0.6364 - 25ms/epoch - 25ms/step\n",
      "Epoch 59/200\n",
      "1/1 - 0s - loss: 1.2557 - accuracy: 0.6364 - 8ms/epoch - 8ms/step\n",
      "Epoch 60/200\n",
      "1/1 - 0s - loss: 1.2350 - accuracy: 0.6364 - 9ms/epoch - 9ms/step\n",
      "Epoch 61/200\n",
      "1/1 - 0s - loss: 1.2145 - accuracy: 0.6364 - 7ms/epoch - 7ms/step\n",
      "Epoch 62/200\n",
      "1/1 - 0s - loss: 1.1942 - accuracy: 0.6364 - 9ms/epoch - 9ms/step\n",
      "Epoch 63/200\n",
      "1/1 - 0s - loss: 1.1744 - accuracy: 0.7273 - 8ms/epoch - 8ms/step\n",
      "Epoch 64/200\n",
      "1/1 - 0s - loss: 1.1548 - accuracy: 0.7273 - 8ms/epoch - 8ms/step\n",
      "Epoch 65/200\n",
      "1/1 - 0s - loss: 1.1353 - accuracy: 0.7273 - 7ms/epoch - 7ms/step\n",
      "Epoch 66/200\n",
      "1/1 - 0s - loss: 1.1161 - accuracy: 0.7273 - 7ms/epoch - 7ms/step\n",
      "Epoch 67/200\n",
      "1/1 - 0s - loss: 1.0973 - accuracy: 0.7273 - 7ms/epoch - 7ms/step\n",
      "Epoch 68/200\n",
      "1/1 - 0s - loss: 1.0787 - accuracy: 0.7273 - 8ms/epoch - 8ms/step\n",
      "Epoch 69/200\n",
      "1/1 - 0s - loss: 1.0605 - accuracy: 0.7273 - 10ms/epoch - 10ms/step\n",
      "Epoch 70/200\n",
      "1/1 - 0s - loss: 1.0427 - accuracy: 0.7273 - 7ms/epoch - 7ms/step\n",
      "Epoch 71/200\n",
      "1/1 - 0s - loss: 1.0252 - accuracy: 0.7273 - 7ms/epoch - 7ms/step\n",
      "Epoch 72/200\n",
      "1/1 - 0s - loss: 1.0083 - accuracy: 0.7273 - 7ms/epoch - 7ms/step\n",
      "Epoch 73/200\n",
      "1/1 - 0s - loss: 0.9915 - accuracy: 0.7273 - 8ms/epoch - 8ms/step\n",
      "Epoch 74/200\n",
      "1/1 - 0s - loss: 0.9752 - accuracy: 0.7273 - 7ms/epoch - 7ms/step\n",
      "Epoch 75/200\n",
      "1/1 - 0s - loss: 0.9591 - accuracy: 0.7273 - 7ms/epoch - 7ms/step\n",
      "Epoch 76/200\n",
      "1/1 - 0s - loss: 0.9433 - accuracy: 0.7273 - 7ms/epoch - 7ms/step\n",
      "Epoch 77/200\n",
      "1/1 - 0s - loss: 0.9278 - accuracy: 0.7273 - 7ms/epoch - 7ms/step\n",
      "Epoch 78/200\n",
      "1/1 - 0s - loss: 0.9124 - accuracy: 0.7273 - 8ms/epoch - 8ms/step\n",
      "Epoch 79/200\n",
      "1/1 - 0s - loss: 0.8972 - accuracy: 0.7273 - 7ms/epoch - 7ms/step\n",
      "Epoch 80/200\n",
      "1/1 - 0s - loss: 0.8824 - accuracy: 0.7273 - 8ms/epoch - 8ms/step\n",
      "Epoch 81/200\n",
      "1/1 - 0s - loss: 0.8676 - accuracy: 0.7273 - 7ms/epoch - 7ms/step\n",
      "Epoch 82/200\n",
      "1/1 - 0s - loss: 0.8530 - accuracy: 0.7273 - 8ms/epoch - 8ms/step\n",
      "Epoch 83/200\n",
      "1/1 - 0s - loss: 0.8388 - accuracy: 0.7273 - 7ms/epoch - 7ms/step\n",
      "Epoch 84/200\n",
      "1/1 - 0s - loss: 0.8248 - accuracy: 0.7273 - 9ms/epoch - 9ms/step\n",
      "Epoch 85/200\n",
      "1/1 - 0s - loss: 0.8109 - accuracy: 0.7273 - 7ms/epoch - 7ms/step\n",
      "Epoch 86/200\n",
      "1/1 - 0s - loss: 0.7971 - accuracy: 0.7273 - 7ms/epoch - 7ms/step\n",
      "Epoch 87/200\n",
      "1/1 - 0s - loss: 0.7837 - accuracy: 0.7273 - 7ms/epoch - 7ms/step\n",
      "Epoch 88/200\n",
      "1/1 - 0s - loss: 0.7703 - accuracy: 0.7273 - 7ms/epoch - 7ms/step\n",
      "Epoch 89/200\n",
      "1/1 - 0s - loss: 0.7574 - accuracy: 0.7273 - 8ms/epoch - 8ms/step\n",
      "Epoch 90/200\n",
      "1/1 - 0s - loss: 0.7443 - accuracy: 0.7273 - 7ms/epoch - 7ms/step\n",
      "Epoch 91/200\n",
      "1/1 - 0s - loss: 0.7316 - accuracy: 0.7273 - 8ms/epoch - 8ms/step\n",
      "Epoch 92/200\n",
      "1/1 - 0s - loss: 0.7189 - accuracy: 0.7273 - 7ms/epoch - 7ms/step\n",
      "Epoch 93/200\n",
      "1/1 - 0s - loss: 0.7065 - accuracy: 0.7273 - 9ms/epoch - 9ms/step\n",
      "Epoch 94/200\n",
      "1/1 - 0s - loss: 0.6942 - accuracy: 0.7273 - 6ms/epoch - 6ms/step\n",
      "Epoch 95/200\n",
      "1/1 - 0s - loss: 0.6821 - accuracy: 0.7273 - 8ms/epoch - 8ms/step\n",
      "Epoch 96/200\n",
      "1/1 - 0s - loss: 0.6702 - accuracy: 0.7273 - 8ms/epoch - 8ms/step\n",
      "Epoch 97/200\n",
      "1/1 - 0s - loss: 0.6584 - accuracy: 0.7273 - 6ms/epoch - 6ms/step\n",
      "Epoch 98/200\n",
      "1/1 - 0s - loss: 0.6468 - accuracy: 0.8182 - 8ms/epoch - 8ms/step\n",
      "Epoch 99/200\n",
      "1/1 - 0s - loss: 0.6353 - accuracy: 0.8182 - 7ms/epoch - 7ms/step\n",
      "Epoch 100/200\n",
      "1/1 - 0s - loss: 0.6241 - accuracy: 0.8182 - 8ms/epoch - 8ms/step\n",
      "Epoch 101/200\n",
      "1/1 - 0s - loss: 0.6129 - accuracy: 0.8182 - 7ms/epoch - 7ms/step\n",
      "Epoch 102/200\n",
      "1/1 - 0s - loss: 0.6020 - accuracy: 0.8182 - 7ms/epoch - 7ms/step\n",
      "Epoch 103/200\n",
      "1/1 - 0s - loss: 0.5912 - accuracy: 0.8182 - 7ms/epoch - 7ms/step\n",
      "Epoch 104/200\n",
      "1/1 - 0s - loss: 0.5806 - accuracy: 0.8182 - 8ms/epoch - 8ms/step\n",
      "Epoch 105/200\n",
      "1/1 - 0s - loss: 0.5702 - accuracy: 0.8182 - 7ms/epoch - 7ms/step\n",
      "Epoch 106/200\n",
      "1/1 - 0s - loss: 0.5599 - accuracy: 0.8182 - 7ms/epoch - 7ms/step\n",
      "Epoch 107/200\n",
      "1/1 - 0s - loss: 0.5497 - accuracy: 0.8182 - 7ms/epoch - 7ms/step\n",
      "Epoch 108/200\n",
      "1/1 - 0s - loss: 0.5397 - accuracy: 0.8182 - 7ms/epoch - 7ms/step\n",
      "Epoch 109/200\n",
      "1/1 - 0s - loss: 0.5301 - accuracy: 0.8182 - 8ms/epoch - 8ms/step\n",
      "Epoch 110/200\n",
      "1/1 - 0s - loss: 0.5204 - accuracy: 0.9091 - 7ms/epoch - 7ms/step\n",
      "Epoch 111/200\n",
      "1/1 - 0s - loss: 0.5110 - accuracy: 0.9091 - 8ms/epoch - 8ms/step\n",
      "Epoch 112/200\n",
      "1/1 - 0s - loss: 0.5017 - accuracy: 0.9091 - 6ms/epoch - 6ms/step\n",
      "Epoch 113/200\n",
      "1/1 - 0s - loss: 0.4926 - accuracy: 0.9091 - 8ms/epoch - 8ms/step\n",
      "Epoch 114/200\n",
      "1/1 - 0s - loss: 0.4834 - accuracy: 0.9091 - 6ms/epoch - 6ms/step\n",
      "Epoch 115/200\n",
      "1/1 - 0s - loss: 0.4747 - accuracy: 0.9091 - 8ms/epoch - 8ms/step\n",
      "Epoch 116/200\n",
      "1/1 - 0s - loss: 0.4660 - accuracy: 0.9091 - 13ms/epoch - 13ms/step\n",
      "Epoch 117/200\n",
      "1/1 - 0s - loss: 0.4574 - accuracy: 0.9091 - 8ms/epoch - 8ms/step\n",
      "Epoch 118/200\n",
      "1/1 - 0s - loss: 0.4490 - accuracy: 0.9091 - 8ms/epoch - 8ms/step\n",
      "Epoch 119/200\n",
      "1/1 - 0s - loss: 0.4407 - accuracy: 0.9091 - 7ms/epoch - 7ms/step\n",
      "Epoch 120/200\n",
      "1/1 - 0s - loss: 0.4326 - accuracy: 0.9091 - 7ms/epoch - 7ms/step\n",
      "Epoch 121/200\n",
      "1/1 - 0s - loss: 0.4246 - accuracy: 0.9091 - 7ms/epoch - 7ms/step\n",
      "Epoch 122/200\n",
      "1/1 - 0s - loss: 0.4168 - accuracy: 0.9091 - 7ms/epoch - 7ms/step\n",
      "Epoch 123/200\n",
      "1/1 - 0s - loss: 0.4091 - accuracy: 0.9091 - 8ms/epoch - 8ms/step\n",
      "Epoch 124/200\n",
      "1/1 - 0s - loss: 0.4014 - accuracy: 0.9091 - 7ms/epoch - 7ms/step\n",
      "Epoch 125/200\n",
      "1/1 - 0s - loss: 0.3940 - accuracy: 0.9091 - 8ms/epoch - 8ms/step\n",
      "Epoch 126/200\n",
      "1/1 - 0s - loss: 0.3867 - accuracy: 0.9091 - 7ms/epoch - 7ms/step\n",
      "Epoch 127/200\n",
      "1/1 - 0s - loss: 0.3794 - accuracy: 0.9091 - 8ms/epoch - 8ms/step\n",
      "Epoch 128/200\n",
      "1/1 - 0s - loss: 0.3724 - accuracy: 0.9091 - 6ms/epoch - 6ms/step\n",
      "Epoch 129/200\n",
      "1/1 - 0s - loss: 0.3654 - accuracy: 1.0000 - 7ms/epoch - 7ms/step\n",
      "Epoch 130/200\n",
      "1/1 - 0s - loss: 0.3586 - accuracy: 1.0000 - 6ms/epoch - 6ms/step\n",
      "Epoch 131/200\n",
      "1/1 - 0s - loss: 0.3520 - accuracy: 1.0000 - 7ms/epoch - 7ms/step\n",
      "Epoch 132/200\n",
      "1/1 - 0s - loss: 0.3454 - accuracy: 1.0000 - 7ms/epoch - 7ms/step\n",
      "Epoch 133/200\n",
      "1/1 - 0s - loss: 0.3390 - accuracy: 1.0000 - 7ms/epoch - 7ms/step\n",
      "Epoch 134/200\n",
      "1/1 - 0s - loss: 0.3326 - accuracy: 1.0000 - 7ms/epoch - 7ms/step\n",
      "Epoch 135/200\n",
      "1/1 - 0s - loss: 0.3265 - accuracy: 1.0000 - 7ms/epoch - 7ms/step\n",
      "Epoch 136/200\n",
      "1/1 - 0s - loss: 0.3203 - accuracy: 1.0000 - 8ms/epoch - 8ms/step\n",
      "Epoch 137/200\n",
      "1/1 - 0s - loss: 0.3143 - accuracy: 1.0000 - 7ms/epoch - 7ms/step\n",
      "Epoch 138/200\n",
      "1/1 - 0s - loss: 0.3084 - accuracy: 1.0000 - 9ms/epoch - 9ms/step\n",
      "Epoch 139/200\n",
      "1/1 - 0s - loss: 0.3027 - accuracy: 1.0000 - 7ms/epoch - 7ms/step\n",
      "Epoch 140/200\n",
      "1/1 - 0s - loss: 0.2970 - accuracy: 1.0000 - 9ms/epoch - 9ms/step\n",
      "Epoch 141/200\n",
      "1/1 - 0s - loss: 0.2914 - accuracy: 1.0000 - 7ms/epoch - 7ms/step\n",
      "Epoch 142/200\n",
      "1/1 - 0s - loss: 0.2860 - accuracy: 1.0000 - 8ms/epoch - 8ms/step\n",
      "Epoch 143/200\n",
      "1/1 - 0s - loss: 0.2807 - accuracy: 1.0000 - 7ms/epoch - 7ms/step\n",
      "Epoch 144/200\n",
      "1/1 - 0s - loss: 0.2754 - accuracy: 1.0000 - 8ms/epoch - 8ms/step\n",
      "Epoch 145/200\n",
      "1/1 - 0s - loss: 0.2704 - accuracy: 1.0000 - 7ms/epoch - 7ms/step\n",
      "Epoch 146/200\n",
      "1/1 - 0s - loss: 0.2653 - accuracy: 1.0000 - 7ms/epoch - 7ms/step\n",
      "Epoch 147/200\n",
      "1/1 - 0s - loss: 0.2604 - accuracy: 1.0000 - 7ms/epoch - 7ms/step\n",
      "Epoch 148/200\n",
      "1/1 - 0s - loss: 0.2556 - accuracy: 1.0000 - 7ms/epoch - 7ms/step\n",
      "Epoch 149/200\n",
      "1/1 - 0s - loss: 0.2507 - accuracy: 1.0000 - 7ms/epoch - 7ms/step\n",
      "Epoch 150/200\n",
      "1/1 - 0s - loss: 0.2462 - accuracy: 1.0000 - 7ms/epoch - 7ms/step\n",
      "Epoch 151/200\n",
      "1/1 - 0s - loss: 0.2417 - accuracy: 1.0000 - 7ms/epoch - 7ms/step\n",
      "Epoch 152/200\n",
      "1/1 - 0s - loss: 0.2372 - accuracy: 1.0000 - 7ms/epoch - 7ms/step\n",
      "Epoch 153/200\n",
      "1/1 - 0s - loss: 0.2328 - accuracy: 1.0000 - 9ms/epoch - 9ms/step\n",
      "Epoch 154/200\n",
      "1/1 - 0s - loss: 0.2286 - accuracy: 1.0000 - 7ms/epoch - 7ms/step\n",
      "Epoch 155/200\n",
      "1/1 - 0s - loss: 0.2244 - accuracy: 1.0000 - 8ms/epoch - 8ms/step\n",
      "Epoch 156/200\n",
      "1/1 - 0s - loss: 0.2203 - accuracy: 1.0000 - 13ms/epoch - 13ms/step\n",
      "Epoch 157/200\n",
      "1/1 - 0s - loss: 0.2163 - accuracy: 1.0000 - 9ms/epoch - 9ms/step\n",
      "Epoch 158/200\n",
      "1/1 - 0s - loss: 0.2123 - accuracy: 1.0000 - 8ms/epoch - 8ms/step\n",
      "Epoch 159/200\n",
      "1/1 - 0s - loss: 0.2085 - accuracy: 1.0000 - 6ms/epoch - 6ms/step\n",
      "Epoch 160/200\n",
      "1/1 - 0s - loss: 0.2047 - accuracy: 1.0000 - 7ms/epoch - 7ms/step\n",
      "Epoch 161/200\n",
      "1/1 - 0s - loss: 0.2010 - accuracy: 1.0000 - 8ms/epoch - 8ms/step\n",
      "Epoch 162/200\n",
      "1/1 - 0s - loss: 0.1974 - accuracy: 1.0000 - 7ms/epoch - 7ms/step\n",
      "Epoch 163/200\n",
      "1/1 - 0s - loss: 0.1939 - accuracy: 1.0000 - 9ms/epoch - 9ms/step\n",
      "Epoch 164/200\n",
      "1/1 - 0s - loss: 0.1904 - accuracy: 1.0000 - 7ms/epoch - 7ms/step\n",
      "Epoch 165/200\n",
      "1/1 - 0s - loss: 0.1869 - accuracy: 1.0000 - 7ms/epoch - 7ms/step\n",
      "Epoch 166/200\n",
      "1/1 - 0s - loss: 0.1837 - accuracy: 1.0000 - 11ms/epoch - 11ms/step\n",
      "Epoch 167/200\n",
      "1/1 - 0s - loss: 0.1804 - accuracy: 1.0000 - 7ms/epoch - 7ms/step\n",
      "Epoch 168/200\n",
      "1/1 - 0s - loss: 0.1772 - accuracy: 1.0000 - 9ms/epoch - 9ms/step\n",
      "Epoch 169/200\n",
      "1/1 - 0s - loss: 0.1741 - accuracy: 1.0000 - 7ms/epoch - 7ms/step\n",
      "Epoch 170/200\n",
      "1/1 - 0s - loss: 0.1710 - accuracy: 1.0000 - 7ms/epoch - 7ms/step\n",
      "Epoch 171/200\n",
      "1/1 - 0s - loss: 0.1681 - accuracy: 1.0000 - 8ms/epoch - 8ms/step\n",
      "Epoch 172/200\n",
      "1/1 - 0s - loss: 0.1651 - accuracy: 1.0000 - 7ms/epoch - 7ms/step\n",
      "Epoch 173/200\n",
      "1/1 - 0s - loss: 0.1623 - accuracy: 1.0000 - 8ms/epoch - 8ms/step\n",
      "Epoch 174/200\n",
      "1/1 - 0s - loss: 0.1595 - accuracy: 1.0000 - 7ms/epoch - 7ms/step\n",
      "Epoch 175/200\n",
      "1/1 - 0s - loss: 0.1568 - accuracy: 1.0000 - 9ms/epoch - 9ms/step\n",
      "Epoch 176/200\n",
      "1/1 - 0s - loss: 0.1541 - accuracy: 1.0000 - 7ms/epoch - 7ms/step\n",
      "Epoch 177/200\n",
      "1/1 - 0s - loss: 0.1514 - accuracy: 1.0000 - 7ms/epoch - 7ms/step\n",
      "Epoch 178/200\n",
      "1/1 - 0s - loss: 0.1488 - accuracy: 1.0000 - 6ms/epoch - 6ms/step\n",
      "Epoch 179/200\n",
      "1/1 - 0s - loss: 0.1463 - accuracy: 1.0000 - 7ms/epoch - 7ms/step\n",
      "Epoch 180/200\n",
      "1/1 - 0s - loss: 0.1438 - accuracy: 1.0000 - 6ms/epoch - 6ms/step\n",
      "Epoch 181/200\n",
      "1/1 - 0s - loss: 0.1415 - accuracy: 1.0000 - 7ms/epoch - 7ms/step\n",
      "Epoch 182/200\n",
      "1/1 - 0s - loss: 0.1391 - accuracy: 1.0000 - 9ms/epoch - 9ms/step\n",
      "Epoch 183/200\n",
      "1/1 - 0s - loss: 0.1368 - accuracy: 1.0000 - 7ms/epoch - 7ms/step\n",
      "Epoch 184/200\n",
      "1/1 - 0s - loss: 0.1345 - accuracy: 1.0000 - 9ms/epoch - 9ms/step\n",
      "Epoch 185/200\n",
      "1/1 - 0s - loss: 0.1323 - accuracy: 1.0000 - 7ms/epoch - 7ms/step\n",
      "Epoch 186/200\n",
      "1/1 - 0s - loss: 0.1301 - accuracy: 1.0000 - 7ms/epoch - 7ms/step\n",
      "Epoch 187/200\n",
      "1/1 - 0s - loss: 0.1280 - accuracy: 1.0000 - 7ms/epoch - 7ms/step\n",
      "Epoch 188/200\n",
      "1/1 - 0s - loss: 0.1259 - accuracy: 1.0000 - 9ms/epoch - 9ms/step\n",
      "Epoch 189/200\n",
      "1/1 - 0s - loss: 0.1239 - accuracy: 1.0000 - 7ms/epoch - 7ms/step\n",
      "Epoch 190/200\n",
      "1/1 - 0s - loss: 0.1219 - accuracy: 1.0000 - 7ms/epoch - 7ms/step\n",
      "Epoch 191/200\n",
      "1/1 - 0s - loss: 0.1199 - accuracy: 1.0000 - 7ms/epoch - 7ms/step\n",
      "Epoch 192/200\n",
      "1/1 - 0s - loss: 0.1180 - accuracy: 1.0000 - 13ms/epoch - 13ms/step\n",
      "Epoch 193/200\n",
      "1/1 - 0s - loss: 0.1161 - accuracy: 1.0000 - 9ms/epoch - 9ms/step\n",
      "Epoch 194/200\n",
      "1/1 - 0s - loss: 0.1143 - accuracy: 1.0000 - 8ms/epoch - 8ms/step\n",
      "Epoch 195/200\n",
      "1/1 - 0s - loss: 0.1125 - accuracy: 1.0000 - 8ms/epoch - 8ms/step\n",
      "Epoch 196/200\n",
      "1/1 - 0s - loss: 0.1107 - accuracy: 1.0000 - 8ms/epoch - 8ms/step\n",
      "Epoch 197/200\n",
      "1/1 - 0s - loss: 0.1090 - accuracy: 1.0000 - 7ms/epoch - 7ms/step\n",
      "Epoch 198/200\n",
      "1/1 - 0s - loss: 0.1073 - accuracy: 1.0000 - 8ms/epoch - 8ms/step\n",
      "Epoch 199/200\n",
      "1/1 - 0s - loss: 0.1056 - accuracy: 1.0000 - 6ms/epoch - 6ms/step\n",
      "Epoch 200/200\n",
      "1/1 - 0s - loss: 0.1040 - accuracy: 1.0000 - 8ms/epoch - 8ms/step\n"
     ]
    },
    {
     "data": {
      "text/plain": [
       "<keras.callbacks.History at 0x1ddbd546fe0>"
      ]
     },
     "execution_count": 16,
     "metadata": {},
     "output_type": "execute_result"
    }
   ],
   "source": [
    "embedding_dim = 10\n",
    "hidden_units = 32\n",
    "\n",
    "model = Sequential()\n",
    "model.add(Embedding(vocab_size, embedding_dim))\n",
    "model.add(SimpleRNN(hidden_units))\n",
    "model.add(Dense(vocab_size, activation='softmax'))\n",
    "model.compile(loss='categorical_crossentropy', optimizer='adam', metrics=['accuracy'])\n",
    "model.fit(X, y, epochs=200, verbose=2)"
   ]
  },
  {
   "cell_type": "code",
   "execution_count": 17,
   "id": "af984c59",
   "metadata": {},
   "outputs": [],
   "source": [
    "def sentence_generation(model, tokenizer, current_word, n): # 모델, 토크나이저, 현재 단어, 반복할 횟수\n",
    "    init_word = current_word\n",
    "    sentence = ''\n",
    "\n",
    "    # n번 반복\n",
    "    for _ in range(n):\n",
    "        # 현재 단어에 대한 정수 인코딩과 패딩\n",
    "        encoded = tokenizer.texts_to_sequences([current_word])[0]\n",
    "        encoded = pad_sequences([encoded], maxlen=5, padding='pre')\n",
    "        # 입력한 X(현재 단어)에 대해서 Y를 예측하고 Y(예측한 단어)를 result에 저장.\n",
    "        result = model.predict(encoded, verbose=0)\n",
    "        result = np.argmax(result, axis=1)\n",
    "\n",
    "        for word, index in tokenizer.word_index.items(): \n",
    "            # 만약 예측한 단어와 인덱스와 동일한 단어가 있다면 break\n",
    "            if index == result:\n",
    "                break\n",
    "\n",
    "        # 현재 단어 + ' ' + 예측 단어를 현재 단어로 변경\n",
    "        current_word = current_word + ' '  + word\n",
    "\n",
    "        # 예측 단어를 문장에 저장\n",
    "        sentence = sentence + ' ' + word\n",
    "\n",
    "    sentence = init_word + sentence\n",
    "    return sentence"
   ]
  },
  {
   "cell_type": "code",
   "execution_count": 25,
   "id": "07242ea4",
   "metadata": {},
   "outputs": [
    {
     "name": "stdout",
     "output_type": "stream",
     "text": [
      "경마장의 말이 말이 고와야 오는\n"
     ]
    }
   ],
   "source": [
    "print(sentence_generation(model, tokenizer, '경마장의', 4))"
   ]
  },
  {
   "cell_type": "code",
   "execution_count": 23,
   "id": "bc9a065b",
   "metadata": {},
   "outputs": [
    {
     "name": "stdout",
     "output_type": "stream",
     "text": [
      "그의 말이 법이다\n"
     ]
    }
   ],
   "source": [
    "print(sentence_generation(model, tokenizer, '그의', 2))"
   ]
  },
  {
   "cell_type": "code",
   "execution_count": 20,
   "id": "79fe858d",
   "metadata": {},
   "outputs": [
    {
     "name": "stdout",
     "output_type": "stream",
     "text": [
      "가는 말이 고와야 오는 말이 곱다\n"
     ]
    }
   ],
   "source": [
    "print(sentence_generation(model, tokenizer, '가는', 5))"
   ]
  },
  {
   "cell_type": "code",
   "execution_count": 21,
   "id": "8fcd79cb",
   "metadata": {},
   "outputs": [
    {
     "name": "stdout",
     "output_type": "stream",
     "text": [
      "경마장에 있는 말이 뛰고 있다\n"
     ]
    }
   ],
   "source": [
    "print(sentence_generation(model, tokenizer, '경마장에', 4))"
   ]
  },
  {
   "cell_type": "code",
   "execution_count": null,
   "id": "43e223ee",
   "metadata": {},
   "outputs": [],
   "source": []
  },
  {
   "cell_type": "code",
   "execution_count": null,
   "id": "c1e6278b",
   "metadata": {},
   "outputs": [],
   "source": []
  }
 ],
 "metadata": {
  "kernelspec": {
   "display_name": "python",
   "language": "python",
   "name": "python3"
  },
  "language_info": {
   "codemirror_mode": {
    "name": "ipython",
    "version": 3
   },
   "file_extension": ".py",
   "mimetype": "text/x-python",
   "name": "python",
   "nbconvert_exporter": "python",
   "pygments_lexer": "ipython3",
   "version": "3.10.13"
  }
 },
 "nbformat": 4,
 "nbformat_minor": 5
}
