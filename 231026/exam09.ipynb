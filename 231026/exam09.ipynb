{
 "cells": [
  {
   "cell_type": "code",
   "execution_count": 2,
   "metadata": {},
   "outputs": [],
   "source": [
    "import numpy as np\n",
    "\n",
    "w1 = np.array([.5, .5])\n",
    "w2 = np.array([.5, .5])\n",
    "b1, b2 = -.7, .7\n",
    "\n",
    "def activaton(s):\n",
    "    if s > 0: return 1\n",
    "    else : return -1\n",
    "\n",
    "def perceptron(x, w, b):\n",
    "    y = np.sum(w * x) + b\n",
    "    return activaton(y)"
   ]
  },
  {
   "cell_type": "code",
   "execution_count": 3,
   "metadata": {},
   "outputs": [],
   "source": [
    "def AND(x1,x2):\n",
    "    return perceptron(np.array([x1, x2]), w1, b1)\n",
    "def NAND(x1,x2):\n",
    "    return perceptron(np.array([x1, x2]), -w1, -b1)\n",
    "def OR(x1,x2):\n",
    "    return perceptron(np.array([x1, x2]), w2, b2)\n",
    "def XOR(x1,x2):\n",
    "    return AND(NAND(x1, x2), OR(x1, x2))"
   ]
  },
  {
   "cell_type": "code",
   "execution_count": 4,
   "metadata": {},
   "outputs": [
    {
     "name": "stdout",
     "output_type": "stream",
     "text": [
      "--- 다층 퍼셉트로으로 구현한 XOR 회로 ---\n",
      "-1  -1 :  -1\n",
      " 1  -1 :   1\n",
      "-1   1 :   1\n",
      " 1   1 :  -1\n"
     ]
    }
   ],
   "source": [
    "print(\"--- 다층 퍼셉트로으로 구현한 XOR 회로 ---\")\n",
    "for x in [(-1, -1), (1, -1), (-1, 1), (1, 1)]:\n",
    "    y = XOR(x[0], x[1])\n",
    "    print(\"{:2d} {:3d} : {:3d}\".format(x[0], x[1], y))"
   ]
  },
  {
   "cell_type": "code",
   "execution_count": null,
   "metadata": {},
   "outputs": [],
   "source": []
  }
 ],
 "metadata": {
  "kernelspec": {
   "display_name": "python",
   "language": "python",
   "name": "python3"
  },
  "language_info": {
   "codemirror_mode": {
    "name": "ipython",
    "version": 3
   },
   "file_extension": ".py",
   "mimetype": "text/x-python",
   "name": "python",
   "nbconvert_exporter": "python",
   "pygments_lexer": "ipython3",
   "version": "3.10.13"
  }
 },
 "nbformat": 4,
 "nbformat_minor": 2
}
